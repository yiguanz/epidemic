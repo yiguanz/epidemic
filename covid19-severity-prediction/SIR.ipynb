{
 "cells": [
  {
   "cell_type": "code",
   "execution_count": 1,
   "metadata": {},
   "outputs": [],
   "source": [
    "data = read.csv(\"/home/ubuntu/covid19-severity-prediction/county_csv/0_Autauga_36047\", head = TRUE)"
   ]
  },
  {
   "cell_type": "code",
   "execution_count": 2,
   "metadata": {},
   "outputs": [
    {
     "data": {
      "text/html": [
       "<table>\n",
       "<caption>A data.frame: 129 × 5</caption>\n",
       "<thead>\n",
       "\t<tr><th scope=col>X</th><th scope=col>Days</th><th scope=col>S</th><th scope=col>I</th><th scope=col>D</th></tr>\n",
       "\t<tr><th scope=col>&lt;int&gt;</th><th scope=col>&lt;int&gt;</th><th scope=col>&lt;dbl&gt;</th><th scope=col>&lt;int&gt;</th><th scope=col>&lt;int&gt;</th></tr>\n",
       "</thead>\n",
       "<tbody>\n",
       "\t<tr><td> 0</td><td> 0</td><td>2582830</td><td>0</td><td>0</td></tr>\n",
       "\t<tr><td> 1</td><td> 1</td><td>2582830</td><td>0</td><td>0</td></tr>\n",
       "\t<tr><td> 2</td><td> 2</td><td>2582830</td><td>0</td><td>0</td></tr>\n",
       "\t<tr><td> 3</td><td> 3</td><td>2582830</td><td>0</td><td>0</td></tr>\n",
       "\t<tr><td> 4</td><td> 4</td><td>2582830</td><td>0</td><td>0</td></tr>\n",
       "\t<tr><td> 5</td><td> 5</td><td>2582830</td><td>0</td><td>0</td></tr>\n",
       "\t<tr><td> 6</td><td> 6</td><td>2582830</td><td>0</td><td>0</td></tr>\n",
       "\t<tr><td> 7</td><td> 7</td><td>2582830</td><td>0</td><td>0</td></tr>\n",
       "\t<tr><td> 8</td><td> 8</td><td>2582830</td><td>0</td><td>0</td></tr>\n",
       "\t<tr><td> 9</td><td> 9</td><td>2582830</td><td>0</td><td>0</td></tr>\n",
       "\t<tr><td>10</td><td>10</td><td>2582830</td><td>0</td><td>0</td></tr>\n",
       "\t<tr><td>11</td><td>11</td><td>2582830</td><td>0</td><td>0</td></tr>\n",
       "\t<tr><td>12</td><td>12</td><td>2582830</td><td>0</td><td>0</td></tr>\n",
       "\t<tr><td>13</td><td>13</td><td>2582830</td><td>0</td><td>0</td></tr>\n",
       "\t<tr><td>14</td><td>14</td><td>2582830</td><td>0</td><td>0</td></tr>\n",
       "\t<tr><td>15</td><td>15</td><td>2582830</td><td>0</td><td>0</td></tr>\n",
       "\t<tr><td>16</td><td>16</td><td>2582830</td><td>0</td><td>0</td></tr>\n",
       "\t<tr><td>17</td><td>17</td><td>2582830</td><td>0</td><td>0</td></tr>\n",
       "\t<tr><td>18</td><td>18</td><td>2582830</td><td>0</td><td>0</td></tr>\n",
       "\t<tr><td>19</td><td>19</td><td>2582830</td><td>0</td><td>0</td></tr>\n",
       "\t<tr><td>20</td><td>20</td><td>2582830</td><td>0</td><td>0</td></tr>\n",
       "\t<tr><td>21</td><td>21</td><td>2582830</td><td>0</td><td>0</td></tr>\n",
       "\t<tr><td>22</td><td>22</td><td>2582830</td><td>0</td><td>0</td></tr>\n",
       "\t<tr><td>23</td><td>23</td><td>2582830</td><td>0</td><td>0</td></tr>\n",
       "\t<tr><td>24</td><td>24</td><td>2582830</td><td>0</td><td>0</td></tr>\n",
       "\t<tr><td>25</td><td>25</td><td>2582830</td><td>0</td><td>0</td></tr>\n",
       "\t<tr><td>26</td><td>26</td><td>2582830</td><td>0</td><td>0</td></tr>\n",
       "\t<tr><td>27</td><td>27</td><td>2582830</td><td>0</td><td>0</td></tr>\n",
       "\t<tr><td>28</td><td>28</td><td>2582830</td><td>0</td><td>0</td></tr>\n",
       "\t<tr><td>29</td><td>29</td><td>2582830</td><td>0</td><td>0</td></tr>\n",
       "\t<tr><td>⋮</td><td>⋮</td><td>⋮</td><td>⋮</td><td>⋮</td></tr>\n",
       "\t<tr><td> 99</td><td> 99</td><td>2532730</td><td>44872</td><td>5228</td></tr>\n",
       "\t<tr><td>100</td><td>100</td><td>2531991</td><td>45519</td><td>5320</td></tr>\n",
       "\t<tr><td>101</td><td>101</td><td>2531145</td><td>46275</td><td>5410</td></tr>\n",
       "\t<tr><td>102</td><td>102</td><td>2530483</td><td>46839</td><td>5508</td></tr>\n",
       "\t<tr><td>103</td><td>103</td><td>2530078</td><td>47183</td><td>5569</td></tr>\n",
       "\t<tr><td>104</td><td>104</td><td>2529613</td><td>47579</td><td>5638</td></tr>\n",
       "\t<tr><td>105</td><td>105</td><td>2529179</td><td>47974</td><td>5677</td></tr>\n",
       "\t<tr><td>106</td><td>106</td><td>2528497</td><td>48550</td><td>5783</td></tr>\n",
       "\t<tr><td>107</td><td>107</td><td>2527979</td><td>48998</td><td>5853</td></tr>\n",
       "\t<tr><td>108</td><td>108</td><td>2527445</td><td>49461</td><td>5924</td></tr>\n",
       "\t<tr><td>109</td><td>109</td><td>2527037</td><td>49817</td><td>5976</td></tr>\n",
       "\t<tr><td>110</td><td>110</td><td>2526741</td><td>50072</td><td>6017</td></tr>\n",
       "\t<tr><td>111</td><td>111</td><td>2526422</td><td>50331</td><td>6077</td></tr>\n",
       "\t<tr><td>112</td><td>112</td><td>2526036</td><td>50667</td><td>6127</td></tr>\n",
       "\t<tr><td>113</td><td>113</td><td>2525541</td><td>51095</td><td>6194</td></tr>\n",
       "\t<tr><td>114</td><td>114</td><td>2525003</td><td>51581</td><td>6246</td></tr>\n",
       "\t<tr><td>115</td><td>115</td><td>2524561</td><td>51991</td><td>6278</td></tr>\n",
       "\t<tr><td>116</td><td>116</td><td>2524228</td><td>52298</td><td>6304</td></tr>\n",
       "\t<tr><td>117</td><td>117</td><td>2524015</td><td>52485</td><td>6330</td></tr>\n",
       "\t<tr><td>118</td><td>118</td><td>2523796</td><td>52681</td><td>6353</td></tr>\n",
       "\t<tr><td>119</td><td>119</td><td>2523540</td><td>52889</td><td>6401</td></tr>\n",
       "\t<tr><td>120</td><td>120</td><td>2523010</td><td>53385</td><td>6435</td></tr>\n",
       "\t<tr><td>121</td><td>121</td><td>2522732</td><td>53639</td><td>6459</td></tr>\n",
       "\t<tr><td>122</td><td>122</td><td>2522449</td><td>53902</td><td>6479</td></tr>\n",
       "\t<tr><td>123</td><td>123</td><td>2522151</td><td>54175</td><td>6504</td></tr>\n",
       "\t<tr><td>124</td><td>124</td><td>2521953</td><td>54360</td><td>6517</td></tr>\n",
       "\t<tr><td>125</td><td>125</td><td>2521737</td><td>54560</td><td>6533</td></tr>\n",
       "\t<tr><td>126</td><td>126</td><td>2521507</td><td>54779</td><td>6544</td></tr>\n",
       "\t<tr><td>127</td><td>127</td><td>2521122</td><td>55147</td><td>6561</td></tr>\n",
       "\t<tr><td>128</td><td>128</td><td>2520802</td><td>55446</td><td>6582</td></tr>\n",
       "</tbody>\n",
       "</table>\n"
      ],
      "text/latex": [
       "A data.frame: 129 × 5\n",
       "\\begin{tabular}{lllll}\n",
       " X & Days & S & I & D\\\\\n",
       " <int> & <int> & <dbl> & <int> & <int>\\\\\n",
       "\\hline\n",
       "\t  0 &  0 & 2582830 & 0 & 0\\\\\n",
       "\t  1 &  1 & 2582830 & 0 & 0\\\\\n",
       "\t  2 &  2 & 2582830 & 0 & 0\\\\\n",
       "\t  3 &  3 & 2582830 & 0 & 0\\\\\n",
       "\t  4 &  4 & 2582830 & 0 & 0\\\\\n",
       "\t  5 &  5 & 2582830 & 0 & 0\\\\\n",
       "\t  6 &  6 & 2582830 & 0 & 0\\\\\n",
       "\t  7 &  7 & 2582830 & 0 & 0\\\\\n",
       "\t  8 &  8 & 2582830 & 0 & 0\\\\\n",
       "\t  9 &  9 & 2582830 & 0 & 0\\\\\n",
       "\t 10 & 10 & 2582830 & 0 & 0\\\\\n",
       "\t 11 & 11 & 2582830 & 0 & 0\\\\\n",
       "\t 12 & 12 & 2582830 & 0 & 0\\\\\n",
       "\t 13 & 13 & 2582830 & 0 & 0\\\\\n",
       "\t 14 & 14 & 2582830 & 0 & 0\\\\\n",
       "\t 15 & 15 & 2582830 & 0 & 0\\\\\n",
       "\t 16 & 16 & 2582830 & 0 & 0\\\\\n",
       "\t 17 & 17 & 2582830 & 0 & 0\\\\\n",
       "\t 18 & 18 & 2582830 & 0 & 0\\\\\n",
       "\t 19 & 19 & 2582830 & 0 & 0\\\\\n",
       "\t 20 & 20 & 2582830 & 0 & 0\\\\\n",
       "\t 21 & 21 & 2582830 & 0 & 0\\\\\n",
       "\t 22 & 22 & 2582830 & 0 & 0\\\\\n",
       "\t 23 & 23 & 2582830 & 0 & 0\\\\\n",
       "\t 24 & 24 & 2582830 & 0 & 0\\\\\n",
       "\t 25 & 25 & 2582830 & 0 & 0\\\\\n",
       "\t 26 & 26 & 2582830 & 0 & 0\\\\\n",
       "\t 27 & 27 & 2582830 & 0 & 0\\\\\n",
       "\t 28 & 28 & 2582830 & 0 & 0\\\\\n",
       "\t 29 & 29 & 2582830 & 0 & 0\\\\\n",
       "\t ⋮ & ⋮ & ⋮ & ⋮ & ⋮\\\\\n",
       "\t  99 &  99 & 2532730 & 44872 & 5228\\\\\n",
       "\t 100 & 100 & 2531991 & 45519 & 5320\\\\\n",
       "\t 101 & 101 & 2531145 & 46275 & 5410\\\\\n",
       "\t 102 & 102 & 2530483 & 46839 & 5508\\\\\n",
       "\t 103 & 103 & 2530078 & 47183 & 5569\\\\\n",
       "\t 104 & 104 & 2529613 & 47579 & 5638\\\\\n",
       "\t 105 & 105 & 2529179 & 47974 & 5677\\\\\n",
       "\t 106 & 106 & 2528497 & 48550 & 5783\\\\\n",
       "\t 107 & 107 & 2527979 & 48998 & 5853\\\\\n",
       "\t 108 & 108 & 2527445 & 49461 & 5924\\\\\n",
       "\t 109 & 109 & 2527037 & 49817 & 5976\\\\\n",
       "\t 110 & 110 & 2526741 & 50072 & 6017\\\\\n",
       "\t 111 & 111 & 2526422 & 50331 & 6077\\\\\n",
       "\t 112 & 112 & 2526036 & 50667 & 6127\\\\\n",
       "\t 113 & 113 & 2525541 & 51095 & 6194\\\\\n",
       "\t 114 & 114 & 2525003 & 51581 & 6246\\\\\n",
       "\t 115 & 115 & 2524561 & 51991 & 6278\\\\\n",
       "\t 116 & 116 & 2524228 & 52298 & 6304\\\\\n",
       "\t 117 & 117 & 2524015 & 52485 & 6330\\\\\n",
       "\t 118 & 118 & 2523796 & 52681 & 6353\\\\\n",
       "\t 119 & 119 & 2523540 & 52889 & 6401\\\\\n",
       "\t 120 & 120 & 2523010 & 53385 & 6435\\\\\n",
       "\t 121 & 121 & 2522732 & 53639 & 6459\\\\\n",
       "\t 122 & 122 & 2522449 & 53902 & 6479\\\\\n",
       "\t 123 & 123 & 2522151 & 54175 & 6504\\\\\n",
       "\t 124 & 124 & 2521953 & 54360 & 6517\\\\\n",
       "\t 125 & 125 & 2521737 & 54560 & 6533\\\\\n",
       "\t 126 & 126 & 2521507 & 54779 & 6544\\\\\n",
       "\t 127 & 127 & 2521122 & 55147 & 6561\\\\\n",
       "\t 128 & 128 & 2520802 & 55446 & 6582\\\\\n",
       "\\end{tabular}\n"
      ],
      "text/markdown": [
       "\n",
       "A data.frame: 129 × 5\n",
       "\n",
       "| X &lt;int&gt; | Days &lt;int&gt; | S &lt;dbl&gt; | I &lt;int&gt; | D &lt;int&gt; |\n",
       "|---|---|---|---|---|\n",
       "|  0 |  0 | 2582830 | 0 | 0 |\n",
       "|  1 |  1 | 2582830 | 0 | 0 |\n",
       "|  2 |  2 | 2582830 | 0 | 0 |\n",
       "|  3 |  3 | 2582830 | 0 | 0 |\n",
       "|  4 |  4 | 2582830 | 0 | 0 |\n",
       "|  5 |  5 | 2582830 | 0 | 0 |\n",
       "|  6 |  6 | 2582830 | 0 | 0 |\n",
       "|  7 |  7 | 2582830 | 0 | 0 |\n",
       "|  8 |  8 | 2582830 | 0 | 0 |\n",
       "|  9 |  9 | 2582830 | 0 | 0 |\n",
       "| 10 | 10 | 2582830 | 0 | 0 |\n",
       "| 11 | 11 | 2582830 | 0 | 0 |\n",
       "| 12 | 12 | 2582830 | 0 | 0 |\n",
       "| 13 | 13 | 2582830 | 0 | 0 |\n",
       "| 14 | 14 | 2582830 | 0 | 0 |\n",
       "| 15 | 15 | 2582830 | 0 | 0 |\n",
       "| 16 | 16 | 2582830 | 0 | 0 |\n",
       "| 17 | 17 | 2582830 | 0 | 0 |\n",
       "| 18 | 18 | 2582830 | 0 | 0 |\n",
       "| 19 | 19 | 2582830 | 0 | 0 |\n",
       "| 20 | 20 | 2582830 | 0 | 0 |\n",
       "| 21 | 21 | 2582830 | 0 | 0 |\n",
       "| 22 | 22 | 2582830 | 0 | 0 |\n",
       "| 23 | 23 | 2582830 | 0 | 0 |\n",
       "| 24 | 24 | 2582830 | 0 | 0 |\n",
       "| 25 | 25 | 2582830 | 0 | 0 |\n",
       "| 26 | 26 | 2582830 | 0 | 0 |\n",
       "| 27 | 27 | 2582830 | 0 | 0 |\n",
       "| 28 | 28 | 2582830 | 0 | 0 |\n",
       "| 29 | 29 | 2582830 | 0 | 0 |\n",
       "| ⋮ | ⋮ | ⋮ | ⋮ | ⋮ |\n",
       "|  99 |  99 | 2532730 | 44872 | 5228 |\n",
       "| 100 | 100 | 2531991 | 45519 | 5320 |\n",
       "| 101 | 101 | 2531145 | 46275 | 5410 |\n",
       "| 102 | 102 | 2530483 | 46839 | 5508 |\n",
       "| 103 | 103 | 2530078 | 47183 | 5569 |\n",
       "| 104 | 104 | 2529613 | 47579 | 5638 |\n",
       "| 105 | 105 | 2529179 | 47974 | 5677 |\n",
       "| 106 | 106 | 2528497 | 48550 | 5783 |\n",
       "| 107 | 107 | 2527979 | 48998 | 5853 |\n",
       "| 108 | 108 | 2527445 | 49461 | 5924 |\n",
       "| 109 | 109 | 2527037 | 49817 | 5976 |\n",
       "| 110 | 110 | 2526741 | 50072 | 6017 |\n",
       "| 111 | 111 | 2526422 | 50331 | 6077 |\n",
       "| 112 | 112 | 2526036 | 50667 | 6127 |\n",
       "| 113 | 113 | 2525541 | 51095 | 6194 |\n",
       "| 114 | 114 | 2525003 | 51581 | 6246 |\n",
       "| 115 | 115 | 2524561 | 51991 | 6278 |\n",
       "| 116 | 116 | 2524228 | 52298 | 6304 |\n",
       "| 117 | 117 | 2524015 | 52485 | 6330 |\n",
       "| 118 | 118 | 2523796 | 52681 | 6353 |\n",
       "| 119 | 119 | 2523540 | 52889 | 6401 |\n",
       "| 120 | 120 | 2523010 | 53385 | 6435 |\n",
       "| 121 | 121 | 2522732 | 53639 | 6459 |\n",
       "| 122 | 122 | 2522449 | 53902 | 6479 |\n",
       "| 123 | 123 | 2522151 | 54175 | 6504 |\n",
       "| 124 | 124 | 2521953 | 54360 | 6517 |\n",
       "| 125 | 125 | 2521737 | 54560 | 6533 |\n",
       "| 126 | 126 | 2521507 | 54779 | 6544 |\n",
       "| 127 | 127 | 2521122 | 55147 | 6561 |\n",
       "| 128 | 128 | 2520802 | 55446 | 6582 |\n",
       "\n"
      ],
      "text/plain": [
       "    X   Days S       I     D   \n",
       "1    0   0   2582830 0     0   \n",
       "2    1   1   2582830 0     0   \n",
       "3    2   2   2582830 0     0   \n",
       "4    3   3   2582830 0     0   \n",
       "5    4   4   2582830 0     0   \n",
       "6    5   5   2582830 0     0   \n",
       "7    6   6   2582830 0     0   \n",
       "8    7   7   2582830 0     0   \n",
       "9    8   8   2582830 0     0   \n",
       "10   9   9   2582830 0     0   \n",
       "11  10  10   2582830 0     0   \n",
       "12  11  11   2582830 0     0   \n",
       "13  12  12   2582830 0     0   \n",
       "14  13  13   2582830 0     0   \n",
       "15  14  14   2582830 0     0   \n",
       "16  15  15   2582830 0     0   \n",
       "17  16  16   2582830 0     0   \n",
       "18  17  17   2582830 0     0   \n",
       "19  18  18   2582830 0     0   \n",
       "20  19  19   2582830 0     0   \n",
       "21  20  20   2582830 0     0   \n",
       "22  21  21   2582830 0     0   \n",
       "23  22  22   2582830 0     0   \n",
       "24  23  23   2582830 0     0   \n",
       "25  24  24   2582830 0     0   \n",
       "26  25  25   2582830 0     0   \n",
       "27  26  26   2582830 0     0   \n",
       "28  27  27   2582830 0     0   \n",
       "29  28  28   2582830 0     0   \n",
       "30  29  29   2582830 0     0   \n",
       "⋮   ⋮   ⋮    ⋮       ⋮     ⋮   \n",
       "100  99  99  2532730 44872 5228\n",
       "101 100 100  2531991 45519 5320\n",
       "102 101 101  2531145 46275 5410\n",
       "103 102 102  2530483 46839 5508\n",
       "104 103 103  2530078 47183 5569\n",
       "105 104 104  2529613 47579 5638\n",
       "106 105 105  2529179 47974 5677\n",
       "107 106 106  2528497 48550 5783\n",
       "108 107 107  2527979 48998 5853\n",
       "109 108 108  2527445 49461 5924\n",
       "110 109 109  2527037 49817 5976\n",
       "111 110 110  2526741 50072 6017\n",
       "112 111 111  2526422 50331 6077\n",
       "113 112 112  2526036 50667 6127\n",
       "114 113 113  2525541 51095 6194\n",
       "115 114 114  2525003 51581 6246\n",
       "116 115 115  2524561 51991 6278\n",
       "117 116 116  2524228 52298 6304\n",
       "118 117 117  2524015 52485 6330\n",
       "119 118 118  2523796 52681 6353\n",
       "120 119 119  2523540 52889 6401\n",
       "121 120 120  2523010 53385 6435\n",
       "122 121 121  2522732 53639 6459\n",
       "123 122 122  2522449 53902 6479\n",
       "124 123 123  2522151 54175 6504\n",
       "125 124 124  2521953 54360 6517\n",
       "126 125 125  2521737 54560 6533\n",
       "127 126 126  2521507 54779 6544\n",
       "128 127 127  2521122 55147 6561\n",
       "129 128 128  2520802 55446 6582"
      ]
     },
     "metadata": {},
     "output_type": "display_data"
    }
   ],
   "source": [
    "data"
   ]
  },
  {
   "cell_type": "code",
   "execution_count": 3,
   "metadata": {},
   "outputs": [],
   "source": [
    "library(MultiBD)"
   ]
  },
  {
   "cell_type": "code",
   "execution_count": 4,
   "metadata": {},
   "outputs": [],
   "source": [
    "loglik_sir <- function(param, data) {\n",
    "    alpha <- exp(param[1]) # Rates must be non-negative \n",
    "    beta <- exp(param[2])\n",
    "\n",
    "    # Set-up SIR model\n",
    "    drates1 <- function(a, b) { 0 }\n",
    "    brates2 <- function(a, b) { 0 }\n",
    "    drates2 <- function(a, b) { alpha * b     }\n",
    "    trans12 <- function(a, b) { beta  * a * b }\n",
    "\n",
    "    sum(sapply(1:(nrow(data) - 1), # Sum across all time steps k \n",
    "        function(k) {\n",
    "            log(\n",
    "                dbd_prob( # Compute the transition probability matrix\n",
    "                    t = data$time[k + 1] - data$time[k], # Time increment\n",
    "                    a0 = data$S[k], b0 = data$I[k], # From: S(t_k), I(t_k) \n",
    "                    drates1, brates2, drates2, trans12,\n",
    "                    a = data$S[k + 1], B = data$S[k] + data$I[k] - data$S[k + 1], \n",
    "                    computeMode = 4, nblocks = 80 # Compute using 4 threads\n",
    "                )[1, data$I[k + 1] + 1] # To: S(t_(k+1)), I(t_(k+1)) \n",
    "            )\n",
    "        }))\n",
    "}"
   ]
  },
  {
   "cell_type": "code",
   "execution_count": 5,
   "metadata": {},
   "outputs": [],
   "source": [
    "logprior <- function(param) {\n",
    "    log_alpha <- param[1]\n",
    "    log_beta <- param[2]\n",
    "    \n",
    "    dnorm(log_alpha, mean = 0, sd = 100, log = TRUE) + dnorm(log_beta, mean = 0, sd = 100, log = TRUE)\n",
    "}"
   ]
  },
  {
   "cell_type": "code",
   "execution_count": 9,
   "metadata": {},
   "outputs": [
    {
     "ename": "ERROR",
     "evalue": "Error in biocLite(\"graph\"): could not find function \"biocLite\"\n",
     "output_type": "error",
     "traceback": [
      "Error in biocLite(\"graph\"): could not find function \"biocLite\"\nTraceback:\n"
     ]
    }
   ],
   "source": [
    "# source(\"http://bioconductor.org/biocLite.R\")\n",
    "biocLite(\"graph\")\n",
    "biocLite(\"Rgraphviz\")\n",
    "# install.packages(\"MCMCpack\", repos = 'http://cran.us.r-project.org') \n",
    "library(MCMCpack)"
   ]
  },
  {
   "cell_type": "code",
   "execution_count": 8,
   "metadata": {},
   "outputs": [],
   "source": [
    "alpha0 <- 3.39\n",
    "beta0  <- 0.0212"
   ]
  },
  {
   "cell_type": "code",
   "execution_count": 13,
   "metadata": {},
   "outputs": [
    {
     "ename": "ERROR",
     "evalue": "Error in MCMCmetrop1R(fun = function(param) {: could not find function \"MCMCmetrop1R\"\n",
     "output_type": "error",
     "traceback": [
      "Error in MCMCmetrop1R(fun = function(param) {: could not find function \"MCMCmetrop1R\"\nTraceback:\n"
     ]
    }
   ],
   "source": [
    "post_sample <- MCMCmetrop1R(fun = function(param) { loglik_sir(param, data) + logprior(param)},\n",
    "                        theta.init = log(c(alpha0, beta0)),\n",
    "                           mcmc = 1000, burnin = 200)"
   ]
  },
  {
   "cell_type": "code",
   "execution_count": 10,
   "metadata": {},
   "outputs": [
    {
     "ename": "ERROR",
     "evalue": "Error in eval(expr, envir, enclos): object 'post_sample' not found\n",
     "output_type": "error",
     "traceback": [
      "Error in eval(expr, envir, enclos): object 'post_sample' not found\nTraceback:\n"
     ]
    }
   ],
   "source": [
    "alpha <- exp(post_sample[,1])\n",
    "beta <- exp(post_sample[,2])"
   ]
  },
  {
   "cell_type": "code",
   "execution_count": 1,
   "metadata": {},
   "outputs": [
    {
     "data": {
      "text/html": [
       "2"
      ],
      "text/latex": [
       "2"
      ],
      "text/markdown": [
       "2"
      ],
      "text/plain": [
       "[1] 2"
      ]
     },
     "metadata": {},
     "output_type": "display_data"
    }
   ],
   "source": [
    "1+1"
   ]
  },
  {
   "cell_type": "code",
   "execution_count": null,
   "metadata": {},
   "outputs": [],
   "source": []
  }
 ],
 "metadata": {
  "kernelspec": {
   "display_name": "R",
   "language": "R",
   "name": "ir"
  },
  "language_info": {
   "codemirror_mode": "r",
   "file_extension": ".r",
   "mimetype": "text/x-r-source",
   "name": "R",
   "pygments_lexer": "r",
   "version": "3.6.3"
  }
 },
 "nbformat": 4,
 "nbformat_minor": 4
}
