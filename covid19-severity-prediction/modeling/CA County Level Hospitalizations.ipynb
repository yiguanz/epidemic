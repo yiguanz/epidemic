{
 "cells": [
  {
   "cell_type": "code",
   "execution_count": 91,
   "metadata": {},
   "outputs": [],
   "source": [
    "import numpy as np\n",
    "import pandas as pd\n",
    "from os.path import join as oj\n",
    "import os\n",
    "import pandas as pd\n",
    "import sys\n",
    "import inspect\n",
    "import datetime\n",
    "from scipy.stats import percentileofscore\n",
    "currentdir = os.path.dirname(os.path.abspath(inspect.getfile(inspect.currentframe())))\n",
    "parentdir = os.path.dirname(currentdir)\n",
    "sys.path.append(parentdir)\n",
    "sys.path.append(parentdir + '/modeling')\n",
    "import load_data\n",
    "from fit_and_predict import add_preds\n",
    "from functions import merge_data\n",
    "from viz import  viz_interactive\n",
    "import numpy as np\n",
    "import pandas as pd\n",
    "from os.path import join as oj\n",
    "import os\n",
    "import pandas as pd\n",
    "import sys\n",
    "import matplotlib as plt\n",
    "from scipy.stats import percentileofscore\n",
    "from sklearn.metrics import mean_absolute_error\n",
    "\n",
    "# CHANGE THIS\n",
    "from exponential_modeling import *\n",
    "from fit_and_predict import *"
   ]
  },
  {
   "cell_type": "code",
   "execution_count": 2,
   "metadata": {},
   "outputs": [
    {
     "name": "stdout",
     "output_type": "stream",
     "text": [
      "loading data...\n",
      "loading county-level data...\n",
      "loaded and merged COVID-19 cases/deaths data successfully\n"
     ]
    }
   ],
   "source": [
    "# Load in the Data\n",
    "\n",
    "print('loading data...')\n",
    "NUM_DAYS_LIST = [1, 2, 3, 4, 5, 6, 7]\n",
    "df_county = load_data.load_county_level(data_dir=oj(parentdir, 'data'))\n",
    "\n",
    "#df_county = add_preds(df_county, NUM_DAYS_LIST=NUM_DAYS_LIST,\n",
    "#                          cached_dir=oj(parentdir, 'data'))"
   ]
  },
  {
   "cell_type": "code",
   "execution_count": 288,
   "metadata": {},
   "outputs": [],
   "source": [
    "# Parameter Initializations\n",
    "k = 14\n",
    "start_day = 15"
   ]
  },
  {
   "cell_type": "code",
   "execution_count": null,
   "metadata": {},
   "outputs": [],
   "source": [
    "df_hos"
   ]
  },
  {
   "cell_type": "code",
   "execution_count": 3,
   "metadata": {},
   "outputs": [],
   "source": [
    "df_hos = pd.read_csv(\"../data/CA_hospitalizations.csv\")\n",
    "df_hos = df_hos[[\"County Name\", \"Most Recent Date\", \"COVID-19 Positive Patients\"]]\n",
    "df_hos = df_hos.rename(columns={\"County Name\": \"CountyName\", \"Most Recent Date\": \"Date\", \n",
    "                               \"COVID-19 Positive Patients\": \"hospitalizations\"})"
   ]
  },
  {
   "cell_type": "code",
   "execution_count": 5,
   "metadata": {},
   "outputs": [],
   "source": [
    "# Merge the Data\n",
    "fips = df_county[df_county[\"StateName\"] == \"CA\"][[\"countyFIPS\", \"CountyName\"]]\n",
    "df_hos = df_hos.merge(fips, on=\"CountyName\", how=\"left\")\n",
    "df_hos = df_hos.fillna(0)"
   ]
  },
  {
   "cell_type": "code",
   "execution_count": 6,
   "metadata": {},
   "outputs": [],
   "source": [
    "df_CA = df_hos[[\"countyFIPS\", \"CountyName\"]].drop_duplicates()\n",
    "df_CA = df_CA[df_CA[\"CountyName\"] != \"Unassigned\"]\n",
    "hospitz = []\n",
    "for county in df_CA[\"CountyName\"]:\n",
    "    # Generate the Series\n",
    "    arr = df_hos[df_hos[\"CountyName\"] == county][\"hospitalizations\"].values\n",
    "    hospitz.append(np.concatenate(([0], arr))) # Adding 0 since there seems to be an issue if we don't\n",
    "#     hospitz.append(np.concatenate(([], arr))) # Adding 0 since there seems to be an issue if we don't\n",
    "\n",
    "# Append\n",
    "df_CA[\"hospitalizations\"] = hospitz"
   ]
  },
  {
   "cell_type": "code",
   "execution_count": null,
   "metadata": {},
   "outputs": [],
   "source": [
    "preds = linear_fit(df_CA[\"hospitalizations\"].values, mode=\"eval_mode\")"
   ]
  },
  {
   "cell_type": "code",
   "execution_count": 289,
   "metadata": {},
   "outputs": [],
   "source": [
    "# Exponential Fit\n",
    "length = len(df_hos[df_hos[\"CountyName\"] == \"Los Angeles\"][\"hospitalizations\"].values)\n",
    "preds = []\n",
    "for i in range(4 + k,length):\n",
    "    hospitz = []\n",
    "    for county in df_CA[\"CountyName\"]:\n",
    "        # Generate the Series\n",
    "        arr = df_hos[df_hos[\"CountyName\"] == county][\"hospitalizations\"].values[:i]\n",
    "        hospitz.append(np.concatenate(([0], arr)))\n",
    "        \n",
    "#         hospitz.append(np.concatenate(([], arr)))\n",
    "\n",
    "    # Append\n",
    "    df_CA[\"hospitalizations\"] = hospitz\n",
    "    \n",
    "    \n",
    "    preds.append(exponential_fit(df_CA[\"hospitalizations\"].values, mode=\"eval_mode\", target_day=np.array([k])))\n",
    "#     preds.append(linear_fit(df_CA[\"hospitalizations\"].values, mode=\"eval_mode\", target_day=np.array([1])))\n",
    "    \n",
    "preds= np.array(preds)[:, :, 0].T\n",
    "preds = preds[:, 1:] # Drop the first 0s"
   ]
  },
  {
   "cell_type": "code",
   "execution_count": 290,
   "metadata": {},
   "outputs": [],
   "source": [
    "#### Linear Fit\n",
    "length = len(df_hos[df_hos[\"CountyName\"] == \"Los Angeles\"][\"hospitalizations\"].values)\n",
    "preds_linear = []\n",
    "for i in range(4 + k,length):\n",
    "    hospitz = []\n",
    "    for county in df_CA[\"CountyName\"]:\n",
    "        # Generate the Series\n",
    "        arr = df_hos[df_hos[\"CountyName\"] == county][\"hospitalizations\"].values[:i]\n",
    "        hospitz.append(np.concatenate(([0], arr))) \n",
    "        # Note: Concatenating 1 to avoid issue with 0's and linear fit\n",
    "\n",
    "    # Append\n",
    "    df_CA[\"hospitalizations\"] = hospitz\n",
    "    \n",
    "    \n",
    "#     preds.append(exponential_fit(df_CA[\"hospitalizations\"].values, mode=\"eval_mode\", target_day=np.array([1])))\n",
    "    res = linear_fit(df_CA[\"hospitalizations\"].values, mode=\"eval_mode\", target_day=np.array([k]))\n",
    "    preds_linear.append([max(0, x[0]) for x in res])\n",
    "    \n",
    "preds_linear= np.array(preds_linear).T\n",
    "preds_linear = preds_linear[:, 1:] # Drop the first 0s"
   ]
  },
  {
   "cell_type": "code",
   "execution_count": 291,
   "metadata": {},
   "outputs": [
    {
     "data": {
      "text/plain": [
       "<matplotlib.legend.Legend at 0x7f7cdde52f60>"
      ]
     },
     "execution_count": 291,
     "metadata": {},
     "output_type": "execute_result"
    },
    {
     "data": {
      "image/png": "[encoded data removed]",
      "text/plain": [
       "<Figure size 432x288 with 1 Axes>"
      ]
     },
     "metadata": {},
     "output_type": "display_data"
    }
   ],
   "source": [
    "# Let's Plot LA Exponential\n",
    "LA = df_CA[\"hospitalizations\"][0][4 + k:-1]\n",
    "preds_LA = preds[0, :]\n",
    "t = range(max(len(LA), len(preds_LA)))\n",
    "plt.plot(t, LA, label=\"Hospitalizations\")\n",
    "plt.plot(t, preds_LA, color=\"orange\", label=\"Sep. Exponential Predictor\")\n",
    "plt.legend()"
   ]
  },
  {
   "cell_type": "code",
   "execution_count": 292,
   "metadata": {},
   "outputs": [
    {
     "data": {
      "text/plain": [
       "580.8390913953732"
      ]
     },
     "execution_count": 292,
     "metadata": {},
     "output_type": "execute_result"
    }
   ],
   "source": [
    "# Computing the MAE for LA Exponential\n",
    "mean_absolute_error(LA, preds_LA)"
   ]
  },
  {
   "cell_type": "code",
   "execution_count": 293,
   "metadata": {},
   "outputs": [
    {
     "data": {
      "image/png": "[encoded data removed]",
      "text/plain": [
       "<Figure size 432x288 with 1 Axes>"
      ]
     },
     "metadata": {},
     "output_type": "display_data"
    }
   ],
   "source": [
    "# Let's Plot LA Linear\n",
    "LA = df_CA[\"hospitalizations\"][0][4 + k:-1]\n",
    "preds_LA = preds_linear[0, :]\n",
    "t = range(len(LA))\n",
    "t_lin = range(len(preds_LA))\n",
    "plt.plot(t, LA, label=\"Hospitalizations\")\n",
    "plt.plot(t_lin, preds_LA, color=\"orange\", label=\"Linear Predictor\")\n",
    "plt.legend()\n",
    "plt.show()"
   ]
  },
  {
   "cell_type": "code",
   "execution_count": 294,
   "metadata": {},
   "outputs": [
    {
     "name": "stdout",
     "output_type": "stream",
     "text": [
      "Raw MAE: 49.000064580955154\n",
      "Log MAE: 0.5312408278158054\n"
     ]
    }
   ],
   "source": [
    "## Print the MAE Exponential\n",
    "tmp_df = []\n",
    "for i in range(0, len(df_CA)):\n",
    "    tmp_df.append(df_CA[\"hospitalizations\"].values[i][4 + k :-1])\n",
    "\n",
    "tmp_df = np.array(tmp_df)\n",
    "\n",
    "print(\"Raw MAE: %s\" % mean_absolute_error(tmp_df, preds))\n",
    "print(\"Log MAE: %s\" % mean_absolute_error(np.log(tmp_df + 1), np.log(preds + 1)))\n",
    "\n"
   ]
  },
  {
   "cell_type": "code",
   "execution_count": 295,
   "metadata": {},
   "outputs": [
    {
     "name": "stdout",
     "output_type": "stream",
     "text": [
      "Raw MAE: 17.81696178937558\n",
      "Log MAE: 0.5633118610381415\n"
     ]
    }
   ],
   "source": [
    "## Print the MAE Linear\n",
    "tmp_df = []\n",
    "for i in range(0, len(df_CA)):\n",
    "    tmp_df.append(df_CA[\"hospitalizations\"].values[i][4+k: -1])\n",
    "\n",
    "tmp_df = np.array(tmp_df)\n",
    "\n",
    "print(\"Raw MAE: %s\" % mean_absolute_error(tmp_df, preds_linear))\n",
    "print(\"Log MAE: %s\" % mean_absolute_error(np.log(tmp_df + 1), np.log(preds_linear + 1)))\n",
    "\n"
   ]
  },
  {
   "cell_type": "code",
   "execution_count": 296,
   "metadata": {},
   "outputs": [
    {
     "data": {
      "text/plain": [
       "364.74864864864827"
      ]
     },
     "execution_count": 296,
     "metadata": {},
     "output_type": "execute_result"
    }
   ],
   "source": [
    "# Computing the MAE for LA Linear\n",
    "mean_absolute_error(LA, preds_LA)"
   ]
  },
  {
   "cell_type": "markdown",
   "metadata": {},
   "source": [
    "# Shared Model"
   ]
  },
  {
   "cell_type": "code",
   "execution_count": 297,
   "metadata": {},
   "outputs": [],
   "source": [
    "# Does plugging in what we've done above just work?\n",
    "# preds = fit_and_predict_shared_exponential(df_CA, outcome=\"hospitalizations\", mode=\"eval_mode\")\n",
    "offset = 2\n",
    "# Shared Exponential Fit\n",
    "length = len(df_hos[df_hos[\"CountyName\"] == \"Los Angeles\"][\"hospitalizations\"].values)\n",
    "preds_shared = []\n",
    "# Start at 3 for 1 day prediction\n",
    "for i in range(offset + k,length):\n",
    "    hospitz = []\n",
    "    for county in df_CA[\"CountyName\"]:\n",
    "        # Generate the Series\n",
    "        arr = df_hos[df_hos[\"CountyName\"] == county][\"hospitalizations\"].values[:i]\n",
    "        hospitz.append(np.concatenate(([0], arr)))\n",
    "\n",
    "    # Append\n",
    "    df_CA[\"hospitalizations\"] = hospitz\n",
    "    \n",
    "    # predict_future\n",
    "    preds_shared.append(fit_and_predict_shared_exponential(df_CA, outcome=\"hospitalizations\",\n",
    "                                 mode=\"eval_mode\", target_day=np.array([k])))\n",
    "    \n",
    "#     preds.append(linear_fit(df_CA[\"hospitalizations\"].values, mode=\"eval_mode\", target_day=np.array([1])))\n",
    "    \n",
    "preds_shared= np.array(preds_shared)[:, :, 0].T\n",
    "preds_shared = preds_shared[:, 1:] # Drop the first 0s "
   ]
  },
  {
   "cell_type": "code",
   "execution_count": 298,
   "metadata": {},
   "outputs": [
    {
     "data": {
      "text/plain": [
       "<matplotlib.legend.Legend at 0x7f7cdd79ee80>"
      ]
     },
     "execution_count": 298,
     "metadata": {},
     "output_type": "execute_result"
    },
    {
     "data": {
      "image/png": "[encoded data removed]",
      "text/plain": [
       "<Figure size 432x288 with 1 Axes>"
      ]
     },
     "metadata": {},
     "output_type": "display_data"
    }
   ],
   "source": [
    "# Let's Plot LA Shared Exponential\n",
    "LA = df_CA[\"hospitalizations\"][0][offset + k:-1]\n",
    "preds_LA = preds_shared[0, :] \n",
    "t = range(max(len(LA), len(preds_LA)))\n",
    "plt.plot(t, LA, label=\"Hospitalizations\")\n",
    "plt.plot(t, preds_LA, color=\"orange\", label=\"Shared Exp. Predictor\")\n",
    "plt.legend()"
   ]
  },
  {
   "cell_type": "code",
   "execution_count": 299,
   "metadata": {},
   "outputs": [
    {
     "name": "stdout",
     "output_type": "stream",
     "text": [
      "Raw MAE: 156.3175148973963\n",
      "Log MAE: 3.25153094985214\n"
     ]
    }
   ],
   "source": [
    "## Print the MAE\n",
    "tmp_df = []\n",
    "for i in range(0, len(df_CA)):\n",
    "    tmp_df.append(df_CA[\"hospitalizations\"].values[i][offset + k:-1])\n",
    "\n",
    "tmp_df = np.array(tmp_df)\n",
    "\n",
    "print(\"Raw MAE: %s\" % mean_absolute_error(tmp_df, preds_shared))\n",
    "print(\"Log MAE: %s\" % mean_absolute_error(np.log(tmp_df + 1), np.log(preds_shared + 1)))\n",
    "\n"
   ]
  },
  {
   "cell_type": "code",
   "execution_count": 300,
   "metadata": {},
   "outputs": [
    {
     "data": {
      "text/plain": [
       "794.5783394031455"
      ]
     },
     "execution_count": 300,
     "metadata": {},
     "output_type": "execute_result"
    }
   ],
   "source": [
    "# Computing the MAE for LA\n",
    "mean_absolute_error(LA, preds_LA)"
   ]
  },
  {
   "cell_type": "code",
   "execution_count": 301,
   "metadata": {
    "jupyter": {
     "outputs_hidden": true
    }
   },
   "outputs": [],
   "source": [
    "# Just note how this works\n",
    "tmp = create_shared_simple_dataset(df_CA, outcome=\"hospitalizations\",days_to_subtract=1)\n",
    "# fit_and_predict_shared_exponential(df_CA, outcome=\"hospitalizations\",\n",
    "#                                  mode=\"eval_mode\", target_day=np.array([1]))"
   ]
  },
  {
   "cell_type": "markdown",
   "metadata": {},
   "source": [
    "# Imputing Deaths with CLEP"
   ]
  },
  {
   "cell_type": "code",
   "execution_count": 302,
   "metadata": {},
   "outputs": [],
   "source": [
    "# Calculate df_CA\n",
    "# 1/22/2020 to 4/1/2020 is 70 days\n",
    "shifted_date = 70\n",
    "cen = 4\n",
    "df_CA_county = df_county[df_county['StateName'].isin(['CA'])]\n",
    "\n",
    "# Compute the Imputed Deaths\n",
    "# lin_impu_future_predictions = []\n",
    "# exp_impu_future_predictions = []\n",
    "# shared_impu_exp_future_predictions = []\n",
    "## Censoring the UCSF_data\n",
    "\n",
    "LA_data = df_CA[\"hospitalizations\"][0]\n",
    "# LA_cen = LA_data[cen:]\n",
    "imputed_deaths = []\n",
    "\n",
    "## Q: Should beginning of the range be 0 or the start_day?\n",
    "## Q: Should we include this k? \n",
    "## A: I hate time series...\n",
    "for i in range(1,LA_data.shape[0]-k + 1): \n",
    "    df_CA_test = df_CA_county.copy(deep=True)\n",
    "    # Calculate the Imputed Deaths\n",
    "    for county in range(len(df_CA_test)):\n",
    "            # do we need to remove columns and truncate counts??\n",
    "            # truncate list counts: deaths, cases, neighbor_deaths, neighbor_cases\n",
    "            for col in ['deaths', 'cases', 'neighbor_deaths', 'neighbor_cases']:\n",
    "                # adding 1 to predict t\n",
    "                df_CA_test[col].iloc[county] = df_CA_test[col].iloc[county][:shifted_date + i] \n",
    "    \n",
    "    tmp = fit_and_predict_ensemble(df_CA_test, target_day=np.array([k]))\n",
    "#     sf_dop = tmp[tmp[\"CountyName\"] == \"San Francisco\"]\n",
    "\n",
    "    # Formatting Fix\n",
    "    imputed_deaths.append(np.array([x[0] for x in tmp[\"predicted_deaths_ensemble_\" + str(k)].values]))\n",
    "    \n",
    "\n",
    "imputed_deaths = np.array(imputed_deaths)\n",
    "imputed_deaths = imputed_deaths.T"
   ]
  },
  {
   "cell_type": "code",
   "execution_count": 303,
   "metadata": {},
   "outputs": [
    {
     "name": "stderr",
     "output_type": "stream",
     "text": [
      "/home/ubuntu/anaconda3/lib/python3.6/site-packages/statsmodels/base/elastic_net.py:332: RuntimeWarning:\n",
      "\n",
      "invalid value encountered in double_scalars\n",
      "\n"
     ]
    }
   ],
   "source": [
    "preds_shared_imputed = []\n",
    "for i in range(start_day,LA_data.shape[0]-k + 1): \n",
    "    df_shared_CA = df_CA.copy(deep=True)\n",
    "        \n",
    "    hospitz = []\n",
    "    im_arr = []\n",
    "    for county in df_CA[\"CountyName\"]:\n",
    "        # Generate the Series\n",
    "        arr = df_hos[df_hos[\"CountyName\"] == county][\"hospitalizations\"].values[:i]\n",
    "        hospitz.append(arr)\n",
    "        \n",
    "    for county in range(len(df_CA[\"CountyName\"])):\n",
    "        # Generate the Series\n",
    "        im_deaths = imputed_deaths[county, :i]\n",
    "        im_arr.append(im_deaths)  \n",
    "        \n",
    "    assert len(hospitz[0]) == len(im_arr[0]) \n",
    "\n",
    "    # Append\n",
    "    df_shared_CA[\"hospitalizations\"] = hospitz\n",
    "    df_shared_CA[\"imputed_deaths\"] = im_arr\n",
    "    \n",
    "    \n",
    "    \n",
    "    # Feature Transforms\n",
    "    feat_transforms = {}\n",
    "    feat_transforms[\"hospitalizations\"] = [lambda x: np.log(x+1)]\n",
    "    feat_transforms[\"imputed_deaths\"] = [lambda x: np.log(x + 1)]\n",
    "    \n",
    "    # Auxiliary Time Variables\n",
    "    aux_vars = [\"imputed_deaths\"]\n",
    "    \n",
    "    # Time Series Default Values\n",
    "    default_values = defaultdict(lambda: 0) \n",
    "    \n",
    "    # Run the Shared Model\n",
    "    shared_model = SharedModel(df_shared_CA,mode = \"predict_future\",\n",
    "                                                            outcome = \"hospitalizations\",\n",
    "                                                            demographic_variables=[],\n",
    "                                                            auxiliary_time_features=aux_vars,\n",
    "                                                            target_days=np.array([k]), \n",
    "                                                            feat_transforms=feat_transforms,\n",
    "                                                            time_series_default_values = default_values,\n",
    "                                                            scale=False)\n",
    "    \n",
    "    \n",
    "    shared_model.create_dataset()\n",
    "    shared_model.fit_model()\n",
    "    shared_model.predict()\n",
    "    \n",
    "    preds_shared_imputed.append(shared_model.predictions)\n",
    "    \n",
    "preds_shared_imputed = np.array(preds_shared_imputed)[:, :, 0].T"
   ]
  },
  {
   "cell_type": "code",
   "execution_count": 304,
   "metadata": {},
   "outputs": [
    {
     "data": {
      "text/plain": [
       "<matplotlib.legend.Legend at 0x7f7cdd8a1828>"
      ]
     },
     "execution_count": 304,
     "metadata": {},
     "output_type": "execute_result"
    },
    {
     "data": {
      "image/png": "[encoded data removed]",
      "text/plain": [
       "<Figure size 432x288 with 1 Axes>"
      ]
     },
     "metadata": {},
     "output_type": "display_data"
    }
   ],
   "source": [
    "# Let's Plot LA Shared Exponential\n",
    "LA = df_CA[\"hospitalizations\"][0][start_day + k - 1:]\n",
    "preds_LA = preds_shared_imputed[0, :] \n",
    "t_LA = range(0, len(LA))\n",
    "t_preds = np.array(range(0, len(preds_LA))) #+ len(t_LA) -len(t_preds) + 2\n",
    "plt.plot(t_LA, LA, label=\"Hospitlizations\")\n",
    "plt.plot(t_preds, preds_LA, color=\"orange\", label=\"Shared Exp. + Imputed Deaths\")\n",
    "plt.legend()"
   ]
  },
  {
   "cell_type": "code",
   "execution_count": 305,
   "metadata": {},
   "outputs": [
    {
     "ename": "ValueError",
     "evalue": "Input contains NaN, infinity or a value too large for dtype('float64').",
     "output_type": "error",
     "traceback": [
      "\u001b[0;31m---------------------------------------------------------------------------\u001b[0m",
      "\u001b[0;31mValueError\u001b[0m                                Traceback (most recent call last)",
      "\u001b[0;32m<ipython-input-305-a02149c4f72a>\u001b[0m in \u001b[0;36m<module>\u001b[0;34m()\u001b[0m\n\u001b[1;32m      6\u001b[0m \u001b[0mtmp_df\u001b[0m \u001b[0;34m=\u001b[0m \u001b[0mnp\u001b[0m\u001b[0;34m.\u001b[0m\u001b[0marray\u001b[0m\u001b[0;34m(\u001b[0m\u001b[0mtmp_df\u001b[0m\u001b[0;34m)\u001b[0m\u001b[0;34m\u001b[0m\u001b[0m\n\u001b[1;32m      7\u001b[0m \u001b[0;34m\u001b[0m\u001b[0m\n\u001b[0;32m----> 8\u001b[0;31m \u001b[0mprint\u001b[0m\u001b[0;34m(\u001b[0m\u001b[0;34m\"Raw MAE: %s\"\u001b[0m \u001b[0;34m%\u001b[0m \u001b[0mmean_absolute_error\u001b[0m\u001b[0;34m(\u001b[0m\u001b[0mtmp_df\u001b[0m\u001b[0;34m,\u001b[0m \u001b[0mpreds_shared_imputed\u001b[0m\u001b[0;34m)\u001b[0m\u001b[0;34m)\u001b[0m\u001b[0;34m\u001b[0m\u001b[0m\n\u001b[0m\u001b[1;32m      9\u001b[0m \u001b[0mprint\u001b[0m\u001b[0;34m(\u001b[0m\u001b[0;34m\"Log MAE: %s\"\u001b[0m \u001b[0;34m%\u001b[0m \u001b[0mmean_absolute_error\u001b[0m\u001b[0;34m(\u001b[0m\u001b[0mnp\u001b[0m\u001b[0;34m.\u001b[0m\u001b[0mlog\u001b[0m\u001b[0;34m(\u001b[0m\u001b[0mtmp_df\u001b[0m \u001b[0;34m+\u001b[0m \u001b[0;36m1\u001b[0m\u001b[0;34m)\u001b[0m\u001b[0;34m,\u001b[0m \u001b[0mnp\u001b[0m\u001b[0;34m.\u001b[0m\u001b[0mlog\u001b[0m\u001b[0;34m(\u001b[0m\u001b[0mpreds_shared_imputed\u001b[0m \u001b[0;34m+\u001b[0m \u001b[0;36m1\u001b[0m\u001b[0;34m)\u001b[0m\u001b[0;34m)\u001b[0m\u001b[0;34m)\u001b[0m\u001b[0;34m\u001b[0m\u001b[0m\n",
      "\u001b[0;32m~/anaconda3/lib/python3.6/site-packages/sklearn/metrics/_regression.py\u001b[0m in \u001b[0;36mmean_absolute_error\u001b[0;34m(y_true, y_pred, sample_weight, multioutput)\u001b[0m\n\u001b[1;32m    176\u001b[0m     \"\"\"\n\u001b[1;32m    177\u001b[0m     y_type, y_true, y_pred, multioutput = _check_reg_targets(\n\u001b[0;32m--> 178\u001b[0;31m         y_true, y_pred, multioutput)\n\u001b[0m\u001b[1;32m    179\u001b[0m     \u001b[0mcheck_consistent_length\u001b[0m\u001b[0;34m(\u001b[0m\u001b[0my_true\u001b[0m\u001b[0;34m,\u001b[0m \u001b[0my_pred\u001b[0m\u001b[0;34m,\u001b[0m \u001b[0msample_weight\u001b[0m\u001b[0;34m)\u001b[0m\u001b[0;34m\u001b[0m\u001b[0m\n\u001b[1;32m    180\u001b[0m     output_errors = np.average(np.abs(y_pred - y_true),\n",
      "\u001b[0;32m~/anaconda3/lib/python3.6/site-packages/sklearn/metrics/_regression.py\u001b[0m in \u001b[0;36m_check_reg_targets\u001b[0;34m(y_true, y_pred, multioutput, dtype)\u001b[0m\n\u001b[1;32m     84\u001b[0m     \u001b[0mcheck_consistent_length\u001b[0m\u001b[0;34m(\u001b[0m\u001b[0my_true\u001b[0m\u001b[0;34m,\u001b[0m \u001b[0my_pred\u001b[0m\u001b[0;34m)\u001b[0m\u001b[0;34m\u001b[0m\u001b[0m\n\u001b[1;32m     85\u001b[0m     \u001b[0my_true\u001b[0m \u001b[0;34m=\u001b[0m \u001b[0mcheck_array\u001b[0m\u001b[0;34m(\u001b[0m\u001b[0my_true\u001b[0m\u001b[0;34m,\u001b[0m \u001b[0mensure_2d\u001b[0m\u001b[0;34m=\u001b[0m\u001b[0;32mFalse\u001b[0m\u001b[0;34m,\u001b[0m \u001b[0mdtype\u001b[0m\u001b[0;34m=\u001b[0m\u001b[0mdtype\u001b[0m\u001b[0;34m)\u001b[0m\u001b[0;34m\u001b[0m\u001b[0m\n\u001b[0;32m---> 86\u001b[0;31m     \u001b[0my_pred\u001b[0m \u001b[0;34m=\u001b[0m \u001b[0mcheck_array\u001b[0m\u001b[0;34m(\u001b[0m\u001b[0my_pred\u001b[0m\u001b[0;34m,\u001b[0m \u001b[0mensure_2d\u001b[0m\u001b[0;34m=\u001b[0m\u001b[0;32mFalse\u001b[0m\u001b[0;34m,\u001b[0m \u001b[0mdtype\u001b[0m\u001b[0;34m=\u001b[0m\u001b[0mdtype\u001b[0m\u001b[0;34m)\u001b[0m\u001b[0;34m\u001b[0m\u001b[0m\n\u001b[0m\u001b[1;32m     87\u001b[0m \u001b[0;34m\u001b[0m\u001b[0m\n\u001b[1;32m     88\u001b[0m     \u001b[0;32mif\u001b[0m \u001b[0my_true\u001b[0m\u001b[0;34m.\u001b[0m\u001b[0mndim\u001b[0m \u001b[0;34m==\u001b[0m \u001b[0;36m1\u001b[0m\u001b[0;34m:\u001b[0m\u001b[0;34m\u001b[0m\u001b[0m\n",
      "\u001b[0;32m~/anaconda3/lib/python3.6/site-packages/sklearn/utils/validation.py\u001b[0m in \u001b[0;36mcheck_array\u001b[0;34m(array, accept_sparse, accept_large_sparse, dtype, order, copy, force_all_finite, ensure_2d, allow_nd, ensure_min_samples, ensure_min_features, warn_on_dtype, estimator)\u001b[0m\n\u001b[1;32m    576\u001b[0m         \u001b[0;32mif\u001b[0m \u001b[0mforce_all_finite\u001b[0m\u001b[0;34m:\u001b[0m\u001b[0;34m\u001b[0m\u001b[0m\n\u001b[1;32m    577\u001b[0m             _assert_all_finite(array,\n\u001b[0;32m--> 578\u001b[0;31m                                allow_nan=force_all_finite == 'allow-nan')\n\u001b[0m\u001b[1;32m    579\u001b[0m \u001b[0;34m\u001b[0m\u001b[0m\n\u001b[1;32m    580\u001b[0m     \u001b[0;32mif\u001b[0m \u001b[0mensure_min_samples\u001b[0m \u001b[0;34m>\u001b[0m \u001b[0;36m0\u001b[0m\u001b[0;34m:\u001b[0m\u001b[0;34m\u001b[0m\u001b[0m\n",
      "\u001b[0;32m~/anaconda3/lib/python3.6/site-packages/sklearn/utils/validation.py\u001b[0m in \u001b[0;36m_assert_all_finite\u001b[0;34m(X, allow_nan, msg_dtype)\u001b[0m\n\u001b[1;32m     58\u001b[0m                     \u001b[0mmsg_err\u001b[0m\u001b[0;34m.\u001b[0m\u001b[0mformat\u001b[0m\u001b[0;34m\u001b[0m\u001b[0m\n\u001b[1;32m     59\u001b[0m                     (type_err,\n\u001b[0;32m---> 60\u001b[0;31m                      msg_dtype if msg_dtype is not None else X.dtype)\n\u001b[0m\u001b[1;32m     61\u001b[0m             )\n\u001b[1;32m     62\u001b[0m     \u001b[0;31m# for object dtype data, we only check for NaNs (GH-13254)\u001b[0m\u001b[0;34m\u001b[0m\u001b[0;34m\u001b[0m\u001b[0m\n",
      "\u001b[0;31mValueError\u001b[0m: Input contains NaN, infinity or a value too large for dtype('float64')."
     ]
    }
   ],
   "source": [
    "## Print the MAE\n",
    "tmp_df = []\n",
    "for i in range(0, len(df_CA)):\n",
    "    tmp_df.append(df_CA[\"hospitalizations\"].values[i][start_day + k - 1:])\n",
    "\n",
    "tmp_df = np.array(tmp_df)\n",
    "\n",
    "print(\"Raw MAE: %s\" % mean_absolute_error(tmp_df, preds_shared_imputed))\n",
    "print(\"Log MAE: %s\" % mean_absolute_error(np.log(tmp_df + 1), np.log(preds_shared_imputed + 1)))\n",
    "\n"
   ]
  },
  {
   "cell_type": "code",
   "execution_count": null,
   "metadata": {},
   "outputs": [],
   "source": [
    "# Computing the MAE for LA\n",
    "mean_absolute_error(LA, preds_LA)"
   ]
  },
  {
   "cell_type": "markdown",
   "metadata": {},
   "source": [
    "# Ensemble Model"
   ]
  },
  {
   "cell_type": "code",
   "execution_count": 306,
   "metadata": {},
   "outputs": [],
   "source": [
    "exponential = {'model_type':'exponential'}\n",
    "shared_exponential = {'model_type':'shared_exponential'}\n",
    "demographics = {'model_type':'shared_exponential', 'demographic_vars':very_important_vars}\n",
    "linear = {'model_type':'linear'}\n",
    "advanced_model = {'model_type':'advanced_shared_model'}\n",
    "\n",
    "df_CA_county = df_county[df_county['StateName'].isin(['CA'])]\n",
    "LA_data = df_CA[\"hospitalizations\"][0]\n",
    "\n",
    "ensemble = []\n",
    "for i in range(start_day,LA_data.shape[0]-k+1): \n",
    "    \n",
    "    df_shared_CA = df_CA.copy(deep=True)\n",
    "        \n",
    "    hospitz = []\n",
    "    im_arr = []\n",
    "    for county in df_CA[\"CountyName\"]:\n",
    "        # Generate the Series\n",
    "        arr = df_hos[df_hos[\"CountyName\"] == county][\"hospitalizations\"].values[:i]\n",
    "        hospitz.append(arr)\n",
    "        \n",
    "    df_shared_CA[\"hospitalizations\"] = hospitz\n",
    "        \n",
    "        \n",
    "#     d = {'Name':['UCSF'],'hospitalizations':[tmp]}\n",
    "#     df_shared_UCSF = pd.DataFrame(data = d)\n",
    "\n",
    "    ensemble_prediction = fit_and_predict_ensemble(df_shared_CA,target_day = np.array([k]),\n",
    "                outcome = 'hospitalizations', \n",
    "                methods = [shared_exponential,linear],\n",
    "                mode = 'predict_future', \n",
    "                verbose = False)['predicted_hospitalizations_ensemble_' + str(k)].values\n",
    "    \n",
    "    # CHANGE THIS CAUSE WE'RE PRODUCING NEGATIVE PREDICTIONS\n",
    "    # BUUUUT RIGHT NOW JUST FLOOR AT 0\n",
    "    ensemble_prediction = [max(x[0], 0) for x in ensemble_prediction] # unpack arrays\n",
    "    ensemble.append(ensemble_prediction)\n",
    "\n",
    "#print(ensemble)\n",
    "#print(UCSF_data[:start_day+k-1])\n",
    "# print(mean_absolute_error(ensemble,UCSF_data[start_day+k-1:]))\n",
    "# print(mean_absolute_error(shared_exp_future_predictions,UCSF_data[start_day+k-1:]))\n",
    "#ensemble_prediction.head()\n",
    "\n",
    "ensemble = np.array(ensemble)\n",
    "ensemble = ensemble.T"
   ]
  },
  {
   "cell_type": "code",
   "execution_count": 307,
   "metadata": {},
   "outputs": [
    {
     "data": {
      "text/plain": [
       "<matplotlib.legend.Legend at 0x7f7cdd63b940>"
      ]
     },
     "execution_count": 307,
     "metadata": {},
     "output_type": "execute_result"
    },
    {
     "data": {
      "image/png": "[encoded data removed]",
      "text/plain": [
       "<Figure size 432x288 with 1 Axes>"
      ]
     },
     "metadata": {},
     "output_type": "display_data"
    }
   ],
   "source": [
    "# Let's Plot Ensemble of Linear/Shared Exponential\n",
    "LA = df_CA[\"hospitalizations\"][0][start_day + k - 1:]\n",
    "preds_LA = ensemble[0, :] \n",
    "t_LA = range(0, len(LA))\n",
    "t_preds = np.array(range(0, len(preds_LA))) #+ len(t_LA) -len(t_preds) + 2\n",
    "plt.plot(t_LA, LA, label=\"Hospitlizations\")\n",
    "plt.plot(t_preds, preds_LA, color=\"orange\", label=\"CLEP\")\n",
    "plt.legend()"
   ]
  },
  {
   "cell_type": "code",
   "execution_count": 308,
   "metadata": {},
   "outputs": [
    {
     "name": "stdout",
     "output_type": "stream",
     "text": [
      "Raw MAE: 11.435629288065078\n",
      "Log MAE: 0.807203095753601\n"
     ]
    }
   ],
   "source": [
    "## Print the MAE\n",
    "tmp_df = []\n",
    "for i in range(0, len(df_CA)):\n",
    "    tmp_df.append(df_CA[\"hospitalizations\"].values[i][start_day + k - 1:])\n",
    "\n",
    "tmp_df = np.array(tmp_df)\n",
    "\n",
    "print(\"Raw MAE: %s\" % mean_absolute_error(tmp_df, ensemble))\n",
    "print(\"Log MAE: %s\" % mean_absolute_error(np.log(tmp_df + 1), np.log(ensemble + 1)))\n",
    "\n"
   ]
  },
  {
   "cell_type": "code",
   "execution_count": 309,
   "metadata": {},
   "outputs": [
    {
     "data": {
      "text/plain": [
       "200.9507727460464"
      ]
     },
     "execution_count": 309,
     "metadata": {},
     "output_type": "execute_result"
    }
   ],
   "source": [
    "# Computing the MAE for LA\n",
    "mean_absolute_error(LA, preds_LA)"
   ]
  },
  {
   "cell_type": "markdown",
   "metadata": {},
   "source": [
    "## Compute the Baseline Models"
   ]
  },
  {
   "cell_type": "code",
   "execution_count": null,
   "metadata": {},
   "outputs": [],
   "source": [
    "df_CA_county = df_county[df_county['StateName'].isin(['CA'])]\n",
    "\n",
    "LA_data = df_CA[\"hospitalizations\"][0]\n",
    "\n",
    "baseline_prediction = []\n",
    "moving_average = []\n",
    "for i in range(start_day,54 - k + 1):\n",
    "    \n",
    "    \n",
    "    baseline_prediction.append(UCSF_data[i-1])\n",
    "    moving_average.append(np.mean(UCSF_data[i-5:i]))\n",
    "    \n",
    "#print(len(baseline_prediction))\n",
    "plt.plot(UCSF_data[start_day+k-1:54],'r',label = \"UCSF hospitalisation data\")\n",
    "plt.plot(baseline_prediction,'b',label = \"baseline predictor\")\n",
    "#plt.legend()\n",
    "#plt.title(str(k)+\"-day ahead prediction for baseline predictor\")\n",
    "#print(mean_absolute_error(baseline_prediction,UCSF_data[start_day+k-1:]))"
   ]
  }
 ],
 "metadata": {
  "kernelspec": {
   "display_name": "Environment (conda_anaconda3)",
   "language": "python",
   "name": "conda_anaconda3"
  },
  "language_info": {
   "codemirror_mode": {
    "name": "ipython",
    "version": 3
   },
   "file_extension": ".py",
   "mimetype": "text/x-python",
   "name": "python",
   "nbconvert_exporter": "python",
   "pygments_lexer": "ipython3",
   "version": "3.6.6"
  }
 },
 "nbformat": 4,
 "nbformat_minor": 4
}
