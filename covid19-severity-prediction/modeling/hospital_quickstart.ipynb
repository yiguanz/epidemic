{
 "cells": [
  {
   "cell_type": "markdown",
   "metadata": {},
   "source": [
    "**Note that this notebook uses private hospita-level data, so can't be run publicly**"
   ]
  },
  {
   "cell_type": "code",
   "execution_count": 5,
   "metadata": {},
   "outputs": [
    {
     "name": "stdout",
     "output_type": "stream",
     "text": [
      "The autoreload extension is already loaded. To reload it, use:\n",
      "  %reload_ext autoreload\n",
      "loading county-level data...\n",
      "loaded and merged COVID-19 cases/deaths data successfully\n",
      "total hospitals 5943 Counter({1: 2958, 2: 1493, 3: 1492})\n"
     ]
    }
   ],
   "source": [
    "%load_ext autoreload\n",
    "%autoreload 2\n",
    "import numpy as np\n",
    "import scipy as sp\n",
    "import pandas as pd\n",
    "import matplotlib.pyplot as plt\n",
    "from os.path import join as oj\n",
    "import math\n",
    "import pygsheets\n",
    "import pickle as pkl\n",
    "import pandas as pd\n",
    "import seaborn as sns\n",
    "import plotly.express as px\n",
    "from collections import Counter\n",
    "import plotly\n",
    "from plotly.subplots import make_subplots\n",
    "import plotly.graph_objects as go\n",
    "import sys\n",
    "import json\n",
    "import os\n",
    "import inspect\n",
    "\n",
    "currentdir = os.path.dirname(os.path.abspath(inspect.getfile(inspect.currentframe())))\n",
    "parentdir = os.path.dirname(currentdir)\n",
    "sys.path.append(parentdir)\n",
    "sys.path.append(parentdir + '/modeling')\n",
    "\n",
    "import load_data\n",
    "from viz import viz_static, viz_interactive, viz_map\n",
    "from modeling.fit_and_predict import add_preds\n",
    "from functions import merge_data\n",
    "from functions import update_severity_index as severity_index\n",
    "\n",
    "NUM_DAYS_LIST = [1, 2, 3, 4, 5, 6, 7]\n",
    "df_hospital = load_data.load_hospital_level(data_dir=oj(os.path.dirname(parentdir), 'covid-19-private-data'))\n",
    "df_county = load_data.load_county_level(data_dir=oj(parentdir, 'data'))\n",
    "df_county = add_preds(df_county, NUM_DAYS_LIST=NUM_DAYS_LIST, cached_dir=oj(parentdir, 'data')) # adds keys like \"Predicted Deaths 1-day\"\n",
    "df = merge_data.merge_county_and_hosp(df_county, df_hospital)\n",
    "\n",
    "df = severity_index.add_severity_index(df, NUM_DAYS_LIST)\n",
    "d = severity_index.df_to_plot(df, NUM_DAYS_LIST)\n",
    "k = 3\n",
    "s_hosp = f'Predicted Deaths Hospital {k}-day'\n",
    "s_index = f'Severity {k}-day'\n",
    "print('total hospitals', df.shape[0], Counter(df[s_index]))"
   ]
  },
  {
   "cell_type": "markdown",
   "metadata": {},
   "source": [
    "# severity index"
   ]
  },
  {
   "cell_type": "code",
   "execution_count": 20,
   "metadata": {},
   "outputs": [],
   "source": [
    "viz_interactive.viz_index_animated(d, [1, 2, 3, 4, 5],\n",
    "                                   x_key='Hospital Employees',\n",
    "                                   y_key='Predicted (cumulative) deaths at hospital',\n",
    "                                   hue='Severity Index',\n",
    "                                   out_name=oj(parentdir, 'results', 'hosp_test.html'))"
   ]
  },
  {
   "cell_type": "code",
   "execution_count": null,
   "metadata": {},
   "outputs": [],
   "source": [
    "viz_interactive.viz_index_animated(d, [3],\n",
    "                                   by_size=False,\n",
    "                                   out_name=oj('results', 'hospital_index_animated_full.html'))"
   ]
  },
  {
   "cell_type": "code",
   "execution_count": null,
   "metadata": {},
   "outputs": [],
   "source": [
    "plt.figure(dpi=500)\n",
    "remap = {'High': 'red',\n",
    "         'Medium': 'blue',\n",
    "         'Low': 'green'}\n",
    "dr = d # d[d['Severity Index 1-day']=='Low']\n",
    "plt.scatter(dr['Predicted Deaths Hospital 1-day'],\n",
    "            dr['Surge 1-day'],\n",
    "            s=(dr['Hospital Employees'] / 500).clip(lower=0.1), alpha=0.9,\n",
    "            c=[remap[x] for x in dr['Severity Index 1-day']])\n",
    "# plt.plot(d['Predicted Deaths Hospital 1-day'], d['Surge 1-day'], '.', )\n",
    "# plt.plot(d['Predicted Deaths Hospital 1-day'], d['Surge 1-day'], '.')\n",
    "# plt.yscale('log')\n",
    "# plt.xscale('log')\n",
    "plt.xlim((0, 10))\n",
    "plt.ylim((-1, 3))\n",
    "plt.xlabel('Predicted Deaths Hospital 1-day')\n",
    "plt.ylabel('Surge 1-day')\n",
    "plt.show()"
   ]
  },
  {
   "cell_type": "markdown",
   "metadata": {},
   "source": [
    "**start with county-level death predictions**"
   ]
  },
  {
   "cell_type": "code",
   "execution_count": null,
   "metadata": {},
   "outputs": [],
   "source": [
    "s = f'Predicted Deaths {3}-day' # tot_deaths\n",
    "# s = 'tot_deaths'\n",
    "num_days = 1\n",
    "nonzero = df[s] > 0\n",
    "plt.figure(dpi=300, figsize=(7, 3))\n",
    "plt.plot(df_county[s].values, '.', ms=3)\n",
    "plt.ylabel(s)\n",
    "plt.xlabel('Counties')\n",
    "plt.yscale('log')\n",
    "plt.tight_layout()\n",
    "plt.show()"
   ]
  },
  {
   "cell_type": "markdown",
   "metadata": {},
   "source": [
    "**look at distribution of predicted deaths at hospitals**"
   ]
  },
  {
   "cell_type": "code",
   "execution_count": null,
   "metadata": {},
   "outputs": [],
   "source": [
    "num_days = 1\n",
    "plt.figure(dpi=300, figsize=(7, 3))\n",
    "\n",
    "offset = 0\n",
    "for i in [5, 4, 3, 2, 1]:\n",
    "    idxs = (df[s_index] == i)\n",
    "    plt.plot(np.arange(offset, offset + idxs.sum()), \n",
    "             np.clip(df[idxs][s_hosp].values, a_min=1, a_max=None), '.-', label=f'{i}: {severity_index.meanings[i]}')\n",
    "    offset += idxs.sum()\n",
    "plt.yscale('log')\n",
    "plt.ylabel(s_hosp)\n",
    "plt.xlabel('Hospitals')\n",
    "plt.legend()\n",
    "plt.tight_layout()\n",
    "plt.show()"
   ]
  },
  {
   "cell_type": "code",
   "execution_count": null,
   "metadata": {},
   "outputs": [],
   "source": [
    "df.sort_values('Predicted Deaths Hospital 2-day', ascending=False)[['Hospital Name', 'StateName', \n",
    "                                                                    'Hospital Employees', 'tot_deaths',\n",
    "                                                                    'Predicted Deaths Hospital 2-day']].head(30)"
   ]
  },
  {
   "cell_type": "markdown",
   "metadata": {},
   "source": [
    "# look at top counties/hospitals"
   ]
  },
  {
   "cell_type": "markdown",
   "metadata": {},
   "source": [
    "**hospitals per county**"
   ]
  },
  {
   "cell_type": "code",
   "execution_count": null,
   "metadata": {},
   "outputs": [],
   "source": [
    "d = df\n",
    "\n",
    "R, C = 1, 2\n",
    "NUM_COUNTIES = 7\n",
    "plt.figure(dpi=300, figsize=(7, 3.5))\n",
    "\n",
    "\n",
    "plt.subplot(R, C, 1)\n",
    "c = 'County Name'\n",
    "county_names = d[c].unique()[:NUM_COUNTIES]\n",
    "num_academic_hospitals = []\n",
    "# d = df[outcome_keys + hospital_keys]\n",
    "# d = d.sort_values('New Deaths', ascending=False)\n",
    "for county in county_names:\n",
    "    num_academic_hospitals.append(d[d[c] == county].shape[0])\n",
    "plt.barh(county_names[::-1], num_academic_hospitals[::-1]) # reverse to plot top down\n",
    "plt.xlabel('Number academic hospitals\\n(for hospitals where we have data)')\n",
    "\n",
    "plt.subplot(R, C, 2)\n",
    "plt.barh(df_county.CountyName[:NUM_COUNTIES].values[::-1], df_county['Hospital Employees in County'][:NUM_COUNTIES][::-1]) # reverse to plot top down\n",
    "plt.xlabel('# Hospital Employees')\n",
    "\n",
    "plt.tight_layout()\n",
    "plt.show()"
   ]
  },
  {
   "cell_type": "code",
   "execution_count": null,
   "metadata": {},
   "outputs": [],
   "source": [
    "county_names = d[c].unique()[:NUM_COUNTIES]\n",
    "R, C = 4, 1\n",
    "plt.figure(figsize=(C * 3, R * 3), dpi=200)\n",
    "for i in range(R * C):\n",
    "    plt.subplot(R, C, i + 1)\n",
    "    cn = county_names[i]\n",
    "    dc = d[d[c] == cn]\n",
    "    plt.barh(dc['Hospital Name'][::-1], dc['Hospital Employees'][::-1])\n",
    "    plt.title(cn)\n",
    "    plt.xlabel('# Hospital Employees')\n",
    "plt.tight_layout()\n",
    "# plt.subplots_adjust(bottom=1)\n",
    "plt.show()"
   ]
  },
  {
   "cell_type": "markdown",
   "metadata": {},
   "source": [
    "## Hospital severity map"
   ]
  },
  {
   "cell_type": "code",
   "execution_count": null,
   "metadata": {},
   "outputs": [],
   "source": [
    "counties_json = json.load(open(oj(parentdir, \"data\", \"geojson-counties-fips.json\"), \"r\"))\n",
    "viz_map.plot_hospital_severity_slider(\n",
    "    df, df_county=df_county, \n",
    "    counties_json=counties_json, dark=False,\n",
    "    filename = oj(parentdir, \"results\", \"severity_map.html\")\n",
    ")"
   ]
  },
  {
   "cell_type": "markdown",
   "metadata": {},
   "source": [
    "## hospital contact info gsheet"
   ]
  },
  {
   "cell_type": "code",
   "execution_count": null,
   "metadata": {},
   "outputs": [],
   "source": [
    "ks_orig = ['countyFIPS', 'CountyName', 'Total Deaths Hospital', 'Hospital Name', 'CMS Certification Number',  'StateName', 'System Affiliation']\n",
    "ks_contact = ['Phone Number', 'Hospital Employees', 'Website', 'Number to Call (NTC)', 'Donation Phone Number', 'Donation Email', 'Notes']\n",
    "def write_to_gsheets_contact(df, ks_output,\n",
    "                     sheet_name='Contact Info',\n",
    "                     service_file='creds.json'):\n",
    "    \n",
    "    d = df[ks_output].fillna('')\n",
    "    print('writing to gsheets...')\n",
    "    gc = pygsheets.authorize(service_file=service_file)\n",
    "    sh = gc.open(sheet_name) # name of the hospital\n",
    "    wks = sh[0] #select a sheet\n",
    "    wks.update_value('A1', \"Last updated Apr 14\")\n",
    "    wks.set_dataframe(d, (3, 1)) #update the first sheet with df, starting at cell B2. \n",
    "    \n",
    "write_to_gsheets_contact(df, ks_output=ks_orig + ks_contact)"
   ]
  },
  {
   "cell_type": "markdown",
   "metadata": {},
   "source": [
    "# look at an area"
   ]
  },
  {
   "cell_type": "code",
   "execution_count": 36,
   "metadata": {},
   "outputs": [],
   "source": [
    "ks_orig = ['Hospital Name', 'Total Deaths Hospital', 'Hospital Employees', 'Severity Index 5-day', 'Predicted Deaths Hospital 5-day', 'CountyName', 'countyFIPS', 'CMS Certification Number',  'StateName', 'System Affiliation']\n",
    "ks_contact = ['Phone Number', 'Website']\n",
    "k_sort = 'Deaths at hospital so far (estimated from county deaths)'\n",
    "remap = {\n",
    "    'Total Deaths Hospital': k_sort\n",
    "}\n",
    "d = df[ks_orig + ks_contact].rename(columns=remap)\n",
    "d = d[d['StateName'] == 'MI'].sort_values(k_sort, ascending=False)\n",
    "\n",
    "counties = ['Macomb', 'Oakland', 'Wayne'] \n",
    "d = d[d.CountyName.isin(counties)]\n",
    "# d.to_csv('detroit_hospitals.csv')"
   ]
  },
  {
   "cell_type": "code",
   "execution_count": 39,
   "metadata": {},
   "outputs": [
    {
     "data": {
      "text/plain": [
       "40"
      ]
     },
     "execution_count": 39,
     "metadata": {},
     "output_type": "execute_result"
    }
   ],
   "source": [
    "(d['Severity Index 5-day']=='High').sum()"
   ]
  }
 ],
 "metadata": {
  "kernelspec": {
   "display_name": "Python 3",
   "language": "python",
   "name": "python3"
  },
  "language_info": {
   "codemirror_mode": {
    "name": "ipython",
    "version": 3
   },
   "file_extension": ".py",
   "mimetype": "text/x-python",
   "name": "python",
   "nbconvert_exporter": "python",
   "pygments_lexer": "ipython3",
   "version": "3.6.6"
  }
 },
 "nbformat": 4,
 "nbformat_minor": 4
}
