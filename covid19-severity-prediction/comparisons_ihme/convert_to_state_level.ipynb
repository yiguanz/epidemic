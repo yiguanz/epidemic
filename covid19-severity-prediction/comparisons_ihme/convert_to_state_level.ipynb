{
 "cells": [
  {
   "cell_type": "markdown",
   "metadata": {},
   "source": [
    "# 0. Notes\n",
    "\n",
    "Converts county level predictions to state and country level\n",
    "\n",
    "Note: the county-level predictions can be downloaded from [this gsheet](https://docs.google.com/spreadsheets/d/1ZSG7o4cV-G0Zg3wlgJpB2Zvg-vEN1i_76n2I-djL0Dk/edit#gid=1510898570)"
   ]
  },
  {
   "cell_type": "markdown",
   "metadata": {},
   "source": [
    "# 1. Imports"
   ]
  },
  {
   "cell_type": "code",
   "execution_count": 1,
   "metadata": {},
   "outputs": [],
   "source": [
    "import matplotlib.pyplot as plt\n",
    "import numpy as np\n",
    "import pandas as pd\n",
    "\n",
    "from os import listdir, path"
   ]
  },
  {
   "cell_type": "markdown",
   "metadata": {},
   "source": [
    "# 2. Data processing"
   ]
  },
  {
   "cell_type": "code",
   "execution_count": null,
   "metadata": {},
   "outputs": [],
   "source": [
    "# Get all csvs\n",
    "filenames = listdir(\".\")\n",
    "filenames = [f for f in filenames if '.csv' in f]\n",
    "\n",
    "for name in filenames:\n",
    "\n",
    "    # Read in data\n",
    "    predictions = pd.read_csv(name, index_col = 0)\n",
    "\n",
    "    # Extract state abbreviation\n",
    "    predictions['state'] = predictions['CountyNamew/StateAbbrev'].str[-2:]\n",
    "\n",
    "\n",
    "    # Drop columns county level\n",
    "    predictions = predictions.drop(columns = ['countyFIPS', 'CountyNamew/StateAbbrev'])\n",
    "\n",
    "    # Sum predictions by states\n",
    "    predictions = predictions.groupby(['state']).sum().reset_index()\n",
    "\n",
    "    # Add U.S\n",
    "    US = pd.concat([pd.Series({'state': 'US'}), predictions.drop(columns='state').sum(axis=0)])\n",
    "    predictions = predictions.append(US, ignore_index = True)\n",
    "\n",
    "    predictions.to_csv(\"other_modeling/yugroup/\" + name[-9:])"
   ]
  }
 ],
 "metadata": {
  "kernelspec": {
   "display_name": "Python 3",
   "language": "python",
   "name": "python3"
  },
  "language_info": {
   "codemirror_mode": {
    "name": "ipython",
    "version": 3
   },
   "file_extension": ".py",
   "mimetype": "text/x-python",
   "name": "python",
   "nbconvert_exporter": "python",
   "pygments_lexer": "ipython3",
   "version": "3.7.5"
  }
 },
 "nbformat": 4,
 "nbformat_minor": 4
}
