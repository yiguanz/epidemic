{
 "cells": [
  {
   "cell_type": "code",
   "execution_count": 3,
   "metadata": {},
   "outputs": [
    {
     "name": "stderr",
     "output_type": "stream",
     "text": [
      "Loading required package: coda\n",
      "\n",
      "Loading required package: MASS\n",
      "\n",
      "##\n",
      "## Markov Chain Monte Carlo Package (MCMCpack)\n",
      "\n",
      "## Copyright (C) 2003-2020 Andrew D. Martin, Kevin M. Quinn, and Jong Hee Park\n",
      "\n",
      "##\n",
      "## Support provided by the U.S. National Science Foundation\n",
      "\n",
      "## (Grants SES-0350646 and SES-0350613)\n",
      "##\n",
      "\n"
     ]
    }
   ],
   "source": [
    "library(MultiBD)\n",
    "library(MCMCpack)\n",
    "# if (!requireNamespace(\"BiocManager\", quietly = TRUE))\n",
    "#     install.packages(\"BiocManager\")\n",
    "# BiocManager::install(c(\"graph\", \"Rgraphviz\"))\n",
    "# biocLite(\"graph\")\n",
    "# biocLite(\"Rgraphviz\")"
   ]
  },
  {
   "cell_type": "markdown",
   "metadata": {},
   "source": [
    "## Functions"
   ]
  },
  {
   "cell_type": "code",
   "execution_count": null,
   "metadata": {},
   "outputs": [],
   "source": [
    "loglik_sir <- function(param, data) {\n",
    "    alpha <- exp(param[1]) # Rates must be non-negative \n",
    "    beta <- exp(param[2])\n",
    "\n",
    "    # Set-up SIR model\n",
    "    drates1 <- function(a, b) { 0 }\n",
    "    brates2 <- function(a, b) { 0 }\n",
    "    drates2 <- function(a, b) { alpha * b     }\n",
    "    trans12 <- function(a, b) { beta  * a * b }\n",
    "\n",
    "    sum(sapply(1:(nrow(data) - 1), # Sum across all time steps k \n",
    "        function(k) {\n",
    "            log(\n",
    "                dbd_prob( # Compute the transition probability matrix\n",
    "                    #t = data$Days[k + 1] - data$Days[k], # Time increment\n",
    "                    t = 1,\n",
    "                    a0 = data$S[k], b0 = data$I[k], # From: S(t_k), I(t_k) \n",
    "                    drates1, brates2, drates2, trans12,\n",
    "                    a = data$S[k + 1], B = data$S[k] + data$I[k] - data$S[k + 1], \n",
    "                    computeMode = 4, nblocks = 80 # Compute using 4 threads\n",
    "                )[1, data$I[k + 1] + 1] # To: S(t_(k+1)), I(t_(k+1)) \n",
    "            )\n",
    "        }))\n",
    "}"
   ]
  },
  {
   "cell_type": "code",
   "execution_count": 33,
   "metadata": {},
   "outputs": [],
   "source": [
    "logprior <- function(param) {\n",
    "    log_alpha <- param[1]\n",
    "    log_beta <- param[2]\n",
    "    \n",
    "    dnorm(log_alpha, mean = 0, sd = 100, log = TRUE) + dnorm(log_beta, mean = 0, sd = 100, log = TRUE)\n",
    "}"
   ]
  },
  {
   "cell_type": "code",
   "execution_count": 34,
   "metadata": {},
   "outputs": [],
   "source": [
    "loss <- function(alpha, beta, dataset, last_case) {\n",
    "    loss = 0\n",
    "    l = len(dataset)\n",
    "    last = last_case\n",
    "    for (day in 1:l) {\n",
    "        S = dataset$S[day]\n",
    "        I = dataset$I[day]\n",
    "        D = dataset$D[day]\n",
    "        n = S + I + D\n",
    "        pred = last_case + beta * S * I / n - gamma * I\n",
    "        temp_loss = (log((dataset[day] + 1)) - log(pred + 1))^2\n",
    "        loss = loss + temp_loss\n",
    "        last_case = pred\n",
    "    }\n",
    "    loss = loss/l\n",
    "}"
   ]
  },
  {
   "cell_type": "code",
   "execution_count": 35,
   "metadata": {},
   "outputs": [],
   "source": [
    "setwd(\"/home/ubuntu/covid19-severity-prediction/county_csv\")\n",
    "csv_names = list.files(pattern = \"*\")\n",
    "csv_nums = length(csv_names)"
   ]
  },
  {
   "cell_type": "code",
   "execution_count": null,
   "metadata": {},
   "outputs": [],
   "source": [
    "for (iter in 1:10) {\n",
    "    total_valid = 0\n",
    "    total_test = 0\n",
    "    for (csv in csv_names) {\n",
    "        s = paste0(\"/home/ubuntu/covid19-severity-prediction/county_csv/\", csv)\n",
    "        dir = unlist(strsplit(s, split='.', fixed=TRUE))[1]\n",
    "        data = read.csv(dir, head = TRUE) \n",
    "        train_data = data[1:98,]\n",
    "        valid_data = data[99:114,]\n",
    "        test_data = data[115:129,]\n",
    "        alpha0 <- 3.39\n",
    "        beta0  <- 0.0212\n",
    "        post_sample <- MCMCmetrop1R(fun = function(param) { loglik_sir(param, data) + logprior(param)},\n",
    "                        theta.init = log(c(alpha0, beta0)),\n",
    "                           mcmc = iter, burnin = 20)\n",
    "        alpha <- mean(exp(post_sample[,1]))\n",
    "        beta <- mean(exp(post_sample[,2]))\n",
    "        last_case = data[98,]\n",
    "        valid_loss = loss(alpha, beta, valid_data, last_case)\n",
    "        test_loss = loss(alpha, beta, test_data, last_case)\n",
    "    }\n",
    "    total_valid = total_valid / csv_nums\n",
    "    total_test = total_test / csv_nums\n",
    "    print(paste0(\"MCMC num = \", toString(iter), \";  valid error = \", toString(total_valid), \";  valid error = \", toString(total_test)))\n",
    "}"
   ]
  },
  {
   "cell_type": "code",
   "execution_count": 2,
   "metadata": {},
   "outputs": [
    {
     "ename": "ERROR",
     "evalue": "Error in paste0(\"/home/ubuntu/covid19-severity-prediction/county_csv/\", : object 'csv_names' not found\n",
     "output_type": "error",
     "traceback": [
      "Error in paste0(\"/home/ubuntu/covid19-severity-prediction/county_csv/\", : object 'csv_names' not found\nTraceback:\n",
      "1. paste0(\"/home/ubuntu/covid19-severity-prediction/county_csv/\", \n .     csv_names[1])"
     ]
    }
   ],
   "source": [
    "s = paste0(\"/home/ubuntu/covid19-severity-prediction/county_csv/\", csv_names[1])\n",
    "dir = unlist(strsplit(s, split='.', fixed=TRUE))[1]\n",
    "data = read.csv(dir, head = TRUE) \n",
    "train_data = data[1:98,]\n",
    "valid_data = data[99:114,]\n",
    "test_data = data[115:129,]\n",
    "last_data = data[98,]\n",
    "print(test_data$Days[1])"
   ]
  },
  {
   "cell_type": "code",
   "execution_count": 37,
   "metadata": {},
   "outputs": [],
   "source": [
    "alpha0 <- 3.39\n",
    "beta0  <- 0.0212"
   ]
  },
  {
   "cell_type": "code",
   "execution_count": null,
   "metadata": {},
   "outputs": [],
   "source": [
    "post_sample <- MCMCmetrop1R(fun = function(param) {loglik_sir(param, data) + logprior(param)},\n",
    "                        theta.init = log(c(alpha0, beta0)),\n",
    "                           mcmc = 20, burnin = 10)"
   ]
  },
  {
   "cell_type": "code",
   "execution_count": 41,
   "metadata": {},
   "outputs": [],
   "source": [
    "alpha <- mean(exp(post_sample[,1]))\n",
    "beta <- mean(exp(post_sample[,2]))"
   ]
  },
  {
   "cell_type": "code",
   "execution_count": 42,
   "metadata": {},
   "outputs": [
    {
     "data": {
      "text/html": [
       "1.73124718713088"
      ],
      "text/latex": [
       "1.73124718713088"
      ],
      "text/markdown": [
       "1.73124718713088"
      ],
      "text/plain": [
       "[1] 1.731247"
      ]
     },
     "metadata": {},
     "output_type": "display_data"
    },
    {
     "data": {
      "text/html": [
       "0.0103514140491245"
      ],
      "text/latex": [
       "0.0103514140491245"
      ],
      "text/markdown": [
       "0.0103514140491245"
      ],
      "text/plain": [
       "[1] 0.01035141"
      ]
     },
     "metadata": {},
     "output_type": "display_data"
    }
   ],
   "source": [
    "alpha\n",
    "beta"
   ]
  },
  {
   "cell_type": "code",
   "execution_count": null,
   "metadata": {},
   "outputs": [],
   "source": [
    "loss()"
   ]
  }
 ],
 "metadata": {
  "kernelspec": {
   "display_name": "R",
   "language": "R",
   "name": "ir"
  },
  "language_info": {
   "codemirror_mode": "r",
   "file_extension": ".r",
   "mimetype": "text/x-r-source",
   "name": "R",
   "pygments_lexer": "r",
   "version": "4.0.1"
  }
 },
 "nbformat": 4,
 "nbformat_minor": 4
}
