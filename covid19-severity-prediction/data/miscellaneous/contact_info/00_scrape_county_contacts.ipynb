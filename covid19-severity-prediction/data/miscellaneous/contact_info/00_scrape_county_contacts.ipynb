{
 "cells": [
  {
   "cell_type": "code",
   "execution_count": 72,
   "metadata": {},
   "outputs": [],
   "source": [
    "import requests\n",
    "from bs4 import BeautifulSoup\n",
    "import pandas as pd"
   ]
  },
  {
   "cell_type": "code",
   "execution_count": 3,
   "metadata": {},
   "outputs": [],
   "source": [
    "states = [\"AL\", \"AK\", \"AZ\", \"AR\", \"CA\", \"CO\", \"CT\", \"DE\", \"FL\", \"GA\", \"HI\", \"ID\", \"IL\",\n",
    "          \"IN\", \"IA\", \"KS\", \"KY\", \"LA\", \"ME\",\n",
    "         \"MD\", \"MA\", \"MI\", \"MN\", \"MS\", \"MO\", \"MT\", \"NE\", \"NV\",\n",
    "          \"NH\", \"NJ\", \"NM\", \"NY\", \"NC\", \"ND\", \"OH\", \"OK\", \"OR\", \"PA\",\n",
    "         \"RI\", \"SC\", \"SD\", \"TN\", \"TX\", \"UT\", \"VT\", \n",
    "          \"VA\", \"WA\", \"WV\", \"WI\", \"WY\"]"
   ]
  },
  {
   "cell_type": "code",
   "execution_count": 77,
   "metadata": {},
   "outputs": [],
   "source": [
    "# Get the State Data\n",
    "sites = []\n",
    "for state in states:\n",
    "    url = \"https://www.naccho.org/membership/lhd-directory?searchType=standard&lhd-search=&lhd-state=%s\" % state\n",
    "\n",
    "    res = requests.get(url)\n",
    "    assert res.status_code == 200\n",
    "    \n",
    "    sites.append(res.text)"
   ]
  },
  {
   "cell_type": "code",
   "execution_count": 46,
   "metadata": {},
   "outputs": [
    {
     "data": {
      "text/plain": [
       "True"
      ]
     },
     "execution_count": 46,
     "metadata": {},
     "output_type": "execute_result"
    }
   ],
   "source": [
    "\"southwest\" in soup.text.lower()"
   ]
  },
  {
   "cell_type": "code",
   "execution_count": 80,
   "metadata": {},
   "outputs": [
    {
     "data": {
      "text/plain": [
       "50"
      ]
     },
     "execution_count": 80,
     "metadata": {},
     "output_type": "execute_result"
    }
   ],
   "source": [
    "len(sites)"
   ]
  },
  {
   "cell_type": "code",
   "execution_count": 83,
   "metadata": {},
   "outputs": [],
   "source": [
    "data = {\n",
    "    \"state\": [],\n",
    "    \"public_health\": [],\n",
    "    \"phone_number\": []\n",
    "    \n",
    "}\n",
    "cnt = 0\n",
    "for s in range(0, len(sites)):\n",
    "    soup = BeautifulSoup(sites[s], \"html.parser\")\n",
    "    if soup == None:\n",
    "        continue\n",
    "    state = states[s]\n",
    "    # Find all the data\n",
    "    for td in soup.table.find_all(\"td\"):\n",
    "        if td == None:\n",
    "            continue\n",
    "        if \"health\" in td.text.lower():\n",
    "            # if cnt == 1, means last one didn't have a phone number, so pop it\n",
    "            if cnt == 1:\n",
    "                data[\"state\"].pop()\n",
    "                data[\"public_health\"].pop()\n",
    "                cnt = 0\n",
    "                \n",
    "            data[\"state\"].append(state)\n",
    "            data[\"public_health\"].append(td.text)\n",
    "            cnt=1\n",
    "        \n",
    "        if \"phone\" in td.text.lower():\n",
    "            # Update the data with corresponding phone number\n",
    "            # Updates only if previous update was \n",
    "            if cnt == 1:\n",
    "                if td.a == None:\n",
    "                    continue\n",
    "                num = td.a.get(\"href\")\n",
    "                data[\"phone_number\"].append(num[5:])\n",
    "                cnt = 0\n",
    "                \n",
    "        \n",
    "            \n",
    "assert len(data[\"public_health\"]) == len(data[\"phone_number\"])"
   ]
  },
  {
   "cell_type": "code",
   "execution_count": 85,
   "metadata": {},
   "outputs": [],
   "source": [
    "pd.DataFrame(data).to_csv(\"../data/all_state_numbers.csv\")"
   ]
  }
 ],
 "metadata": {
  "kernelspec": {
   "display_name": "Python 3",
   "language": "python",
   "name": "python3"
  },
  "language_info": {
   "codemirror_mode": {
    "name": "ipython",
    "version": 3
   },
   "file_extension": ".py",
   "mimetype": "text/x-python",
   "name": "python",
   "nbconvert_exporter": "python",
   "pygments_lexer": "ipython3",
   "version": "3.7.4"
  }
 },
 "nbformat": 4,
 "nbformat_minor": 2
}
