{
 "cells": [
  {
   "cell_type": "markdown",
   "metadata": {},
   "source": [
    "# Nursing Homes EDA"
   ]
  },
  {
   "cell_type": "code",
   "execution_count": 1,
   "metadata": {},
   "outputs": [],
   "source": [
    "%load_ext autoreload\n",
    "%autoreload 2\n",
    "import numpy as np\n",
    "import matplotlib.mlab as mlab\n",
    "import matplotlib.pyplot as plt\n",
    "import plotly as py\n",
    "import plotly.figure_factory as ff\n",
    "import pandas as pd\n",
    "from tqdm import tqdm\n",
    "import os\n",
    "from os.path import join as oj\n",
    "import numpy as np\n",
    "from bokeh.plotting import figure, show, output_notebook, output_file, save\n",
    "import sys\n",
    "import copy\n",
    "import re\n",
    "from datetime import date"
   ]
  },
  {
   "cell_type": "markdown",
   "metadata": {},
   "source": [
    "## Load in raw HIFLD and NYT nursing homes data"
   ]
  },
  {
   "cell_type": "code",
   "execution_count": 2,
   "metadata": {},
   "outputs": [],
   "source": [
    "data_dir = \"../../data/nursinghome_level/raw/\"\n",
    "data_dir_clean = \"../../data/nursinghome_level/processed/\"\n",
    "sys.path.append(data_dir)\n",
    "from hifld_nursinghomes.load import load_hifld_nursinghomes\n",
    "from nyt_nursinghomes.load import load_nyt_nursinghomes"
   ]
  },
  {
   "cell_type": "code",
   "execution_count": 3,
   "metadata": {},
   "outputs": [],
   "source": [
    "hifld = load_hifld_nursinghomes(oj(data_dir, \"hifld_nursinghomes\"))\n",
    "#nyt = load_nyt_nursinghomes(oj(data_dir, \"nyt_nursinghomes\"))\n",
    "nyt = load_nyt_nursinghomes(oj(data_dir, \"nyt_nursinghomes\"))\n",
    "#nyt = pd.read_csv(oj(data_dir, \"nyt_nursinghomes\", \"nyt_nursinghomes_2020-05-11.csv\"))"
   ]
  },
  {
   "cell_type": "code",
   "execution_count": 4,
   "metadata": {},
   "outputs": [
    {
     "data": {
      "text/plain": [
       "(39762, 33)"
      ]
     },
     "execution_count": 4,
     "metadata": {},
     "output_type": "execute_result"
    }
   ],
   "source": [
    "hifld.shape"
   ]
  },
  {
   "cell_type": "code",
   "execution_count": 5,
   "metadata": {},
   "outputs": [
    {
     "data": {
      "text/plain": [
       "(543, 5)"
      ]
     },
     "execution_count": 5,
     "metadata": {},
     "output_type": "execute_result"
    }
   ],
   "source": [
    "nyt.shape"
   ]
  },
  {
   "cell_type": "code",
   "execution_count": 6,
   "metadata": {},
   "outputs": [
    {
     "data": {
      "text/plain": [
       "Index(['Name', 'Cases_2020-05-11', 'Deaths_2020-05-11', 'City', 'State'], dtype='object')"
      ]
     },
     "execution_count": 6,
     "metadata": {},
     "output_type": "execute_result"
    }
   ],
   "source": [
    "nyt.columns"
   ]
  },
  {
   "cell_type": "code",
   "execution_count": 7,
   "metadata": {},
   "outputs": [
    {
     "data": {
      "text/plain": [
       "Index(['FID', 'ID', 'NAME', 'ADDRESS', 'CITY', 'STATE', 'ZIP', 'ZIP4',\n",
       "       'TELEPHONE', 'TYPE', 'STATUS', 'POPULATION', 'COUNTY', 'COUNTYFIPS',\n",
       "       'COUNTRY', 'LATITUDE', 'LONGITUDE', 'NAICS_CODE', 'NAICS_DESC',\n",
       "       'SOURCE', 'SOURCEDATE', 'VAL_METHOD', 'VAL_DATE', 'WEBSITE', 'TOT_RES',\n",
       "       'TOT_STAFF', 'BEDS', 'EXCESS_BED', 'OWNERSHIP', 'MEDICAIDID',\n",
       "       'MEDICAREID', 'STATE_LIC', 'SOURCETYPE'],\n",
       "      dtype='object')"
      ]
     },
     "execution_count": 7,
     "metadata": {},
     "output_type": "execute_result"
    }
   ],
   "source": [
    "hifld.columns"
   ]
  },
  {
   "cell_type": "code",
   "execution_count": 8,
   "metadata": {},
   "outputs": [
    {
     "data": {
      "text/plain": [
       "FID               0\n",
       "ID                0\n",
       "NAME              0\n",
       "ADDRESS           0\n",
       "CITY              0\n",
       "STATE             0\n",
       "ZIP               0\n",
       "ZIP4          33752\n",
       "TELEPHONE      2101\n",
       "TYPE              0\n",
       "STATUS            0\n",
       "POPULATION     4741\n",
       "COUNTY            0\n",
       "COUNTYFIPS        0\n",
       "COUNTRY           0\n",
       "LATITUDE          0\n",
       "LONGITUDE         0\n",
       "NAICS_CODE        0\n",
       "NAICS_DESC        0\n",
       "SOURCE            0\n",
       "SOURCEDATE        0\n",
       "VAL_METHOD        0\n",
       "VAL_DATE          0\n",
       "WEBSITE       35265\n",
       "TOT_RES       38826\n",
       "TOT_STAFF     39268\n",
       "BEDS           4527\n",
       "EXCESS_BED    39449\n",
       "OWNERSHIP     19819\n",
       "MEDICAIDID    39356\n",
       "MEDICAREID    39726\n",
       "STATE_LIC     11626\n",
       "SOURCETYPE        1\n",
       "dtype: int64"
      ]
     },
     "execution_count": 8,
     "metadata": {},
     "output_type": "execute_result"
    }
   ],
   "source": [
    "hifld.isna().sum()"
   ]
  },
  {
   "cell_type": "code",
   "execution_count": 9,
   "metadata": {},
   "outputs": [
    {
     "data": {
      "text/plain": [
       "Name                 0\n",
       "Cases_2020-05-11     0\n",
       "Deaths_2020-05-11    0\n",
       "City                 0\n",
       "State                0\n",
       "dtype: int64"
      ]
     },
     "execution_count": 9,
     "metadata": {},
     "output_type": "execute_result"
    }
   ],
   "source": [
    "nyt.isna().sum()"
   ]
  },
  {
   "cell_type": "markdown",
   "metadata": {},
   "source": [
    "## Clean HIFLD"
   ]
  },
  {
   "cell_type": "code",
   "execution_count": 10,
   "metadata": {},
   "outputs": [],
   "source": [
    "hifld_raw = copy.deepcopy(hifld)"
   ]
  },
  {
   "cell_type": "code",
   "execution_count": 11,
   "metadata": {},
   "outputs": [
    {
     "data": {
      "text/plain": [
       "(39762, 33)"
      ]
     },
     "execution_count": 11,
     "metadata": {},
     "output_type": "execute_result"
    }
   ],
   "source": [
    "hifld_raw.shape"
   ]
  },
  {
   "cell_type": "code",
   "execution_count": 12,
   "metadata": {},
   "outputs": [],
   "source": [
    "# drop those with all nas\n",
    "#hifld = hifld.dropna(subset = [\"POPULATION\", \"TOT_RES\", \"TOT_STAFF\", \"BEDS\", \"EXCESS_BED\"],\n",
    "#                     how = \"all\")"
   ]
  },
  {
   "cell_type": "code",
   "execution_count": 13,
   "metadata": {},
   "outputs": [],
   "source": [
    "# drop facilites that are closed\n",
    "hifld = hifld.loc[hifld[\"STATUS\"] != \"CLOSED\"]"
   ]
  },
  {
   "cell_type": "code",
   "execution_count": 14,
   "metadata": {},
   "outputs": [
    {
     "data": {
      "text/plain": [
       "(38938, 33)"
      ]
     },
     "execution_count": 14,
     "metadata": {},
     "output_type": "execute_result"
    }
   ],
   "source": [
    "hifld.shape"
   ]
  },
  {
   "cell_type": "code",
   "execution_count": 15,
   "metadata": {},
   "outputs": [],
   "source": [
    "keys = [\"NAME\", \"ADDRESS\", \"CITY\", \"STATE\", \"ZIP\", \"TYPE\", \"POPULATION\",\n",
    "        \"COUNTYFIPS\", \"TOT_RES\", \"TOT_STAFF\", \"BEDS\", \"EXCESS_BED\"]\n",
    "hifld = hifld.drop_duplicates(subset = keys)"
   ]
  },
  {
   "cell_type": "code",
   "execution_count": 16,
   "metadata": {},
   "outputs": [
    {
     "data": {
      "text/plain": [
       "(38893, 33)"
      ]
     },
     "execution_count": 16,
     "metadata": {},
     "output_type": "execute_result"
    }
   ],
   "source": [
    "hifld.shape"
   ]
  },
  {
   "cell_type": "code",
   "execution_count": 17,
   "metadata": {},
   "outputs": [
    {
     "data": {
      "text/plain": [
       "(38841, 33)"
      ]
     },
     "execution_count": 17,
     "metadata": {},
     "output_type": "execute_result"
    }
   ],
   "source": [
    "hifld.drop_duplicates(subset = [\"NAME\", \"ADDRESS\", \"CITY\", \"STATE\", \"TYPE\"], keep  = False).shape"
   ]
  },
  {
   "cell_type": "code",
   "execution_count": 18,
   "metadata": {},
   "outputs": [],
   "source": [
    "# manually edit those with duplicated key: [\"NAME\", \"ADDRESS\", \"CITY\", \"STATE\", \"TYPE\"]\n",
    "hifld = hifld.drop_duplicates(subset = [\"NAME\", \"ADDRESS\", \"CITY\", \"STATE\", \"TYPE\"], keep = False)\n",
    "hifld_edits = pd.read_csv(oj(data_dir_clean, \"hifld_nursinghomes\", \"hifld_nursinghomes_manualedits.csv\"))\n",
    "# Note: for duplicates in MO: used https://health.mo.gov/information/boards/certificateofneed/pdf/rcfcty.pdf for validation\n",
    "# Nursing homes in other states were googled manually\n",
    "hifld = pd.concat([hifld, hifld_edits], axis = 0, sort = False)"
   ]
  },
  {
   "cell_type": "code",
   "execution_count": 19,
   "metadata": {},
   "outputs": [
    {
     "data": {
      "text/plain": [
       "(38867, 33)"
      ]
     },
     "execution_count": 19,
     "metadata": {},
     "output_type": "execute_result"
    }
   ],
   "source": [
    "hifld.shape"
   ]
  },
  {
   "cell_type": "code",
   "execution_count": 20,
   "metadata": {},
   "outputs": [
    {
     "data": {
      "text/html": [
       "<div>\n",
       "<style scoped>\n",
       "    .dataframe tbody tr th:only-of-type {\n",
       "        vertical-align: middle;\n",
       "    }\n",
       "\n",
       "    .dataframe tbody tr th {\n",
       "        vertical-align: top;\n",
       "    }\n",
       "\n",
       "    .dataframe thead th {\n",
       "        text-align: right;\n",
       "    }\n",
       "</style>\n",
       "<table border=\"1\" class=\"dataframe\">\n",
       "  <thead>\n",
       "    <tr style=\"text-align: right;\">\n",
       "      <th></th>\n",
       "      <th>FID</th>\n",
       "      <th>ID</th>\n",
       "      <th>NAME</th>\n",
       "      <th>ADDRESS</th>\n",
       "      <th>CITY</th>\n",
       "      <th>STATE</th>\n",
       "      <th>ZIP</th>\n",
       "      <th>ZIP4</th>\n",
       "      <th>TELEPHONE</th>\n",
       "      <th>TYPE</th>\n",
       "      <th>...</th>\n",
       "      <th>WEBSITE</th>\n",
       "      <th>TOT_RES</th>\n",
       "      <th>TOT_STAFF</th>\n",
       "      <th>BEDS</th>\n",
       "      <th>EXCESS_BED</th>\n",
       "      <th>OWNERSHIP</th>\n",
       "      <th>MEDICAIDID</th>\n",
       "      <th>MEDICAREID</th>\n",
       "      <th>STATE_LIC</th>\n",
       "      <th>SOURCETYPE</th>\n",
       "    </tr>\n",
       "  </thead>\n",
       "  <tbody>\n",
       "    <tr>\n",
       "      <td>0</td>\n",
       "      <td>1</td>\n",
       "      <td>5449</td>\n",
       "      <td>SUMMIT AT HIDDEN VALLEY, THE</td>\n",
       "      <td>438 23RD STREET</td>\n",
       "      <td>OAK HILL</td>\n",
       "      <td>WV</td>\n",
       "      <td>25901</td>\n",
       "      <td>NaN</td>\n",
       "      <td>(304) 469-8255</td>\n",
       "      <td>NURSING HOME</td>\n",
       "      <td>...</td>\n",
       "      <td>NaN</td>\n",
       "      <td>NaN</td>\n",
       "      <td>NaN</td>\n",
       "      <td>58.0</td>\n",
       "      <td>NaN</td>\n",
       "      <td>NaN</td>\n",
       "      <td>NaN</td>\n",
       "      <td>NaN</td>\n",
       "      <td>NaN</td>\n",
       "      <td>NURSING HOME</td>\n",
       "    </tr>\n",
       "    <tr>\n",
       "      <td>1</td>\n",
       "      <td>2</td>\n",
       "      <td>5156</td>\n",
       "      <td>BROOKDALE LAKE RIDGE</td>\n",
       "      <td>3940 PRINCE WILLIAM PARKWAY</td>\n",
       "      <td>WOODBRIDGE</td>\n",
       "      <td>VA</td>\n",
       "      <td>22192</td>\n",
       "      <td>4513.0</td>\n",
       "      <td>(703) 680-0600</td>\n",
       "      <td>ASSISTED CARE</td>\n",
       "      <td>...</td>\n",
       "      <td>NaN</td>\n",
       "      <td>NaN</td>\n",
       "      <td>NaN</td>\n",
       "      <td>107.0</td>\n",
       "      <td>NaN</td>\n",
       "      <td>NaN</td>\n",
       "      <td>NaN</td>\n",
       "      <td>NaN</td>\n",
       "      <td>NaN</td>\n",
       "      <td>ASSISTED LIVING FACILITY</td>\n",
       "    </tr>\n",
       "    <tr>\n",
       "      <td>2</td>\n",
       "      <td>3</td>\n",
       "      <td>37345</td>\n",
       "      <td>VILLAGE GREEN HEALTH AND REHABILITATION</td>\n",
       "      <td>1601 PURDUE DRIVE</td>\n",
       "      <td>FAYETTEVILLE</td>\n",
       "      <td>NC</td>\n",
       "      <td>28304</td>\n",
       "      <td>3674.0</td>\n",
       "      <td>(910) 486-5000</td>\n",
       "      <td>NURSING HOME</td>\n",
       "      <td>...</td>\n",
       "      <td>NaN</td>\n",
       "      <td>NaN</td>\n",
       "      <td>NaN</td>\n",
       "      <td>170.0</td>\n",
       "      <td>NaN</td>\n",
       "      <td>NaN</td>\n",
       "      <td>NaN</td>\n",
       "      <td>NaN</td>\n",
       "      <td>NH0502</td>\n",
       "      <td>NURSING FACILITY</td>\n",
       "    </tr>\n",
       "    <tr>\n",
       "      <td>3</td>\n",
       "      <td>4</td>\n",
       "      <td>25342</td>\n",
       "      <td>CARE ONE AT LEXINGTON</td>\n",
       "      <td>178 LOWELL STREET</td>\n",
       "      <td>LEXINGTON</td>\n",
       "      <td>MA</td>\n",
       "      <td>2420</td>\n",
       "      <td>2719.0</td>\n",
       "      <td>(781) 862-7400</td>\n",
       "      <td>NURSING HOME</td>\n",
       "      <td>...</td>\n",
       "      <td>www.lexingtonhcc.com</td>\n",
       "      <td>NaN</td>\n",
       "      <td>NaN</td>\n",
       "      <td>NaN</td>\n",
       "      <td>NaN</td>\n",
       "      <td>PROFIT</td>\n",
       "      <td>NaN</td>\n",
       "      <td>NaN</td>\n",
       "      <td>NaN</td>\n",
       "      <td>NURSING FACILITY</td>\n",
       "    </tr>\n",
       "    <tr>\n",
       "      <td>4</td>\n",
       "      <td>5</td>\n",
       "      <td>5501389</td>\n",
       "      <td>TIMBER VIEW</td>\n",
       "      <td>S8560 BALSAM ROAD</td>\n",
       "      <td>EAU CLAIRE</td>\n",
       "      <td>WI</td>\n",
       "      <td>54701</td>\n",
       "      <td>NaN</td>\n",
       "      <td>(715) 878-4699</td>\n",
       "      <td>ASSISTED LIVING</td>\n",
       "      <td>...</td>\n",
       "      <td>NaN</td>\n",
       "      <td>NaN</td>\n",
       "      <td>NaN</td>\n",
       "      <td>6.0</td>\n",
       "      <td>NaN</td>\n",
       "      <td>BROTOLOC INC DBA BROTOLOC NORTH</td>\n",
       "      <td>NaN</td>\n",
       "      <td>NaN</td>\n",
       "      <td>510256</td>\n",
       "      <td>ASSISTED LIVING</td>\n",
       "    </tr>\n",
       "  </tbody>\n",
       "</table>\n",
       "<p>5 rows × 33 columns</p>\n",
       "</div>"
      ],
      "text/plain": [
       "   FID       ID                                     NAME  \\\n",
       "0    1     5449             SUMMIT AT HIDDEN VALLEY, THE   \n",
       "1    2     5156                     BROOKDALE LAKE RIDGE   \n",
       "2    3    37345  VILLAGE GREEN HEALTH AND REHABILITATION   \n",
       "3    4    25342                    CARE ONE AT LEXINGTON   \n",
       "4    5  5501389                              TIMBER VIEW   \n",
       "\n",
       "                       ADDRESS          CITY STATE    ZIP    ZIP4  \\\n",
       "0              438 23RD STREET      OAK HILL    WV  25901     NaN   \n",
       "1  3940 PRINCE WILLIAM PARKWAY    WOODBRIDGE    VA  22192  4513.0   \n",
       "2            1601 PURDUE DRIVE  FAYETTEVILLE    NC  28304  3674.0   \n",
       "3            178 LOWELL STREET     LEXINGTON    MA   2420  2719.0   \n",
       "4            S8560 BALSAM ROAD    EAU CLAIRE    WI  54701     NaN   \n",
       "\n",
       "        TELEPHONE             TYPE  ...               WEBSITE  TOT_RES  \\\n",
       "0  (304) 469-8255     NURSING HOME  ...                   NaN      NaN   \n",
       "1  (703) 680-0600    ASSISTED CARE  ...                   NaN      NaN   \n",
       "2  (910) 486-5000     NURSING HOME  ...                   NaN      NaN   \n",
       "3  (781) 862-7400     NURSING HOME  ...  www.lexingtonhcc.com      NaN   \n",
       "4  (715) 878-4699  ASSISTED LIVING  ...                   NaN      NaN   \n",
       "\n",
       "  TOT_STAFF   BEDS EXCESS_BED                        OWNERSHIP  MEDICAIDID  \\\n",
       "0       NaN   58.0        NaN                              NaN         NaN   \n",
       "1       NaN  107.0        NaN                              NaN         NaN   \n",
       "2       NaN  170.0        NaN                              NaN         NaN   \n",
       "3       NaN    NaN        NaN                           PROFIT         NaN   \n",
       "4       NaN    6.0        NaN  BROTOLOC INC DBA BROTOLOC NORTH         NaN   \n",
       "\n",
       "   MEDICAREID STATE_LIC                SOURCETYPE  \n",
       "0         NaN       NaN              NURSING HOME  \n",
       "1         NaN       NaN  ASSISTED LIVING FACILITY  \n",
       "2         NaN    NH0502          NURSING FACILITY  \n",
       "3         NaN       NaN          NURSING FACILITY  \n",
       "4         NaN    510256           ASSISTED LIVING  \n",
       "\n",
       "[5 rows x 33 columns]"
      ]
     },
     "execution_count": 20,
     "metadata": {},
     "output_type": "execute_result"
    }
   ],
   "source": [
    "hifld.head()"
   ]
  },
  {
   "cell_type": "code",
   "execution_count": 21,
   "metadata": {},
   "outputs": [
    {
     "data": {
      "text/html": [
       "<div>\n",
       "<style scoped>\n",
       "    .dataframe tbody tr th:only-of-type {\n",
       "        vertical-align: middle;\n",
       "    }\n",
       "\n",
       "    .dataframe tbody tr th {\n",
       "        vertical-align: top;\n",
       "    }\n",
       "\n",
       "    .dataframe thead th {\n",
       "        text-align: right;\n",
       "    }\n",
       "</style>\n",
       "<table border=\"1\" class=\"dataframe\">\n",
       "  <thead>\n",
       "    <tr style=\"text-align: right;\">\n",
       "      <th></th>\n",
       "      <th>FID</th>\n",
       "      <th>ID</th>\n",
       "      <th>NAME</th>\n",
       "      <th>ADDRESS</th>\n",
       "      <th>CITY</th>\n",
       "      <th>STATE</th>\n",
       "      <th>ZIP</th>\n",
       "      <th>ZIP4</th>\n",
       "      <th>TELEPHONE</th>\n",
       "      <th>TYPE</th>\n",
       "      <th>...</th>\n",
       "      <th>WEBSITE</th>\n",
       "      <th>TOT_RES</th>\n",
       "      <th>TOT_STAFF</th>\n",
       "      <th>BEDS</th>\n",
       "      <th>EXCESS_BED</th>\n",
       "      <th>OWNERSHIP</th>\n",
       "      <th>MEDICAIDID</th>\n",
       "      <th>MEDICAREID</th>\n",
       "      <th>STATE_LIC</th>\n",
       "      <th>SOURCETYPE</th>\n",
       "    </tr>\n",
       "  </thead>\n",
       "  <tbody>\n",
       "    <tr>\n",
       "      <td>21</td>\n",
       "      <td>38377</td>\n",
       "      <td>291386</td>\n",
       "      <td>WESTPHALIA HILLS - A STONEBRIDGE COMMUNITY</td>\n",
       "      <td>1899 HIGHWAY 63</td>\n",
       "      <td>WESTPHALIA</td>\n",
       "      <td>MO</td>\n",
       "      <td>65085</td>\n",
       "      <td>2215.0</td>\n",
       "      <td>(573) 455-2280</td>\n",
       "      <td>NURSING HOME</td>\n",
       "      <td>...</td>\n",
       "      <td>https://stonebridgeseniorliving.com/westphalia...</td>\n",
       "      <td>NaN</td>\n",
       "      <td>NaN</td>\n",
       "      <td>28.0</td>\n",
       "      <td>NaN</td>\n",
       "      <td>PROFIT CORPORATION</td>\n",
       "      <td>NaN</td>\n",
       "      <td>NaN</td>\n",
       "      <td>18653</td>\n",
       "      <td>RESIDENTIAL CARE FACILITY</td>\n",
       "    </tr>\n",
       "    <tr>\n",
       "      <td>22</td>\n",
       "      <td>11221</td>\n",
       "      <td>48285</td>\n",
       "      <td>FRANKLIN HEIGHTS NURSING &amp; REHABILITATION</td>\n",
       "      <td>223 S RESLER</td>\n",
       "      <td>EL PASO</td>\n",
       "      <td>TX</td>\n",
       "      <td>79912</td>\n",
       "      <td>NaN</td>\n",
       "      <td>(915) 584-9417</td>\n",
       "      <td>NURSING HOME</td>\n",
       "      <td>...</td>\n",
       "      <td>http://franklinheightsnursing.com/</td>\n",
       "      <td>NaN</td>\n",
       "      <td>NaN</td>\n",
       "      <td>132.0</td>\n",
       "      <td>NaN</td>\n",
       "      <td>NaN</td>\n",
       "      <td>NaN</td>\n",
       "      <td>NaN</td>\n",
       "      <td>4985</td>\n",
       "      <td>SNF/NF</td>\n",
       "    </tr>\n",
       "    <tr>\n",
       "      <td>23</td>\n",
       "      <td>25111</td>\n",
       "      <td>48481</td>\n",
       "      <td>KNOPP NURSING &amp; REHAB CENTER INC</td>\n",
       "      <td>202 BILLIE DR</td>\n",
       "      <td>FREDERICKSBURG</td>\n",
       "      <td>TX</td>\n",
       "      <td>78624</td>\n",
       "      <td>NaN</td>\n",
       "      <td>(830) 997-8840</td>\n",
       "      <td>NURSING HOME</td>\n",
       "      <td>...</td>\n",
       "      <td>https://www.knopphealthcare.com/</td>\n",
       "      <td>NaN</td>\n",
       "      <td>NaN</td>\n",
       "      <td>60.0</td>\n",
       "      <td>NaN</td>\n",
       "      <td>NaN</td>\n",
       "      <td>NaN</td>\n",
       "      <td>NaN</td>\n",
       "      <td>5025</td>\n",
       "      <td>SNF/NF</td>\n",
       "    </tr>\n",
       "    <tr>\n",
       "      <td>24</td>\n",
       "      <td>7978</td>\n",
       "      <td>482809</td>\n",
       "      <td>THE HEIGHTS OF BULVERDE</td>\n",
       "      <td>384 HARMONY HILLS</td>\n",
       "      <td>SPRING BRANCH</td>\n",
       "      <td>TX</td>\n",
       "      <td>78070</td>\n",
       "      <td>NaN</td>\n",
       "      <td>(830) 438-1276</td>\n",
       "      <td>NURSING HOME</td>\n",
       "      <td>...</td>\n",
       "      <td>https://www.touchstone-communities.com/communi...</td>\n",
       "      <td>NaN</td>\n",
       "      <td>NaN</td>\n",
       "      <td>124.0</td>\n",
       "      <td>NaN</td>\n",
       "      <td>NaN</td>\n",
       "      <td>NaN</td>\n",
       "      <td>NaN</td>\n",
       "      <td>106817</td>\n",
       "      <td>SKILLED NURSING FACILITY</td>\n",
       "    </tr>\n",
       "    <tr>\n",
       "      <td>25</td>\n",
       "      <td>13327</td>\n",
       "      <td>3619</td>\n",
       "      <td>ALICE HYDE MEDICAL CENTER</td>\n",
       "      <td>45 SIXTH STREET</td>\n",
       "      <td>MALONE</td>\n",
       "      <td>NY</td>\n",
       "      <td>12953</td>\n",
       "      <td>NaN</td>\n",
       "      <td>(518) 481-8000</td>\n",
       "      <td>NURSING HOME</td>\n",
       "      <td>...</td>\n",
       "      <td>http://alicehyde.com/services/nursinghome.asp</td>\n",
       "      <td>NaN</td>\n",
       "      <td>NaN</td>\n",
       "      <td>135.0</td>\n",
       "      <td>NaN</td>\n",
       "      <td>VOLUNTARY--NOT FOR PROFIT CORPORATION</td>\n",
       "      <td>NaN</td>\n",
       "      <td>NaN</td>\n",
       "      <td>1624000N</td>\n",
       "      <td>RESIDENTIAL HEALTH CARE</td>\n",
       "    </tr>\n",
       "  </tbody>\n",
       "</table>\n",
       "<p>5 rows × 33 columns</p>\n",
       "</div>"
      ],
      "text/plain": [
       "      FID      ID                                        NAME  \\\n",
       "21  38377  291386  WESTPHALIA HILLS - A STONEBRIDGE COMMUNITY   \n",
       "22  11221   48285   FRANKLIN HEIGHTS NURSING & REHABILITATION   \n",
       "23  25111   48481            KNOPP NURSING & REHAB CENTER INC   \n",
       "24   7978  482809                     THE HEIGHTS OF BULVERDE   \n",
       "25  13327    3619                   ALICE HYDE MEDICAL CENTER   \n",
       "\n",
       "              ADDRESS            CITY STATE    ZIP    ZIP4       TELEPHONE  \\\n",
       "21    1899 HIGHWAY 63      WESTPHALIA    MO  65085  2215.0  (573) 455-2280   \n",
       "22       223 S RESLER         EL PASO    TX  79912     NaN  (915) 584-9417   \n",
       "23      202 BILLIE DR  FREDERICKSBURG    TX  78624     NaN  (830) 997-8840   \n",
       "24  384 HARMONY HILLS   SPRING BRANCH    TX  78070     NaN  (830) 438-1276   \n",
       "25    45 SIXTH STREET          MALONE    NY  12953     NaN  (518) 481-8000   \n",
       "\n",
       "            TYPE  ...                                            WEBSITE  \\\n",
       "21  NURSING HOME  ...  https://stonebridgeseniorliving.com/westphalia...   \n",
       "22  NURSING HOME  ...                 http://franklinheightsnursing.com/   \n",
       "23  NURSING HOME  ...                   https://www.knopphealthcare.com/   \n",
       "24  NURSING HOME  ...  https://www.touchstone-communities.com/communi...   \n",
       "25  NURSING HOME  ...      http://alicehyde.com/services/nursinghome.asp   \n",
       "\n",
       "    TOT_RES TOT_STAFF   BEDS EXCESS_BED  \\\n",
       "21      NaN       NaN   28.0        NaN   \n",
       "22      NaN       NaN  132.0        NaN   \n",
       "23      NaN       NaN   60.0        NaN   \n",
       "24      NaN       NaN  124.0        NaN   \n",
       "25      NaN       NaN  135.0        NaN   \n",
       "\n",
       "                                OWNERSHIP  MEDICAIDID  MEDICAREID STATE_LIC  \\\n",
       "21                     PROFIT CORPORATION         NaN         NaN     18653   \n",
       "22                                    NaN         NaN         NaN      4985   \n",
       "23                                    NaN         NaN         NaN      5025   \n",
       "24                                    NaN         NaN         NaN    106817   \n",
       "25  VOLUNTARY--NOT FOR PROFIT CORPORATION         NaN         NaN  1624000N   \n",
       "\n",
       "                   SOURCETYPE  \n",
       "21  RESIDENTIAL CARE FACILITY  \n",
       "22                     SNF/NF  \n",
       "23                     SNF/NF  \n",
       "24   SKILLED NURSING FACILITY  \n",
       "25    RESIDENTIAL HEALTH CARE  \n",
       "\n",
       "[5 rows x 33 columns]"
      ]
     },
     "execution_count": 21,
     "metadata": {},
     "output_type": "execute_result"
    }
   ],
   "source": [
    "hifld.tail()"
   ]
  },
  {
   "cell_type": "code",
   "execution_count": 22,
   "metadata": {},
   "outputs": [
    {
     "data": {
      "text/plain": [
       "(38867, 33)"
      ]
     },
     "execution_count": 22,
     "metadata": {},
     "output_type": "execute_result"
    }
   ],
   "source": [
    "keys = [\"NAME\", \"ADDRESS\", \"CITY\", \"STATE\", \"TYPE\"]\n",
    "hifld.drop_duplicates(subset = keys).shape"
   ]
  },
  {
   "cell_type": "markdown",
   "metadata": {},
   "source": [
    "## Merge data"
   ]
  },
  {
   "cell_type": "code",
   "execution_count": 23,
   "metadata": {},
   "outputs": [
    {
     "data": {
      "text/plain": [
       "(39762, 33)"
      ]
     },
     "execution_count": 23,
     "metadata": {},
     "output_type": "execute_result"
    }
   ],
   "source": [
    "hifld = pd.read_csv(oj(data_dir, \"hifld_nursinghomes\", \"hifld_nursinghomes.csv\"))\n",
    "hifld.shape"
   ]
  },
  {
   "cell_type": "code",
   "execution_count": 24,
   "metadata": {},
   "outputs": [
    {
     "data": {
      "text/html": [
       "<div>\n",
       "<style scoped>\n",
       "    .dataframe tbody tr th:only-of-type {\n",
       "        vertical-align: middle;\n",
       "    }\n",
       "\n",
       "    .dataframe tbody tr th {\n",
       "        vertical-align: top;\n",
       "    }\n",
       "\n",
       "    .dataframe thead th {\n",
       "        text-align: right;\n",
       "    }\n",
       "</style>\n",
       "<table border=\"1\" class=\"dataframe\">\n",
       "  <thead>\n",
       "    <tr style=\"text-align: right;\">\n",
       "      <th></th>\n",
       "      <th>FID</th>\n",
       "      <th>ID</th>\n",
       "      <th>NAME</th>\n",
       "      <th>ADDRESS</th>\n",
       "      <th>CITY</th>\n",
       "      <th>STATE</th>\n",
       "      <th>ZIP</th>\n",
       "      <th>ZIP4</th>\n",
       "      <th>TELEPHONE</th>\n",
       "      <th>TYPE</th>\n",
       "      <th>...</th>\n",
       "      <th>WEBSITE</th>\n",
       "      <th>TOT_RES</th>\n",
       "      <th>TOT_STAFF</th>\n",
       "      <th>BEDS</th>\n",
       "      <th>EXCESS_BED</th>\n",
       "      <th>OWNERSHIP</th>\n",
       "      <th>MEDICAIDID</th>\n",
       "      <th>MEDICAREID</th>\n",
       "      <th>STATE_LIC</th>\n",
       "      <th>SOURCETYPE</th>\n",
       "    </tr>\n",
       "  </thead>\n",
       "  <tbody>\n",
       "    <tr>\n",
       "      <td>0</td>\n",
       "      <td>1</td>\n",
       "      <td>5449</td>\n",
       "      <td>SUMMIT AT HIDDEN VALLEY, THE</td>\n",
       "      <td>438 23RD STREET</td>\n",
       "      <td>OAK HILL</td>\n",
       "      <td>WV</td>\n",
       "      <td>25901</td>\n",
       "      <td>NOT AVAILABLE</td>\n",
       "      <td>(304) 469-8255</td>\n",
       "      <td>NURSING HOME</td>\n",
       "      <td>...</td>\n",
       "      <td>NOT AVAILABLE</td>\n",
       "      <td>-999</td>\n",
       "      <td>-999</td>\n",
       "      <td>58</td>\n",
       "      <td>-999</td>\n",
       "      <td>NOT AVAILABLE</td>\n",
       "      <td>NOT AVAILABLE</td>\n",
       "      <td>NOT AVAILABLE</td>\n",
       "      <td>NOT AVAILABLE</td>\n",
       "      <td>NURSING HOME</td>\n",
       "    </tr>\n",
       "    <tr>\n",
       "      <td>1</td>\n",
       "      <td>2</td>\n",
       "      <td>5156</td>\n",
       "      <td>BROOKDALE LAKE RIDGE</td>\n",
       "      <td>3940 PRINCE WILLIAM PARKWAY</td>\n",
       "      <td>WOODBRIDGE</td>\n",
       "      <td>VA</td>\n",
       "      <td>22192</td>\n",
       "      <td>4513</td>\n",
       "      <td>(703) 680-0600</td>\n",
       "      <td>ASSISTED CARE</td>\n",
       "      <td>...</td>\n",
       "      <td>NOT AVAILABLE</td>\n",
       "      <td>-999</td>\n",
       "      <td>-999</td>\n",
       "      <td>107</td>\n",
       "      <td>-999</td>\n",
       "      <td>NOT AVAILABLE</td>\n",
       "      <td>NOT AVAILABLE</td>\n",
       "      <td>NOT AVAILABLE</td>\n",
       "      <td>NOT AVAILABLE</td>\n",
       "      <td>ASSISTED LIVING FACILITY</td>\n",
       "    </tr>\n",
       "    <tr>\n",
       "      <td>2</td>\n",
       "      <td>3</td>\n",
       "      <td>37345</td>\n",
       "      <td>VILLAGE GREEN HEALTH AND REHABILITATION</td>\n",
       "      <td>1601 PURDUE DRIVE</td>\n",
       "      <td>FAYETTEVILLE</td>\n",
       "      <td>NC</td>\n",
       "      <td>28304</td>\n",
       "      <td>3674</td>\n",
       "      <td>(910) 486-5000</td>\n",
       "      <td>NURSING HOME</td>\n",
       "      <td>...</td>\n",
       "      <td>NOT AVAILABLE</td>\n",
       "      <td>-999</td>\n",
       "      <td>-999</td>\n",
       "      <td>170</td>\n",
       "      <td>-999</td>\n",
       "      <td>NOT AVAILABLE</td>\n",
       "      <td>NOT AVAILABLE</td>\n",
       "      <td>NOT AVAILABLE</td>\n",
       "      <td>NH0502</td>\n",
       "      <td>NURSING FACILITY</td>\n",
       "    </tr>\n",
       "    <tr>\n",
       "      <td>3</td>\n",
       "      <td>4</td>\n",
       "      <td>25342</td>\n",
       "      <td>CARE ONE AT LEXINGTON</td>\n",
       "      <td>178 LOWELL STREET</td>\n",
       "      <td>LEXINGTON</td>\n",
       "      <td>MA</td>\n",
       "      <td>2420</td>\n",
       "      <td>2719</td>\n",
       "      <td>(781) 862-7400</td>\n",
       "      <td>NURSING HOME</td>\n",
       "      <td>...</td>\n",
       "      <td>www.lexingtonhcc.com</td>\n",
       "      <td>-999</td>\n",
       "      <td>-999</td>\n",
       "      <td>-999</td>\n",
       "      <td>-999</td>\n",
       "      <td>PROFIT</td>\n",
       "      <td>NOT AVAILABLE</td>\n",
       "      <td>NOT AVAILABLE</td>\n",
       "      <td>NOT AVAILABLE</td>\n",
       "      <td>NURSING FACILITY</td>\n",
       "    </tr>\n",
       "    <tr>\n",
       "      <td>4</td>\n",
       "      <td>5</td>\n",
       "      <td>5501389</td>\n",
       "      <td>TIMBER VIEW</td>\n",
       "      <td>S8560 BALSAM ROAD</td>\n",
       "      <td>EAU CLAIRE</td>\n",
       "      <td>WI</td>\n",
       "      <td>54701</td>\n",
       "      <td>NOT AVAILABLE</td>\n",
       "      <td>(715) 878-4699</td>\n",
       "      <td>ASSISTED LIVING</td>\n",
       "      <td>...</td>\n",
       "      <td>NOT AVAILABLE</td>\n",
       "      <td>-999</td>\n",
       "      <td>-999</td>\n",
       "      <td>6</td>\n",
       "      <td>-999</td>\n",
       "      <td>BROTOLOC INC DBA BROTOLOC NORTH</td>\n",
       "      <td>NOT AVAILABLE</td>\n",
       "      <td>NOT AVAILABLE</td>\n",
       "      <td>510256</td>\n",
       "      <td>ASSISTED LIVING</td>\n",
       "    </tr>\n",
       "  </tbody>\n",
       "</table>\n",
       "<p>5 rows × 33 columns</p>\n",
       "</div>"
      ],
      "text/plain": [
       "   FID       ID                                     NAME  \\\n",
       "0    1     5449             SUMMIT AT HIDDEN VALLEY, THE   \n",
       "1    2     5156                     BROOKDALE LAKE RIDGE   \n",
       "2    3    37345  VILLAGE GREEN HEALTH AND REHABILITATION   \n",
       "3    4    25342                    CARE ONE AT LEXINGTON   \n",
       "4    5  5501389                              TIMBER VIEW   \n",
       "\n",
       "                       ADDRESS          CITY STATE    ZIP           ZIP4  \\\n",
       "0              438 23RD STREET      OAK HILL    WV  25901  NOT AVAILABLE   \n",
       "1  3940 PRINCE WILLIAM PARKWAY    WOODBRIDGE    VA  22192           4513   \n",
       "2            1601 PURDUE DRIVE  FAYETTEVILLE    NC  28304           3674   \n",
       "3            178 LOWELL STREET     LEXINGTON    MA   2420           2719   \n",
       "4            S8560 BALSAM ROAD    EAU CLAIRE    WI  54701  NOT AVAILABLE   \n",
       "\n",
       "        TELEPHONE             TYPE  ...               WEBSITE  TOT_RES  \\\n",
       "0  (304) 469-8255     NURSING HOME  ...         NOT AVAILABLE     -999   \n",
       "1  (703) 680-0600    ASSISTED CARE  ...         NOT AVAILABLE     -999   \n",
       "2  (910) 486-5000     NURSING HOME  ...         NOT AVAILABLE     -999   \n",
       "3  (781) 862-7400     NURSING HOME  ...  www.lexingtonhcc.com     -999   \n",
       "4  (715) 878-4699  ASSISTED LIVING  ...         NOT AVAILABLE     -999   \n",
       "\n",
       "  TOT_STAFF  BEDS EXCESS_BED                        OWNERSHIP     MEDICAIDID  \\\n",
       "0      -999    58       -999                    NOT AVAILABLE  NOT AVAILABLE   \n",
       "1      -999   107       -999                    NOT AVAILABLE  NOT AVAILABLE   \n",
       "2      -999   170       -999                    NOT AVAILABLE  NOT AVAILABLE   \n",
       "3      -999  -999       -999                           PROFIT  NOT AVAILABLE   \n",
       "4      -999     6       -999  BROTOLOC INC DBA BROTOLOC NORTH  NOT AVAILABLE   \n",
       "\n",
       "      MEDICAREID      STATE_LIC                SOURCETYPE  \n",
       "0  NOT AVAILABLE  NOT AVAILABLE              NURSING HOME  \n",
       "1  NOT AVAILABLE  NOT AVAILABLE  ASSISTED LIVING FACILITY  \n",
       "2  NOT AVAILABLE         NH0502          NURSING FACILITY  \n",
       "3  NOT AVAILABLE  NOT AVAILABLE          NURSING FACILITY  \n",
       "4  NOT AVAILABLE         510256           ASSISTED LIVING  \n",
       "\n",
       "[5 rows x 33 columns]"
      ]
     },
     "execution_count": 24,
     "metadata": {},
     "output_type": "execute_result"
    }
   ],
   "source": [
    "hifld.head()"
   ]
  },
  {
   "cell_type": "code",
   "execution_count": 25,
   "metadata": {},
   "outputs": [
    {
     "data": {
      "text/html": [
       "<div>\n",
       "<style scoped>\n",
       "    .dataframe tbody tr th:only-of-type {\n",
       "        vertical-align: middle;\n",
       "    }\n",
       "\n",
       "    .dataframe tbody tr th {\n",
       "        vertical-align: top;\n",
       "    }\n",
       "\n",
       "    .dataframe thead th {\n",
       "        text-align: right;\n",
       "    }\n",
       "</style>\n",
       "<table border=\"1\" class=\"dataframe\">\n",
       "  <thead>\n",
       "    <tr style=\"text-align: right;\">\n",
       "      <th></th>\n",
       "      <th>Name</th>\n",
       "      <th>Cases_2020-05-11</th>\n",
       "      <th>Deaths_2020-05-11</th>\n",
       "      <th>City</th>\n",
       "      <th>State</th>\n",
       "    </tr>\n",
       "  </thead>\n",
       "  <tbody>\n",
       "    <tr>\n",
       "      <td>0</td>\n",
       "      <td>PARAMUS VETERANS MEMORIAL HOME</td>\n",
       "      <td>264</td>\n",
       "      <td>71</td>\n",
       "      <td>PARAMUS</td>\n",
       "      <td>NJ</td>\n",
       "    </tr>\n",
       "    <tr>\n",
       "      <td>1</td>\n",
       "      <td>BERGEN NEW BRIDGE MEDICAL CENTER NURSING HOME</td>\n",
       "      <td>233</td>\n",
       "      <td>26</td>\n",
       "      <td>PARAMUS</td>\n",
       "      <td>NJ</td>\n",
       "    </tr>\n",
       "    <tr>\n",
       "      <td>2</td>\n",
       "      <td>FUTURECARE LOCHEARN NURSING HOME</td>\n",
       "      <td>231</td>\n",
       "      <td>21</td>\n",
       "      <td>BALTIMORE</td>\n",
       "      <td>MD</td>\n",
       "    </tr>\n",
       "    <tr>\n",
       "      <td>3</td>\n",
       "      <td>ANDOVER SUBACUTE AND REHABILITATION CENTER II</td>\n",
       "      <td>189</td>\n",
       "      <td>55</td>\n",
       "      <td>ANDOVER</td>\n",
       "      <td>NJ</td>\n",
       "    </tr>\n",
       "    <tr>\n",
       "      <td>4</td>\n",
       "      <td>WOODBRIDGE NURSING PAVILION</td>\n",
       "      <td>183</td>\n",
       "      <td>17</td>\n",
       "      <td>CHICAGO</td>\n",
       "      <td>IL</td>\n",
       "    </tr>\n",
       "  </tbody>\n",
       "</table>\n",
       "</div>"
      ],
      "text/plain": [
       "                                            Name  Cases_2020-05-11  \\\n",
       "0                 PARAMUS VETERANS MEMORIAL HOME               264   \n",
       "1  BERGEN NEW BRIDGE MEDICAL CENTER NURSING HOME               233   \n",
       "2               FUTURECARE LOCHEARN NURSING HOME               231   \n",
       "3  ANDOVER SUBACUTE AND REHABILITATION CENTER II               189   \n",
       "4                    WOODBRIDGE NURSING PAVILION               183   \n",
       "\n",
       "   Deaths_2020-05-11       City State  \n",
       "0                 71    PARAMUS    NJ  \n",
       "1                 26    PARAMUS    NJ  \n",
       "2                 21  BALTIMORE    MD  \n",
       "3                 55    ANDOVER    NJ  \n",
       "4                 17    CHICAGO    IL  "
      ]
     },
     "execution_count": 25,
     "metadata": {},
     "output_type": "execute_result"
    }
   ],
   "source": [
    "nyt.head()"
   ]
  },
  {
   "cell_type": "code",
   "execution_count": 26,
   "metadata": {},
   "outputs": [
    {
     "data": {
      "text/plain": [
       "(543, 5)"
      ]
     },
     "execution_count": 26,
     "metadata": {},
     "output_type": "execute_result"
    }
   ],
   "source": [
    "nyt.shape"
   ]
  },
  {
   "cell_type": "code",
   "execution_count": 27,
   "metadata": {},
   "outputs": [
    {
     "data": {
      "text/plain": [
       "(544, 38)"
      ]
     },
     "execution_count": 27,
     "metadata": {},
     "output_type": "execute_result"
    }
   ],
   "source": [
    "# exact matching\n",
    "df = pd.merge(nyt, hifld, how = \"left\", \n",
    "              left_on = [\"Name\", \"City\", \"State\"], right_on = [\"NAME\", \"CITY\", \"STATE\"])\n",
    "df.shape"
   ]
  },
  {
   "cell_type": "code",
   "execution_count": 28,
   "metadata": {},
   "outputs": [
    {
     "data": {
      "text/plain": [
       "441"
      ]
     },
     "execution_count": 28,
     "metadata": {},
     "output_type": "execute_result"
    }
   ],
   "source": [
    "# unmatched\n",
    "df[\"FID\"].isna().sum()"
   ]
  },
  {
   "cell_type": "code",
   "execution_count": 29,
   "metadata": {},
   "outputs": [],
   "source": [
    "def clean_names(df, col):\n",
    "    df[col] = df[col].str.replace(\",\", \"\")\n",
    "    df[col] = df[col].str.replace(\".\", \"\")\n",
    "    df[col] = df[col].str.replace(\" LTD\", \"\")\n",
    "    df[col] = df[col].str.replace(\" LLC\", \"\")\n",
    "    df[col] = df[col].str.replace(\" INC\", \"\")\n",
    "    df[col] = df[col].str.replace(\"&\", \"AND\")\n",
    "    df[col] = df[col].str.replace(\"'\", \"\")\n",
    "    df[col] = df[col].str.replace(\"HEALTHCARE\", \"HEALTH CARE\")\n",
    "    df[col] = df[col].str.replace(\"REHABILITATION\", \"REHAB\")\n",
    "    df[col] = df[col].apply(lambda x: re.sub(' +', ' ', x))  # remove duplicated spaces\n",
    "    df[col] = df[col].str.strip()\n",
    "    return df\n",
    "\n",
    "def clean_cities(df, col):\n",
    "    df[col] = df[col].str.replace(\",\", \"\")\n",
    "    df[col] = df[col].str.replace(\".\", \"\")\n",
    "    df[col] = df[col].str.replace(\"SAINT\", \"ST\")\n",
    "    df[col] = df[col].str.replace(\"MOUNT \", \"MT \")\n",
    "    df[col] = df[col].str.replace(\"TOWNSHIP\", \"\")\n",
    "    df[col] = df[col].str.replace(\"'\", \"\")\n",
    "    #df[col] = df[col].str.replace(\"CITY\", \"\")\n",
    "    df[col] = df[col].str.strip()\n",
    "    return df\n",
    "\n",
    "def clean_names2(df, col):\n",
    "    # more ambitious cleaning\n",
    "    df[col] = df[col].str.replace(\",\", \"\")\n",
    "    df[col] = df[col].str.replace(\".\", \"\")\n",
    "    df[col] = df[col].str.replace(\" LTD\", \"\")\n",
    "    df[col] = df[col].str.replace(\" LLC\", \"\")\n",
    "    df[col] = df[col].str.replace(\" INC\", \"\")\n",
    "    df[col] = df[col].str.replace(\"&\", \"AND\")\n",
    "    df[col] = df[col].str.replace(\"'\", \"\")\n",
    "    df[col] = df[col].str.replace(\"HEALTHCARE\", \"HEALTH CARE\")\n",
    "    df[col] = df[col].str.replace(\"REHABILITATION\", \"\")\n",
    "    df[col] = df[col].str.replace(\"REHAB\", \"\")\n",
    "    df[col] = df[col].str.replace(\"CENTER\", \"\")\n",
    "    df[col] = df[col].str.replace(\"CENTRE\", \"\")\n",
    "    df[col] = df[col].str.replace(\"FACILITY\", \"\")\n",
    "    df[col] = df[col].str.replace(\"NURSING HOME\", \"\")\n",
    "    df[col] = df[col].str.replace(\"CONVALESCENT\", \"\")\n",
    "    df[col] = df[col].str.replace(\"NURSING\", \"\")\n",
    "    df[col] = df[col].str.replace(\"WELLNESS SUITES\", \"\")\n",
    "    df[col] = df[col].str.replace(\"RETIREMENT COMMUNITY\", \"\")\n",
    "    #df[col] = df[col].str.replace(\"THE\", \"\")\n",
    "    #df[col] = df[col].str.replace(\"ASSISTED\", \"\")\n",
    "    df[col] = df[col].str.replace(\"SENIOR\", \"\")\n",
    "    df[col] = df[col].str.replace(\"LIVING\", \"\")\n",
    "    df[col] = df[col].str.replace(\"AND\", \"\")\n",
    "    #df[col] = df[col].str.replace(\"CARE\", \"\")\n",
    "    df[col] = df[col].str.replace(\"HEALTH\", \"\")\n",
    "    df[col] = df[col].apply(lambda x: re.sub(' +', ' ', x))  # remove duplicated spaces\n",
    "    df[col] = df[col].str.strip()\n",
    "    return df"
   ]
  },
  {
   "cell_type": "code",
   "execution_count": 30,
   "metadata": {},
   "outputs": [],
   "source": [
    "# clean names and cities\n",
    "nyt = clean_names(nyt, \"Name\")\n",
    "nyt = clean_cities(nyt, \"City\")\n",
    "hifld = clean_names(hifld, \"NAME\")\n",
    "hifld = clean_cities(hifld, \"CITY\")\n",
    "nyt2 = copy.deepcopy(nyt)\n",
    "nyt2 = clean_names2(nyt2, \"Name\")\n",
    "hifld2 = copy.deepcopy(hifld)\n",
    "hifld2 = clean_names2(hifld2, \"NAME\")"
   ]
  },
  {
   "cell_type": "code",
   "execution_count": 31,
   "metadata": {},
   "outputs": [
    {
     "data": {
      "text/plain": [
       "0                     PARAMUS VETERANS MEMORIAL HOME\n",
       "1      BERGEN NEW BRIDGE MEDICAL CENTER NURSING HOME\n",
       "2                   FUTURECARE LOCHEARN NURSING HOME\n",
       "3               ANDOVER SUBACUTE AND REHAB CENTER II\n",
       "4                        WOODBRIDGE NURSING PAVILION\n",
       "5                         THE HARBORAGE NURSING HOME\n",
       "6                   CANTERBURY CARE AND REHAB CENTER\n",
       "7                       CHRISTIAN HEALTH CARE CENTER\n",
       "8                       REDWOOD SPRINGS NURSING HOME\n",
       "9                   MEADOWBROOK MANOR OF BOLINGBROOK\n",
       "10                 PRUITTHEALTH PALMYRA NURSING HOME\n",
       "11                  CLINTON NURSING AND REHAB CENTER\n",
       "12    SYMPHONY OF MORGAN PARK REHABILLITATION CENTER\n",
       "13      HACKENSACK MERIDIAN HEALTH NURSING AND REHAB\n",
       "14               CAREONE AT NEW MILFORD NURSING HOME\n",
       "Name: Name, dtype: object"
      ]
     },
     "execution_count": 31,
     "metadata": {},
     "output_type": "execute_result"
    }
   ],
   "source": [
    "nyt[\"Name\"][:15]"
   ]
  },
  {
   "cell_type": "code",
   "execution_count": 32,
   "metadata": {},
   "outputs": [
    {
     "data": {
      "text/plain": [
       "0         PARAMUS VETERANS MEMORIAL HOME\n",
       "1              BERGEN NEW BRIDGE MEDICAL\n",
       "2                    FUTURECARE LOCHEARN\n",
       "3                       OVER SUBACUTE II\n",
       "4                    WOODBRIDGE PAVILION\n",
       "5                          THE HARBORAGE\n",
       "6                        CANTERBURY CARE\n",
       "7                         CHRISTIAN CARE\n",
       "8                        REDWOOD SPRINGS\n",
       "9       MEADOWBROOK MANOR OF BOLINGBROOK\n",
       "10                        PRUITT PALMYRA\n",
       "11                               CLINTON\n",
       "12    SYMPHONY OF MORGAN PARK ILLITATION\n",
       "13                   HACKENSACK MERIDIAN\n",
       "14                CAREONE AT NEW MILFORD\n",
       "Name: Name, dtype: object"
      ]
     },
     "execution_count": 32,
     "metadata": {},
     "output_type": "execute_result"
    }
   ],
   "source": [
    "nyt2[\"Name\"][:15]"
   ]
  },
  {
   "cell_type": "code",
   "execution_count": 33,
   "metadata": {},
   "outputs": [
    {
     "data": {
      "text/plain": [
       "(544, 38)"
      ]
     },
     "execution_count": 33,
     "metadata": {},
     "output_type": "execute_result"
    }
   ],
   "source": [
    "# exact matching\n",
    "df = pd.merge(nyt, hifld, how = \"left\", \n",
    "              left_on = [\"Name\", \"City\", \"State\"], right_on = [\"NAME\", \"CITY\", \"STATE\"])\n",
    "df.shape"
   ]
  },
  {
   "cell_type": "code",
   "execution_count": 34,
   "metadata": {},
   "outputs": [
    {
     "data": {
      "text/plain": [
       "398"
      ]
     },
     "execution_count": 34,
     "metadata": {},
     "output_type": "execute_result"
    }
   ],
   "source": [
    "# unmatched\n",
    "df[\"FID\"].isna().sum()"
   ]
  },
  {
   "cell_type": "code",
   "execution_count": 35,
   "metadata": {},
   "outputs": [
    {
     "data": {
      "text/plain": [
       "['LOPATCONG',\n",
       " 'FAIR LAWN',\n",
       " 'MIDDLEBROOK',\n",
       " 'CALVERTON',\n",
       " 'BLAIRSTOWN',\n",
       " 'QUEENS',\n",
       " 'EAST BRADENTON']"
      ]
     },
     "execution_count": 35,
     "metadata": {},
     "output_type": "execute_result"
    }
   ],
   "source": [
    "# cities that aren't in hifld\n",
    "([city for city in nyt.City.unique() if city not in hifld.CITY.unique()])"
   ]
  },
  {
   "cell_type": "code",
   "execution_count": 36,
   "metadata": {},
   "outputs": [],
   "source": [
    "from fuzzywuzzy import process, fuzz"
   ]
  },
  {
   "cell_type": "code",
   "execution_count": 37,
   "metadata": {},
   "outputs": [],
   "source": [
    "matched_fid = []\n",
    "matched_level = []\n",
    "\n",
    "for i in range(nyt.shape[0]):\n",
    "    name = nyt.loc[i, \"Name\"]\n",
    "    name2 = nyt2.loc[i, \"Name\"]\n",
    "    city = nyt.loc[i, \"City\"]\n",
    "    state = nyt.loc[i, \"State\"]\n",
    "    \n",
    "    matched_all = hifld.loc[(hifld[\"NAME\"] == name) & (hifld[\"CITY\"] == city) & (hifld[\"STATE\"] == state)]\n",
    "    \n",
    "    if matched_all.shape[0] == 1:  # one exact match\n",
    "        matched_fid.append(matched_all.iloc[0][\"FID\"])\n",
    "        matched_level.append(1)\n",
    "    elif matched_all.shape[0] > 1:\n",
    "        if matched_all.NAME.iloc[0] == \"CHRISTIAN HEALTH CARE CENTER\":\n",
    "            matched_fid.append(6658)\n",
    "            matched_level.append(0)\n",
    "        else:\n",
    "            print(\"Multiple exact matches for: \" + name)\n",
    "    else:  # if no exact match, do fuzzy matching\n",
    "        hifld_matched = hifld.loc[(hifld[\"CITY\"] == city) & (hifld[\"STATE\"] == state)]  # exact matching on city and state\n",
    "        if hifld_matched.shape[0] > 0:\n",
    "            matched = process.extractOne(name, hifld_matched[\"NAME\"], scorer=fuzz.WRatio)\n",
    "            if matched[1] >= 87:\n",
    "                matched_fids = hifld_matched.loc[hifld_matched[\"NAME\"] == matched[0]]\n",
    "                matched_level.append(2)\n",
    "            else:\n",
    "                hifld2_matched = hifld2.loc[(hifld2[\"CITY\"] == city) & (hifld2[\"STATE\"] == state)]  # use abbreviated names\n",
    "                matched = process.extractOne(name2, hifld2_matched[\"NAME\"], scorer=fuzz.WRatio)\n",
    "                if matched[1] >= 87:\n",
    "                    matched_fids = hifld2_matched.loc[hifld2_matched[\"NAME\"] == matched[0]]\n",
    "                    matched_level.append(3)\n",
    "                else:\n",
    "                    matched = process.extractOne(name2, hifld2_matched[\"NAME\"], scorer=fuzz.ratio)\n",
    "                    matched_fids = hifld2_matched.loc[hifld2_matched[\"NAME\"] == matched[0]]\n",
    "                    matched_level.append(4)\n",
    "                    \n",
    "            if matched_fids.shape[0] == 1:\n",
    "                matched_fid.append(matched_fids[\"FID\"].iloc[0])\n",
    "            else:\n",
    "                if matched_fids[\"POPULATION\"].isna().sum() == 0:  # no nans in population field\n",
    "                    matched_fid.append(matched_fids.loc[matched_fids[\"POPULATION\"] == np.max(matched_fids[\"POPULATION\"])][\"FID\"].iloc[0])  # merge with entry with highest population\n",
    "                elif matched_fids[\"POPULATION\"].isna().all():  # all nans in population field\n",
    "                    matched_fid.append(matched_fids[\"FID\"].iloc[0])  # take first one\n",
    "                else:  # some nans in population field\n",
    "                    matched_fid.append(matched_fids.loc[matched_fids[\"POPULATION\"] == np.nanmax(matched_fids[\"POPULATION\"])][\"FID\"].iloc[0])  # merge with entry with highest population\n",
    "        else:\n",
    "            matched_fid.append(np.NaN)\n",
    "            matched_level.append(5)"
   ]
  },
  {
   "cell_type": "code",
   "execution_count": 38,
   "metadata": {},
   "outputs": [
    {
     "data": {
      "text/plain": [
       "543"
      ]
     },
     "execution_count": 38,
     "metadata": {},
     "output_type": "execute_result"
    }
   ],
   "source": [
    "len(matched_fid)"
   ]
  },
  {
   "cell_type": "code",
   "execution_count": 39,
   "metadata": {},
   "outputs": [],
   "source": [
    "nyt[\"Matched FID\"] = matched_fid\n",
    "nyt[\"Matched Level\"] = matched_level"
   ]
  },
  {
   "cell_type": "code",
   "execution_count": 40,
   "metadata": {},
   "outputs": [
    {
     "data": {
      "text/plain": [
       "2    188\n",
       "1    144\n",
       "3    102\n",
       "4     94\n",
       "5     14\n",
       "0      1\n",
       "Name: Matched Level, dtype: int64"
      ]
     },
     "execution_count": 40,
     "metadata": {},
     "output_type": "execute_result"
    }
   ],
   "source": [
    "nyt[\"Matched Level\"].value_counts()"
   ]
  },
  {
   "cell_type": "code",
   "execution_count": 41,
   "metadata": {},
   "outputs": [
    {
     "data": {
      "text/html": [
       "<div>\n",
       "<style scoped>\n",
       "    .dataframe tbody tr th:only-of-type {\n",
       "        vertical-align: middle;\n",
       "    }\n",
       "\n",
       "    .dataframe tbody tr th {\n",
       "        vertical-align: top;\n",
       "    }\n",
       "\n",
       "    .dataframe thead th {\n",
       "        text-align: right;\n",
       "    }\n",
       "</style>\n",
       "<table border=\"1\" class=\"dataframe\">\n",
       "  <thead>\n",
       "    <tr style=\"text-align: right;\">\n",
       "      <th></th>\n",
       "      <th>Name</th>\n",
       "      <th>Cases_2020-05-11</th>\n",
       "      <th>Deaths_2020-05-11</th>\n",
       "      <th>City</th>\n",
       "      <th>State</th>\n",
       "      <th>Matched FID</th>\n",
       "      <th>Matched Level</th>\n",
       "    </tr>\n",
       "  </thead>\n",
       "  <tbody>\n",
       "    <tr>\n",
       "      <td>0</td>\n",
       "      <td>PARAMUS VETERANS MEMORIAL HOME</td>\n",
       "      <td>264</td>\n",
       "      <td>71</td>\n",
       "      <td>PARAMUS</td>\n",
       "      <td>NJ</td>\n",
       "      <td>26380.0</td>\n",
       "      <td>2</td>\n",
       "    </tr>\n",
       "    <tr>\n",
       "      <td>1</td>\n",
       "      <td>BERGEN NEW BRIDGE MEDICAL CENTER NURSING HOME</td>\n",
       "      <td>233</td>\n",
       "      <td>26</td>\n",
       "      <td>PARAMUS</td>\n",
       "      <td>NJ</td>\n",
       "      <td>2677.0</td>\n",
       "      <td>4</td>\n",
       "    </tr>\n",
       "    <tr>\n",
       "      <td>2</td>\n",
       "      <td>FUTURECARE LOCHEARN NURSING HOME</td>\n",
       "      <td>231</td>\n",
       "      <td>21</td>\n",
       "      <td>BALTIMORE</td>\n",
       "      <td>MD</td>\n",
       "      <td>22399.0</td>\n",
       "      <td>2</td>\n",
       "    </tr>\n",
       "    <tr>\n",
       "      <td>3</td>\n",
       "      <td>ANDOVER SUBACUTE AND REHAB CENTER II</td>\n",
       "      <td>189</td>\n",
       "      <td>55</td>\n",
       "      <td>ANDOVER</td>\n",
       "      <td>NJ</td>\n",
       "      <td>17465.0</td>\n",
       "      <td>2</td>\n",
       "    </tr>\n",
       "    <tr>\n",
       "      <td>4</td>\n",
       "      <td>WOODBRIDGE NURSING PAVILION</td>\n",
       "      <td>183</td>\n",
       "      <td>17</td>\n",
       "      <td>CHICAGO</td>\n",
       "      <td>IL</td>\n",
       "      <td>25193.0</td>\n",
       "      <td>1</td>\n",
       "    </tr>\n",
       "  </tbody>\n",
       "</table>\n",
       "</div>"
      ],
      "text/plain": [
       "                                            Name  Cases_2020-05-11  \\\n",
       "0                 PARAMUS VETERANS MEMORIAL HOME               264   \n",
       "1  BERGEN NEW BRIDGE MEDICAL CENTER NURSING HOME               233   \n",
       "2               FUTURECARE LOCHEARN NURSING HOME               231   \n",
       "3           ANDOVER SUBACUTE AND REHAB CENTER II               189   \n",
       "4                    WOODBRIDGE NURSING PAVILION               183   \n",
       "\n",
       "   Deaths_2020-05-11       City State  Matched FID  Matched Level  \n",
       "0                 71    PARAMUS    NJ      26380.0              2  \n",
       "1                 26    PARAMUS    NJ       2677.0              4  \n",
       "2                 21  BALTIMORE    MD      22399.0              2  \n",
       "3                 55    ANDOVER    NJ      17465.0              2  \n",
       "4                 17    CHICAGO    IL      25193.0              1  "
      ]
     },
     "execution_count": 41,
     "metadata": {},
     "output_type": "execute_result"
    }
   ],
   "source": [
    "nyt.head()"
   ]
  },
  {
   "cell_type": "code",
   "execution_count": 42,
   "metadata": {},
   "outputs": [
    {
     "data": {
      "text/plain": [
       "Name     object\n",
       "FID       int64\n",
       "City     object\n",
       "State    object\n",
       "dtype: object"
      ]
     },
     "execution_count": 42,
     "metadata": {},
     "output_type": "execute_result"
    }
   ],
   "source": [
    "manual_merge_tab = pd.read_csv(\"../../data/nursinghome_level/manual_merge_table.csv\")\n",
    "manual_merge_tab.dtypes"
   ]
  },
  {
   "cell_type": "code",
   "execution_count": 43,
   "metadata": {},
   "outputs": [
    {
     "data": {
      "text/html": [
       "<div>\n",
       "<style scoped>\n",
       "    .dataframe tbody tr th:only-of-type {\n",
       "        vertical-align: middle;\n",
       "    }\n",
       "\n",
       "    .dataframe tbody tr th {\n",
       "        vertical-align: top;\n",
       "    }\n",
       "\n",
       "    .dataframe thead th {\n",
       "        text-align: right;\n",
       "    }\n",
       "</style>\n",
       "<table border=\"1\" class=\"dataframe\">\n",
       "  <thead>\n",
       "    <tr style=\"text-align: right;\">\n",
       "      <th></th>\n",
       "      <th>Name</th>\n",
       "      <th>FID</th>\n",
       "      <th>City</th>\n",
       "      <th>State</th>\n",
       "    </tr>\n",
       "  </thead>\n",
       "  <tbody>\n",
       "    <tr>\n",
       "      <td>0</td>\n",
       "      <td>VIRTUA HEALTH AND REHAB CENTER AT MT HOLLY</td>\n",
       "      <td>11525</td>\n",
       "      <td>MT HOLLY</td>\n",
       "      <td>NJ</td>\n",
       "    </tr>\n",
       "    <tr>\n",
       "      <td>1</td>\n",
       "      <td>FOREST MANOR HEALTH CARE CENTER</td>\n",
       "      <td>8624</td>\n",
       "      <td>BLAIRSTOWN</td>\n",
       "      <td>NJ</td>\n",
       "    </tr>\n",
       "    <tr>\n",
       "      <td>2</td>\n",
       "      <td>PARKER JEWISH INSTITUTE FOR HEALTH CARE AND REHAB</td>\n",
       "      <td>6497</td>\n",
       "      <td>QUEENS</td>\n",
       "      <td>NY</td>\n",
       "    </tr>\n",
       "    <tr>\n",
       "      <td>3</td>\n",
       "      <td>RIDERWOOD ASSISTED LIVING FACILITY</td>\n",
       "      <td>21060</td>\n",
       "      <td>CALVERTON</td>\n",
       "      <td>MD</td>\n",
       "    </tr>\n",
       "    <tr>\n",
       "      <td>4</td>\n",
       "      <td>MANATEE SPRINGS REHAB AND NURSING CENTER</td>\n",
       "      <td>28526</td>\n",
       "      <td>EAST BRADENTON</td>\n",
       "      <td>FL</td>\n",
       "    </tr>\n",
       "  </tbody>\n",
       "</table>\n",
       "</div>"
      ],
      "text/plain": [
       "                                                Name    FID            City  \\\n",
       "0         VIRTUA HEALTH AND REHAB CENTER AT MT HOLLY  11525        MT HOLLY   \n",
       "1                    FOREST MANOR HEALTH CARE CENTER   8624      BLAIRSTOWN   \n",
       "2  PARKER JEWISH INSTITUTE FOR HEALTH CARE AND REHAB   6497          QUEENS   \n",
       "3                 RIDERWOOD ASSISTED LIVING FACILITY  21060       CALVERTON   \n",
       "4           MANATEE SPRINGS REHAB AND NURSING CENTER  28526  EAST BRADENTON   \n",
       "\n",
       "  State  \n",
       "0    NJ  \n",
       "1    NJ  \n",
       "2    NY  \n",
       "3    MD  \n",
       "4    FL  "
      ]
     },
     "execution_count": 43,
     "metadata": {},
     "output_type": "execute_result"
    }
   ],
   "source": [
    "manual_merge_tab.head()"
   ]
  },
  {
   "cell_type": "code",
   "execution_count": 44,
   "metadata": {},
   "outputs": [],
   "source": [
    "# fix some nursing home merge FIDs manually\n",
    "for i in range(manual_merge_tab.shape[0]):\n",
    "    name = manual_merge_tab.Name.iloc[i]\n",
    "    fid = manual_merge_tab.FID.iloc[i]\n",
    "    city = manual_merge_tab.City.iloc[i]\n",
    "    state = manual_merge_tab.State.iloc[i]\n",
    "    idx = (nyt.Name == name) & (nyt.City == city) & (nyt.State == state)\n",
    "    nyt[\"Matched FID\"].loc[idx] = fid"
   ]
  },
  {
   "cell_type": "code",
   "execution_count": 45,
   "metadata": {},
   "outputs": [
    {
     "data": {
      "text/html": [
       "<div>\n",
       "<style scoped>\n",
       "    .dataframe tbody tr th:only-of-type {\n",
       "        vertical-align: middle;\n",
       "    }\n",
       "\n",
       "    .dataframe tbody tr th {\n",
       "        vertical-align: top;\n",
       "    }\n",
       "\n",
       "    .dataframe thead th {\n",
       "        text-align: right;\n",
       "    }\n",
       "</style>\n",
       "<table border=\"1\" class=\"dataframe\">\n",
       "  <thead>\n",
       "    <tr style=\"text-align: right;\">\n",
       "      <th></th>\n",
       "      <th>Name</th>\n",
       "      <th>Cases_2020-05-11</th>\n",
       "      <th>Deaths_2020-05-11</th>\n",
       "      <th>City</th>\n",
       "      <th>State</th>\n",
       "      <th>Matched FID</th>\n",
       "      <th>Matched Level</th>\n",
       "    </tr>\n",
       "  </thead>\n",
       "  <tbody>\n",
       "    <tr>\n",
       "      <td>0</td>\n",
       "      <td>PARAMUS VETERANS MEMORIAL HOME</td>\n",
       "      <td>264</td>\n",
       "      <td>71</td>\n",
       "      <td>PARAMUS</td>\n",
       "      <td>NJ</td>\n",
       "      <td>26380.0</td>\n",
       "      <td>2</td>\n",
       "    </tr>\n",
       "    <tr>\n",
       "      <td>1</td>\n",
       "      <td>BERGEN NEW BRIDGE MEDICAL CENTER NURSING HOME</td>\n",
       "      <td>233</td>\n",
       "      <td>26</td>\n",
       "      <td>PARAMUS</td>\n",
       "      <td>NJ</td>\n",
       "      <td>2677.0</td>\n",
       "      <td>4</td>\n",
       "    </tr>\n",
       "    <tr>\n",
       "      <td>2</td>\n",
       "      <td>FUTURECARE LOCHEARN NURSING HOME</td>\n",
       "      <td>231</td>\n",
       "      <td>21</td>\n",
       "      <td>BALTIMORE</td>\n",
       "      <td>MD</td>\n",
       "      <td>22399.0</td>\n",
       "      <td>2</td>\n",
       "    </tr>\n",
       "    <tr>\n",
       "      <td>3</td>\n",
       "      <td>ANDOVER SUBACUTE AND REHAB CENTER II</td>\n",
       "      <td>189</td>\n",
       "      <td>55</td>\n",
       "      <td>ANDOVER</td>\n",
       "      <td>NJ</td>\n",
       "      <td>17465.0</td>\n",
       "      <td>2</td>\n",
       "    </tr>\n",
       "    <tr>\n",
       "      <td>4</td>\n",
       "      <td>WOODBRIDGE NURSING PAVILION</td>\n",
       "      <td>183</td>\n",
       "      <td>17</td>\n",
       "      <td>CHICAGO</td>\n",
       "      <td>IL</td>\n",
       "      <td>25193.0</td>\n",
       "      <td>1</td>\n",
       "    </tr>\n",
       "  </tbody>\n",
       "</table>\n",
       "</div>"
      ],
      "text/plain": [
       "                                            Name  Cases_2020-05-11  \\\n",
       "0                 PARAMUS VETERANS MEMORIAL HOME               264   \n",
       "1  BERGEN NEW BRIDGE MEDICAL CENTER NURSING HOME               233   \n",
       "2               FUTURECARE LOCHEARN NURSING HOME               231   \n",
       "3           ANDOVER SUBACUTE AND REHAB CENTER II               189   \n",
       "4                    WOODBRIDGE NURSING PAVILION               183   \n",
       "\n",
       "   Deaths_2020-05-11       City State  Matched FID  Matched Level  \n",
       "0                 71    PARAMUS    NJ      26380.0              2  \n",
       "1                 26    PARAMUS    NJ       2677.0              4  \n",
       "2                 21  BALTIMORE    MD      22399.0              2  \n",
       "3                 55    ANDOVER    NJ      17465.0              2  \n",
       "4                 17    CHICAGO    IL      25193.0              1  "
      ]
     },
     "execution_count": 45,
     "metadata": {},
     "output_type": "execute_result"
    }
   ],
   "source": [
    "nyt.head()"
   ]
  },
  {
   "cell_type": "code",
   "execution_count": 46,
   "metadata": {},
   "outputs": [
    {
     "data": {
      "text/plain": [
       "530"
      ]
     },
     "execution_count": 46,
     "metadata": {},
     "output_type": "execute_result"
    }
   ],
   "source": [
    "nyt[\"Matched FID\"].nunique()"
   ]
  },
  {
   "cell_type": "code",
   "execution_count": 47,
   "metadata": {},
   "outputs": [
    {
     "data": {
      "text/html": [
       "<div>\n",
       "<style scoped>\n",
       "    .dataframe tbody tr th:only-of-type {\n",
       "        vertical-align: middle;\n",
       "    }\n",
       "\n",
       "    .dataframe tbody tr th {\n",
       "        vertical-align: top;\n",
       "    }\n",
       "\n",
       "    .dataframe thead th {\n",
       "        text-align: right;\n",
       "    }\n",
       "</style>\n",
       "<table border=\"1\" class=\"dataframe\">\n",
       "  <thead>\n",
       "    <tr style=\"text-align: right;\">\n",
       "      <th></th>\n",
       "      <th>Name</th>\n",
       "      <th>Cases_2020-05-11</th>\n",
       "      <th>Deaths_2020-05-11</th>\n",
       "      <th>City</th>\n",
       "      <th>State</th>\n",
       "      <th>Matched FID</th>\n",
       "      <th>Matched Level</th>\n",
       "    </tr>\n",
       "  </thead>\n",
       "  <tbody>\n",
       "    <tr>\n",
       "      <td>414</td>\n",
       "      <td>CAREONE AT THE CUPOLA LONG-TERM CARE</td>\n",
       "      <td>60</td>\n",
       "      <td>14</td>\n",
       "      <td>PARAMUS</td>\n",
       "      <td>NJ</td>\n",
       "      <td>6656.0</td>\n",
       "      <td>4</td>\n",
       "    </tr>\n",
       "    <tr>\n",
       "      <td>455</td>\n",
       "      <td>CAREONE AT THE CUPOLA ASSISTED LIVING</td>\n",
       "      <td>57</td>\n",
       "      <td>14</td>\n",
       "      <td>PARAMUS</td>\n",
       "      <td>NJ</td>\n",
       "      <td>6656.0</td>\n",
       "      <td>4</td>\n",
       "    </tr>\n",
       "    <tr>\n",
       "      <td>66</td>\n",
       "      <td>WINDSOR PARK MANOR RETIREMENT COMMUNITY</td>\n",
       "      <td>118</td>\n",
       "      <td>21</td>\n",
       "      <td>CAROL STREAM</td>\n",
       "      <td>IL</td>\n",
       "      <td>13272.0</td>\n",
       "      <td>2</td>\n",
       "    </tr>\n",
       "    <tr>\n",
       "      <td>182</td>\n",
       "      <td>COVENANT LIVING AT WINDSOR PARK LONG-TERM CARE</td>\n",
       "      <td>84</td>\n",
       "      <td>19</td>\n",
       "      <td>CAROL STREAM</td>\n",
       "      <td>IL</td>\n",
       "      <td>13272.0</td>\n",
       "      <td>4</td>\n",
       "    </tr>\n",
       "    <tr>\n",
       "      <td>13</td>\n",
       "      <td>HACKENSACK MERIDIAN HEALTH NURSING AND REHAB</td>\n",
       "      <td>167</td>\n",
       "      <td>19</td>\n",
       "      <td>HACKENSACK</td>\n",
       "      <td>NJ</td>\n",
       "      <td>20489.0</td>\n",
       "      <td>4</td>\n",
       "    </tr>\n",
       "    <tr>\n",
       "      <td>46</td>\n",
       "      <td>HACKENSACK MERIDIAN HEALTH PROSPECT HEIGHTS CA...</td>\n",
       "      <td>128</td>\n",
       "      <td>10</td>\n",
       "      <td>HACKENSACK</td>\n",
       "      <td>NJ</td>\n",
       "      <td>20489.0</td>\n",
       "      <td>2</td>\n",
       "    </tr>\n",
       "  </tbody>\n",
       "</table>\n",
       "</div>"
      ],
      "text/plain": [
       "                                                  Name  Cases_2020-05-11  \\\n",
       "414               CAREONE AT THE CUPOLA LONG-TERM CARE                60   \n",
       "455              CAREONE AT THE CUPOLA ASSISTED LIVING                57   \n",
       "66             WINDSOR PARK MANOR RETIREMENT COMMUNITY               118   \n",
       "182     COVENANT LIVING AT WINDSOR PARK LONG-TERM CARE                84   \n",
       "13        HACKENSACK MERIDIAN HEALTH NURSING AND REHAB               167   \n",
       "46   HACKENSACK MERIDIAN HEALTH PROSPECT HEIGHTS CA...               128   \n",
       "\n",
       "     Deaths_2020-05-11          City State  Matched FID  Matched Level  \n",
       "414                 14       PARAMUS    NJ       6656.0              4  \n",
       "455                 14       PARAMUS    NJ       6656.0              4  \n",
       "66                  21  CAROL STREAM    IL      13272.0              2  \n",
       "182                 19  CAROL STREAM    IL      13272.0              4  \n",
       "13                  19    HACKENSACK    NJ      20489.0              4  \n",
       "46                  10    HACKENSACK    NJ      20489.0              2  "
      ]
     },
     "execution_count": 47,
     "metadata": {},
     "output_type": "execute_result"
    }
   ],
   "source": [
    "# need to fix these duplicates (manual check)\n",
    "nyt.loc[nyt.duplicated(subset = \"Matched FID\", keep = False) & (nyt[\"Matched FID\"] != -999)].sort_values(\"Matched FID\")"
   ]
  },
  {
   "cell_type": "code",
   "execution_count": 48,
   "metadata": {},
   "outputs": [],
   "source": [
    "# need to fix merge in raw/nyt_nursinghomes/\n",
    "# after manual inspection, decide to take max\n",
    "nyt_duplicated_ls = []\n",
    "for fid in nyt[\"Matched FID\"].loc[nyt[\"Matched FID\"].duplicated()].unique():\n",
    "    if fid == -999:\n",
    "        continue\n",
    "    nyt_duplicated = nyt.loc[nyt[\"Matched FID\"] == fid]\n",
    "    nyt_duplicated = nyt_duplicated.loc[nyt_duplicated[\"Cases_2020-05-11\"] == np.max(nyt_duplicated[\"Cases_2020-05-11\"])]\n",
    "    #nyt_duplicated = nyt_duplicated.loc[nyt_duplicated[\"Cases_\"+str(date.today())] == np.max(nyt_duplicated[\"Cases_\"+str(date.today())])]\n",
    "    nyt_duplicated_ls.append(nyt_duplicated)\n",
    "    nyt = nyt.loc[nyt[\"Matched FID\"] != fid]\n",
    "nyt_duplicated = pd.concat(nyt_duplicated_ls, axis = 0, sort = False)\n",
    "nyt = pd.concat([nyt, nyt_duplicated], axis = 0, sort = False)"
   ]
  },
  {
   "cell_type": "code",
   "execution_count": 49,
   "metadata": {},
   "outputs": [
    {
     "data": {
      "text/plain": [
       "529"
      ]
     },
     "execution_count": 49,
     "metadata": {},
     "output_type": "execute_result"
    }
   ],
   "source": [
    "nyt[\"Matched FID\"].loc[nyt[\"Matched FID\"] != -999].nunique()"
   ]
  },
  {
   "cell_type": "code",
   "execution_count": 50,
   "metadata": {},
   "outputs": [
    {
     "data": {
      "text/plain": [
       "(529,)"
      ]
     },
     "execution_count": 50,
     "metadata": {},
     "output_type": "execute_result"
    }
   ],
   "source": [
    "nyt[\"Matched FID\"].loc[nyt[\"Matched FID\"] != -999].shape"
   ]
  },
  {
   "cell_type": "code",
   "execution_count": 51,
   "metadata": {},
   "outputs": [
    {
     "data": {
      "text/plain": [
       "(540, 7)"
      ]
     },
     "execution_count": 51,
     "metadata": {},
     "output_type": "execute_result"
    }
   ],
   "source": [
    "nyt.shape"
   ]
  },
  {
   "cell_type": "code",
   "execution_count": 52,
   "metadata": {},
   "outputs": [],
   "source": [
    "nyt.to_csv(\"full_merge_table.csv\", index=False)"
   ]
  },
  {
   "cell_type": "code",
   "execution_count": 53,
   "metadata": {},
   "outputs": [],
   "source": [
    "nyt[\"Matched FID\"] = nyt[\"Matched FID\"].astype(int)"
   ]
  },
  {
   "cell_type": "code",
   "execution_count": 54,
   "metadata": {},
   "outputs": [],
   "source": [
    "# merge with hifld\n",
    "data = pd.merge(nyt, hifld, left_on = \"Matched FID\", right_on = \"FID\", how = \"left\")"
   ]
  },
  {
   "cell_type": "code",
   "execution_count": 55,
   "metadata": {},
   "outputs": [
    {
     "data": {
      "text/plain": [
       "(540, 40)"
      ]
     },
     "execution_count": 55,
     "metadata": {},
     "output_type": "execute_result"
    }
   ],
   "source": [
    "data.shape"
   ]
  },
  {
   "cell_type": "code",
   "execution_count": 56,
   "metadata": {},
   "outputs": [
    {
     "data": {
      "text/html": [
       "<div>\n",
       "<style scoped>\n",
       "    .dataframe tbody tr th:only-of-type {\n",
       "        vertical-align: middle;\n",
       "    }\n",
       "\n",
       "    .dataframe tbody tr th {\n",
       "        vertical-align: top;\n",
       "    }\n",
       "\n",
       "    .dataframe thead th {\n",
       "        text-align: right;\n",
       "    }\n",
       "</style>\n",
       "<table border=\"1\" class=\"dataframe\">\n",
       "  <thead>\n",
       "    <tr style=\"text-align: right;\">\n",
       "      <th></th>\n",
       "      <th>Name</th>\n",
       "      <th>Cases_2020-05-11</th>\n",
       "      <th>Deaths_2020-05-11</th>\n",
       "      <th>City</th>\n",
       "      <th>State</th>\n",
       "      <th>Matched FID</th>\n",
       "      <th>Matched Level</th>\n",
       "      <th>FID</th>\n",
       "      <th>ID</th>\n",
       "      <th>NAME</th>\n",
       "      <th>...</th>\n",
       "      <th>WEBSITE</th>\n",
       "      <th>TOT_RES</th>\n",
       "      <th>TOT_STAFF</th>\n",
       "      <th>BEDS</th>\n",
       "      <th>EXCESS_BED</th>\n",
       "      <th>OWNERSHIP</th>\n",
       "      <th>MEDICAIDID</th>\n",
       "      <th>MEDICAREID</th>\n",
       "      <th>STATE_LIC</th>\n",
       "      <th>SOURCETYPE</th>\n",
       "    </tr>\n",
       "  </thead>\n",
       "  <tbody>\n",
       "    <tr>\n",
       "      <td>0</td>\n",
       "      <td>PARAMUS VETERANS MEMORIAL HOME</td>\n",
       "      <td>264</td>\n",
       "      <td>71</td>\n",
       "      <td>PARAMUS</td>\n",
       "      <td>NJ</td>\n",
       "      <td>26380</td>\n",
       "      <td>2</td>\n",
       "      <td>26380.0</td>\n",
       "      <td>3400363.0</td>\n",
       "      <td>N J VETERANS MEMORIAL HOME - PARAMUS</td>\n",
       "      <td>...</td>\n",
       "      <td>NOT AVAILABLE</td>\n",
       "      <td>-999.0</td>\n",
       "      <td>-999.0</td>\n",
       "      <td>336.0</td>\n",
       "      <td>-999.0</td>\n",
       "      <td>GOVT - STATE</td>\n",
       "      <td>NOT AVAILABLE</td>\n",
       "      <td>NOT AVAILABLE</td>\n",
       "      <td>60228</td>\n",
       "      <td>LONG TERM CARE FACILITY</td>\n",
       "    </tr>\n",
       "    <tr>\n",
       "      <td>1</td>\n",
       "      <td>BERGEN NEW BRIDGE MEDICAL CENTER NURSING HOME</td>\n",
       "      <td>233</td>\n",
       "      <td>26</td>\n",
       "      <td>PARAMUS</td>\n",
       "      <td>NJ</td>\n",
       "      <td>2677</td>\n",
       "      <td>4</td>\n",
       "      <td>2677.0</td>\n",
       "      <td>3400079.0</td>\n",
       "      <td>BERGEN REGIONAL MEDICAL CENTER</td>\n",
       "      <td>...</td>\n",
       "      <td>NOT AVAILABLE</td>\n",
       "      <td>-999.0</td>\n",
       "      <td>-999.0</td>\n",
       "      <td>574.0</td>\n",
       "      <td>-999.0</td>\n",
       "      <td>GOVT - COUNTY</td>\n",
       "      <td>NOT AVAILABLE</td>\n",
       "      <td>NOT AVAILABLE</td>\n",
       "      <td>10201L</td>\n",
       "      <td>LONG TERM CARE FACILITY</td>\n",
       "    </tr>\n",
       "    <tr>\n",
       "      <td>2</td>\n",
       "      <td>FUTURECARE LOCHEARN NURSING HOME</td>\n",
       "      <td>231</td>\n",
       "      <td>21</td>\n",
       "      <td>BALTIMORE</td>\n",
       "      <td>MD</td>\n",
       "      <td>22399</td>\n",
       "      <td>2</td>\n",
       "      <td>22399.0</td>\n",
       "      <td>24647.0</td>\n",
       "      <td>LOCHEARN NURSING HOME</td>\n",
       "      <td>...</td>\n",
       "      <td>NOT AVAILABLE</td>\n",
       "      <td>-999.0</td>\n",
       "      <td>-999.0</td>\n",
       "      <td>200.0</td>\n",
       "      <td>-999.0</td>\n",
       "      <td>NOT AVAILABLE</td>\n",
       "      <td>NOT AVAILABLE</td>\n",
       "      <td>NOT AVAILABLE</td>\n",
       "      <td>NOT AVAILABLE</td>\n",
       "      <td>COMPREHENSIVE CARE FACILITIES AND EXTENDED CAR...</td>\n",
       "    </tr>\n",
       "    <tr>\n",
       "      <td>3</td>\n",
       "      <td>ANDOVER SUBACUTE AND REHAB CENTER II</td>\n",
       "      <td>189</td>\n",
       "      <td>55</td>\n",
       "      <td>ANDOVER</td>\n",
       "      <td>NJ</td>\n",
       "      <td>17465</td>\n",
       "      <td>2</td>\n",
       "      <td>17465.0</td>\n",
       "      <td>3400029.0</td>\n",
       "      <td>ANDOVER SUBACUTE AND REHAB II</td>\n",
       "      <td>...</td>\n",
       "      <td>NOT AVAILABLE</td>\n",
       "      <td>-999.0</td>\n",
       "      <td>-999.0</td>\n",
       "      <td>543.0</td>\n",
       "      <td>-999.0</td>\n",
       "      <td>PROFIT - CORPORATION</td>\n",
       "      <td>NOT AVAILABLE</td>\n",
       "      <td>NOT AVAILABLE</td>\n",
       "      <td>61901</td>\n",
       "      <td>LONG TERM CARE FACILITY</td>\n",
       "    </tr>\n",
       "    <tr>\n",
       "      <td>4</td>\n",
       "      <td>WOODBRIDGE NURSING PAVILION</td>\n",
       "      <td>183</td>\n",
       "      <td>17</td>\n",
       "      <td>CHICAGO</td>\n",
       "      <td>IL</td>\n",
       "      <td>25193</td>\n",
       "      <td>1</td>\n",
       "      <td>25193.0</td>\n",
       "      <td>171190.0</td>\n",
       "      <td>WOODBRIDGE NURSING PAVILION</td>\n",
       "      <td>...</td>\n",
       "      <td>NOT AVAILABLE</td>\n",
       "      <td>-999.0</td>\n",
       "      <td>-999.0</td>\n",
       "      <td>222.0</td>\n",
       "      <td>-999.0</td>\n",
       "      <td>FOR-PROF CORPORATION</td>\n",
       "      <td>NOT AVAILABLE</td>\n",
       "      <td>NOT AVAILABLE</td>\n",
       "      <td>6007074</td>\n",
       "      <td>NURSING HOME</td>\n",
       "    </tr>\n",
       "  </tbody>\n",
       "</table>\n",
       "<p>5 rows × 40 columns</p>\n",
       "</div>"
      ],
      "text/plain": [
       "                                            Name  Cases_2020-05-11  \\\n",
       "0                 PARAMUS VETERANS MEMORIAL HOME               264   \n",
       "1  BERGEN NEW BRIDGE MEDICAL CENTER NURSING HOME               233   \n",
       "2               FUTURECARE LOCHEARN NURSING HOME               231   \n",
       "3           ANDOVER SUBACUTE AND REHAB CENTER II               189   \n",
       "4                    WOODBRIDGE NURSING PAVILION               183   \n",
       "\n",
       "   Deaths_2020-05-11       City State  Matched FID  Matched Level      FID  \\\n",
       "0                 71    PARAMUS    NJ        26380              2  26380.0   \n",
       "1                 26    PARAMUS    NJ         2677              4   2677.0   \n",
       "2                 21  BALTIMORE    MD        22399              2  22399.0   \n",
       "3                 55    ANDOVER    NJ        17465              2  17465.0   \n",
       "4                 17    CHICAGO    IL        25193              1  25193.0   \n",
       "\n",
       "          ID                                  NAME  ...        WEBSITE  \\\n",
       "0  3400363.0  N J VETERANS MEMORIAL HOME - PARAMUS  ...  NOT AVAILABLE   \n",
       "1  3400079.0        BERGEN REGIONAL MEDICAL CENTER  ...  NOT AVAILABLE   \n",
       "2    24647.0                 LOCHEARN NURSING HOME  ...  NOT AVAILABLE   \n",
       "3  3400029.0         ANDOVER SUBACUTE AND REHAB II  ...  NOT AVAILABLE   \n",
       "4   171190.0           WOODBRIDGE NURSING PAVILION  ...  NOT AVAILABLE   \n",
       "\n",
       "  TOT_RES TOT_STAFF   BEDS EXCESS_BED             OWNERSHIP     MEDICAIDID  \\\n",
       "0  -999.0    -999.0  336.0     -999.0          GOVT - STATE  NOT AVAILABLE   \n",
       "1  -999.0    -999.0  574.0     -999.0         GOVT - COUNTY  NOT AVAILABLE   \n",
       "2  -999.0    -999.0  200.0     -999.0         NOT AVAILABLE  NOT AVAILABLE   \n",
       "3  -999.0    -999.0  543.0     -999.0  PROFIT - CORPORATION  NOT AVAILABLE   \n",
       "4  -999.0    -999.0  222.0     -999.0  FOR-PROF CORPORATION  NOT AVAILABLE   \n",
       "\n",
       "      MEDICAREID      STATE_LIC  \\\n",
       "0  NOT AVAILABLE          60228   \n",
       "1  NOT AVAILABLE         10201L   \n",
       "2  NOT AVAILABLE  NOT AVAILABLE   \n",
       "3  NOT AVAILABLE          61901   \n",
       "4  NOT AVAILABLE        6007074   \n",
       "\n",
       "                                          SOURCETYPE  \n",
       "0                            LONG TERM CARE FACILITY  \n",
       "1                            LONG TERM CARE FACILITY  \n",
       "2  COMPREHENSIVE CARE FACILITIES AND EXTENDED CAR...  \n",
       "3                            LONG TERM CARE FACILITY  \n",
       "4                                       NURSING HOME  \n",
       "\n",
       "[5 rows x 40 columns]"
      ]
     },
     "execution_count": 56,
     "metadata": {},
     "output_type": "execute_result"
    }
   ],
   "source": [
    "data.head()"
   ]
  },
  {
   "cell_type": "code",
   "execution_count": 57,
   "metadata": {},
   "outputs": [
    {
     "data": {
      "text/plain": [
       "Name                  0\n",
       "Cases_2020-05-11      0\n",
       "Deaths_2020-05-11     0\n",
       "City                  0\n",
       "State                 0\n",
       "Matched FID           0\n",
       "Matched Level         0\n",
       "FID                  11\n",
       "ID                   11\n",
       "NAME                 11\n",
       "ADDRESS              11\n",
       "CITY                 11\n",
       "STATE                11\n",
       "ZIP                  11\n",
       "ZIP4                 11\n",
       "TELEPHONE            11\n",
       "TYPE                 11\n",
       "STATUS               11\n",
       "POPULATION           11\n",
       "COUNTY               11\n",
       "COUNTYFIPS           11\n",
       "COUNTRY              11\n",
       "LATITUDE             11\n",
       "LONGITUDE            11\n",
       "NAICS_CODE           11\n",
       "NAICS_DESC           11\n",
       "SOURCE               11\n",
       "SOURCEDATE           11\n",
       "VAL_METHOD           11\n",
       "VAL_DATE             11\n",
       "WEBSITE              11\n",
       "TOT_RES              11\n",
       "TOT_STAFF            11\n",
       "BEDS                 11\n",
       "EXCESS_BED           11\n",
       "OWNERSHIP            11\n",
       "MEDICAIDID           11\n",
       "MEDICAREID           11\n",
       "STATE_LIC            11\n",
       "SOURCETYPE           11\n",
       "dtype: int64"
      ]
     },
     "execution_count": 57,
     "metadata": {},
     "output_type": "execute_result"
    }
   ],
   "source": [
    "data.isna().sum()"
   ]
  },
  {
   "cell_type": "code",
   "execution_count": 58,
   "metadata": {},
   "outputs": [
    {
     "data": {
      "text/plain": [
       "11"
      ]
     },
     "execution_count": 58,
     "metadata": {},
     "output_type": "execute_result"
    }
   ],
   "source": [
    "(data[\"Matched FID\"] == -999).sum()"
   ]
  },
  {
   "cell_type": "code",
   "execution_count": 60,
   "metadata": {},
   "outputs": [],
   "source": [
    "data = data.replace(-999, np.NaN)"
   ]
  },
  {
   "cell_type": "code",
   "execution_count": 61,
   "metadata": {},
   "outputs": [
    {
     "data": {
      "text/plain": [
       "Name                   0\n",
       "Cases_2020-05-11       0\n",
       "Deaths_2020-05-11      0\n",
       "City                   0\n",
       "State                  0\n",
       "Matched FID           11\n",
       "Matched Level          0\n",
       "FID                   11\n",
       "ID                    11\n",
       "NAME                  11\n",
       "ADDRESS               11\n",
       "CITY                  11\n",
       "STATE                 11\n",
       "ZIP                   11\n",
       "ZIP4                  11\n",
       "TELEPHONE             11\n",
       "TYPE                  11\n",
       "STATUS                11\n",
       "POPULATION            88\n",
       "COUNTY                11\n",
       "COUNTYFIPS            11\n",
       "COUNTRY               11\n",
       "LATITUDE              11\n",
       "LONGITUDE             11\n",
       "NAICS_CODE            11\n",
       "NAICS_DESC            11\n",
       "SOURCE                11\n",
       "SOURCEDATE            11\n",
       "VAL_METHOD            11\n",
       "VAL_DATE              11\n",
       "WEBSITE               11\n",
       "TOT_RES              522\n",
       "TOT_STAFF            538\n",
       "BEDS                  88\n",
       "EXCESS_BED           522\n",
       "OWNERSHIP             11\n",
       "MEDICAIDID            11\n",
       "MEDICAREID            11\n",
       "STATE_LIC             11\n",
       "SOURCETYPE            11\n",
       "dtype: int64"
      ]
     },
     "execution_count": 61,
     "metadata": {},
     "output_type": "execute_result"
    }
   ],
   "source": [
    "data.isna().sum()"
   ]
  },
  {
   "cell_type": "code",
   "execution_count": 62,
   "metadata": {},
   "outputs": [],
   "source": [
    "data.to_csv(\"nursinghomes_data.csv\", index=False)"
   ]
  },
  {
   "cell_type": "code",
   "execution_count": null,
   "metadata": {},
   "outputs": [],
   "source": []
  }
 ],
 "metadata": {
  "kernelspec": {
   "display_name": "Python 3",
   "language": "python",
   "name": "python3"
  },
  "language_info": {
   "codemirror_mode": {
    "name": "ipython",
    "version": 3
   },
   "file_extension": ".py",
   "mimetype": "text/x-python",
   "name": "python",
   "nbconvert_exporter": "python",
   "pygments_lexer": "ipython3",
   "version": "3.7.4"
  }
 },
 "nbformat": 4,
 "nbformat_minor": 4
}
