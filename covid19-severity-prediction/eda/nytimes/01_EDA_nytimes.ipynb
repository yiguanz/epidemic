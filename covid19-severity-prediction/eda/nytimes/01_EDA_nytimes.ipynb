{
 "cells": [
  {
   "cell_type": "markdown",
   "metadata": {},
   "source": [
    "# EDA on nytimes data"
   ]
  },
  {
   "cell_type": "code",
   "execution_count": 60,
   "metadata": {},
   "outputs": [],
   "source": [
    "import numpy as np\n",
    "import pandas as pd\n",
    "from datetime import datetime"
   ]
  },
  {
   "cell_type": "code",
   "execution_count": 94,
   "metadata": {},
   "outputs": [],
   "source": [
    "# load data\n",
    "deaths = pd.read_csv(\"../../../uploader/data/nytimes/deaths.csv\", dtype={'countyFIPS':str})\n",
    "confirmed = pd.read_csv(\"../../../uploader/data/nytimes/confirmed_cases.csv\", dtype={'countyFIPS':str})"
   ]
  },
  {
   "cell_type": "code",
   "execution_count": 95,
   "metadata": {},
   "outputs": [
    {
     "data": {
      "text/html": [
       "<div>\n",
       "<style scoped>\n",
       "    .dataframe tbody tr th:only-of-type {\n",
       "        vertical-align: middle;\n",
       "    }\n",
       "\n",
       "    .dataframe tbody tr th {\n",
       "        vertical-align: top;\n",
       "    }\n",
       "\n",
       "    .dataframe thead th {\n",
       "        text-align: right;\n",
       "    }\n",
       "</style>\n",
       "<table border=\"1\" class=\"dataframe\">\n",
       "  <thead>\n",
       "    <tr style=\"text-align: right;\">\n",
       "      <th></th>\n",
       "      <th>county name</th>\n",
       "      <th>state</th>\n",
       "      <th>countyFIPS</th>\n",
       "      <th>01-21-2020</th>\n",
       "      <th>01-22-2020</th>\n",
       "      <th>01-23-2020</th>\n",
       "      <th>01-24-2020</th>\n",
       "      <th>01-25-2020</th>\n",
       "      <th>01-26-2020</th>\n",
       "      <th>01-27-2020</th>\n",
       "      <th>...</th>\n",
       "      <th>03-20-2020</th>\n",
       "      <th>03-21-2020</th>\n",
       "      <th>03-22-2020</th>\n",
       "      <th>03-23-2020</th>\n",
       "      <th>03-24-2020</th>\n",
       "      <th>03-25-2020</th>\n",
       "      <th>03-26-2020</th>\n",
       "      <th>03-27-2020</th>\n",
       "      <th>03-28-2020</th>\n",
       "      <th>03-29-2020</th>\n",
       "    </tr>\n",
       "  </thead>\n",
       "  <tbody>\n",
       "  </tbody>\n",
       "</table>\n",
       "<p>0 rows × 72 columns</p>\n",
       "</div>"
      ],
      "text/plain": [
       "Empty DataFrame\n",
       "Columns: [county name, state, countyFIPS, 01-21-2020, 01-22-2020, 01-23-2020, 01-24-2020, 01-25-2020, 01-26-2020, 01-27-2020, 01-28-2020, 01-29-2020, 01-30-2020, 01-31-2020, 02-01-2020, 02-02-2020, 02-03-2020, 02-04-2020, 02-05-2020, 02-06-2020, 02-07-2020, 02-08-2020, 02-09-2020, 02-10-2020, 02-11-2020, 02-12-2020, 02-13-2020, 02-14-2020, 02-15-2020, 02-16-2020, 02-17-2020, 02-18-2020, 02-19-2020, 02-20-2020, 02-21-2020, 02-22-2020, 02-23-2020, 02-24-2020, 02-25-2020, 02-26-2020, 02-27-2020, 02-28-2020, 02-29-2020, 03-01-2020, 03-02-2020, 03-03-2020, 03-04-2020, 03-05-2020, 03-06-2020, 03-07-2020, 03-08-2020, 03-09-2020, 03-10-2020, 03-11-2020, 03-12-2020, 03-13-2020, 03-14-2020, 03-15-2020, 03-16-2020, 03-17-2020, 03-18-2020, 03-19-2020, 03-20-2020, 03-21-2020, 03-22-2020, 03-23-2020, 03-24-2020, 03-25-2020, 03-26-2020, 03-27-2020, 03-28-2020, 03-29-2020]\n",
       "Index: []\n",
       "\n",
       "[0 rows x 72 columns]"
      ]
     },
     "execution_count": 95,
     "metadata": {},
     "output_type": "execute_result"
    }
   ],
   "source": [
    "# visualize the rows that has non-increasing deaths\n",
    "deaths[np.diff(deaths.iloc[:, 3:]).min(axis=1) < 0]"
   ]
  },
  {
   "cell_type": "code",
   "execution_count": 96,
   "metadata": {},
   "outputs": [
    {
     "data": {
      "text/html": [
       "<div>\n",
       "<style scoped>\n",
       "    .dataframe tbody tr th:only-of-type {\n",
       "        vertical-align: middle;\n",
       "    }\n",
       "\n",
       "    .dataframe tbody tr th {\n",
       "        vertical-align: top;\n",
       "    }\n",
       "\n",
       "    .dataframe thead th {\n",
       "        text-align: right;\n",
       "    }\n",
       "</style>\n",
       "<table border=\"1\" class=\"dataframe\">\n",
       "  <thead>\n",
       "    <tr style=\"text-align: right;\">\n",
       "      <th></th>\n",
       "      <th>county name</th>\n",
       "      <th>state</th>\n",
       "      <th>countyFIPS</th>\n",
       "      <th>01-21-2020</th>\n",
       "      <th>01-22-2020</th>\n",
       "      <th>01-23-2020</th>\n",
       "      <th>01-24-2020</th>\n",
       "      <th>01-25-2020</th>\n",
       "      <th>01-26-2020</th>\n",
       "      <th>01-27-2020</th>\n",
       "      <th>...</th>\n",
       "      <th>03-20-2020</th>\n",
       "      <th>03-21-2020</th>\n",
       "      <th>03-22-2020</th>\n",
       "      <th>03-23-2020</th>\n",
       "      <th>03-24-2020</th>\n",
       "      <th>03-25-2020</th>\n",
       "      <th>03-26-2020</th>\n",
       "      <th>03-27-2020</th>\n",
       "      <th>03-28-2020</th>\n",
       "      <th>03-29-2020</th>\n",
       "    </tr>\n",
       "  </thead>\n",
       "  <tbody>\n",
       "  </tbody>\n",
       "</table>\n",
       "<p>0 rows × 72 columns</p>\n",
       "</div>"
      ],
      "text/plain": [
       "Empty DataFrame\n",
       "Columns: [county name, state, countyFIPS, 01-21-2020, 01-22-2020, 01-23-2020, 01-24-2020, 01-25-2020, 01-26-2020, 01-27-2020, 01-28-2020, 01-29-2020, 01-30-2020, 01-31-2020, 02-01-2020, 02-02-2020, 02-03-2020, 02-04-2020, 02-05-2020, 02-06-2020, 02-07-2020, 02-08-2020, 02-09-2020, 02-10-2020, 02-11-2020, 02-12-2020, 02-13-2020, 02-14-2020, 02-15-2020, 02-16-2020, 02-17-2020, 02-18-2020, 02-19-2020, 02-20-2020, 02-21-2020, 02-22-2020, 02-23-2020, 02-24-2020, 02-25-2020, 02-26-2020, 02-27-2020, 02-28-2020, 02-29-2020, 03-01-2020, 03-02-2020, 03-03-2020, 03-04-2020, 03-05-2020, 03-06-2020, 03-07-2020, 03-08-2020, 03-09-2020, 03-10-2020, 03-11-2020, 03-12-2020, 03-13-2020, 03-14-2020, 03-15-2020, 03-16-2020, 03-17-2020, 03-18-2020, 03-19-2020, 03-20-2020, 03-21-2020, 03-22-2020, 03-23-2020, 03-24-2020, 03-25-2020, 03-26-2020, 03-27-2020, 03-28-2020, 03-29-2020]\n",
       "Index: []\n",
       "\n",
       "[0 rows x 72 columns]"
      ]
     },
     "execution_count": 96,
     "metadata": {},
     "output_type": "execute_result"
    }
   ],
   "source": [
    "# visualize the rows that has non-increasing deaths\n",
    "confirmed[np.diff(confirmed.iloc[:, 3:]).min(axis=1) < 0]"
   ]
  },
  {
   "cell_type": "code",
   "execution_count": null,
   "metadata": {},
   "outputs": [],
   "source": []
  }
 ],
 "metadata": {
  "kernelspec": {
   "display_name": "Python 3",
   "language": "python",
   "name": "python3"
  },
  "language_info": {
   "codemirror_mode": {
    "name": "ipython",
    "version": 3
   },
   "file_extension": ".py",
   "mimetype": "text/x-python",
   "name": "python",
   "nbconvert_exporter": "python",
   "pygments_lexer": "ipython3",
   "version": "3.6.6"
  }
 },
 "nbformat": 4,
 "nbformat_minor": 4
}
