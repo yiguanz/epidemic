{
 "cells": [
  {
   "cell_type": "markdown",
   "metadata": {},
   "source": [
    "# Merge info from HIFLD data set into hospital data set"
   ]
  },
  {
   "cell_type": "markdown",
   "metadata": {},
   "source": [
    "Add information on websites, facility type (from HIFLD data set). Also add teaching hospital indicator."
   ]
  },
  {
   "cell_type": "code",
   "execution_count": 16,
   "metadata": {},
   "outputs": [],
   "source": [
    "import numpy as np\n",
    "import pandas as pd\n",
    "from sklearn.metrics.pairwise import euclidean_distances\n",
    "from tqdm import tqdm"
   ]
  },
  {
   "cell_type": "code",
   "execution_count": 21,
   "metadata": {},
   "outputs": [],
   "source": [
    "hospital_HIFLD = pd.read_csv(\"../../data_hospital_level/02_hospital_info.csv\")\n",
    "hospital_sam = pd.read_excel(\"../../data/hospital_level_info/05_tbl_usr_rpt_5103.xlsx\")\n",
    "hospital_HIFLD[\"ZIP_STR\"] = hospital_HIFLD[\"ZIP\"].apply(lambda x : str(x))\n",
    "hospitals_full = pd.read_csv(\"../../data_hospital_level/processed/hospital_level_info_merged.csv\", index_col = 0)"
   ]
  },
  {
   "cell_type": "code",
   "execution_count": 49,
   "metadata": {},
   "outputs": [],
   "source": [
    "tmp = (hospitals_full['ZIP'].str.slice(0,5).astype(float) - hospitals_full['ZIP Code'])"
   ]
  },
  {
   "cell_type": "code",
   "execution_count": 55,
   "metadata": {},
   "outputs": [
    {
     "data": {
      "text/plain": [
       "9        16.0\n",
       "21        6.0\n",
       "40       -5.0\n",
       "46       -1.0\n",
       "47       77.0\n",
       "        ...  \n",
       "6264     -1.0\n",
       "6268    -17.0\n",
       "6282      1.0\n",
       "6283      1.0\n",
       "6320    270.0\n",
       "Length: 281, dtype: float64"
      ]
     },
     "execution_count": 55,
     "metadata": {},
     "output_type": "execute_result"
    }
   ],
   "source": [
    "tmp[[not np.isnan(x) and x != 0 for x in tmp]]"
   ]
  },
  {
   "cell_type": "code",
   "execution_count": 22,
   "metadata": {},
   "outputs": [],
   "source": [
    "def get_index_closest_pt(pt, pt_set):\n",
    "    distances = np.square(pt - pt_set).sum(axis = 1)\n",
    "    min_index = distances.argmin()\n",
    "    return min_index\n",
    "\n",
    "def get_website(entry, hospital_HIFLD):\n",
    "    same_zip = hospital_HIFLD[hospital_HIFLD[\"ZIP_STR\"] == entry[\"ZIP\"]]\n",
    "    if same_zip.shape[0] == 0:\n",
    "        return \"NOT AVAILABLE\"\n",
    "    elif same_zip.shape[0] == 1:\n",
    "        return same_zip[\"WEBSITE\"].iloc[0]\n",
    "    else:\n",
    "        min_index = get_index_closest_pt(np.array(entry[[\"Longitude\", \"Latitude\"]]), np.array(same_zip[[\"X\", \"Y\"]]))\n",
    "        return same_zip.iloc[min_index][\"WEBSITE\"]\n",
    "    \n",
    "def get_hospital_type(entry, hospital_HIFLD):\n",
    "    same_zip = hospital_HIFLD[hospital_HIFLD[\"ZIP_STR\"] == entry[\"ZIP\"]]\n",
    "    if same_zip.shape[0] == 0:\n",
    "        return None\n",
    "    elif same_zip.shape[0] == 1:\n",
    "        return same_zip[\"TYPE\"].iloc[0]\n",
    "    else:\n",
    "        min_index = get_index_closest_pt(np.array(entry[[\"Longitude\", \"Latitude\"]]), np.array(same_zip[[\"X\", \"Y\"]]))\n",
    "        return same_zip.iloc[min_index][\"TYPE\"]"
   ]
  },
  {
   "cell_type": "code",
   "execution_count": 25,
   "metadata": {},
   "outputs": [
    {
     "name": "stderr",
     "output_type": "stream",
     "text": [
      "100%|██████████| 7143/7143 [00:19<00:00, 363.56it/s]\n"
     ]
    }
   ],
   "source": [
    "hospital_websites = []\n",
    "for i in tqdm(range(hospitals_full.shape[0])):\n",
    "    hospital_websites.append(get_website(hospitals_full.iloc[i], hospital_HIFLD))"
   ]
  },
  {
   "cell_type": "code",
   "execution_count": 25,
   "metadata": {},
   "outputs": [],
   "source": [
    "#hospitals_full[\"Website\"] = hospital_websites"
   ]
  },
  {
   "cell_type": "code",
   "execution_count": 27,
   "metadata": {},
   "outputs": [
    {
     "data": {
      "text/plain": [
       "0.16771664566708666"
      ]
     },
     "execution_count": 27,
     "metadata": {},
     "output_type": "execute_result"
    }
   ],
   "source": [
    "#(hospitals_full[\"Website\"] == \"NOT AVAILABLE\").mean()"
   ]
  },
  {
   "cell_type": "code",
   "execution_count": 44,
   "metadata": {},
   "outputs": [
    {
     "data": {
      "text/plain": [
       "GENERAL ACUTE CARE    4524\n",
       "CRITICAL ACCESS       1031\n",
       "PSYCHIATRIC            741\n",
       "LONG TERM CARE         431\n",
       "REHABILITATION         366\n",
       "MILITARY               213\n",
       "CHILDREN               124\n",
       "SPECIAL                122\n",
       "WOMEN                   20\n",
       "CHRONIC DISEASE          9\n",
       "Name: TYPE, dtype: int64"
      ]
     },
     "execution_count": 44,
     "metadata": {},
     "output_type": "execute_result"
    }
   ],
   "source": [
    "hospital_HIFLD[\"TYPE\"].value_counts()"
   ]
  },
  {
   "cell_type": "code",
   "execution_count": 28,
   "metadata": {},
   "outputs": [
    {
     "name": "stderr",
     "output_type": "stream",
     "text": [
      "100%|██████████| 7143/7143 [00:18<00:00, 376.71it/s]\n"
     ]
    }
   ],
   "source": [
    "hospital_types = []\n",
    "for i in tqdm(range(hospitals_full.shape[0])):\n",
    "    hospital_types.append(get_hospital_type(hospitals_full.iloc[i], hospital_HIFLD))"
   ]
  },
  {
   "cell_type": "code",
   "execution_count": 29,
   "metadata": {},
   "outputs": [],
   "source": [
    "hospitals_full[\"Teaching\"] = ~hospitals_full[\"CCN\"].isna()\n",
    "hospitals_full[\"Type from HIFLD\"] = hospital_types"
   ]
  },
  {
   "cell_type": "code",
   "execution_count": 35,
   "metadata": {},
   "outputs": [
    {
     "data": {
      "text/plain": [
       "969"
      ]
     },
     "execution_count": 35,
     "metadata": {},
     "output_type": "execute_result"
    }
   ],
   "source": [
    "hospitals_full['Type from HIFLD'].isna().sum()"
   ]
  },
  {
   "cell_type": "code",
   "execution_count": 40,
   "metadata": {},
   "outputs": [
    {
     "data": {
      "text/plain": [
       "['Birmingham VA Medical Center',\n",
       " 'Central Alabama Veterans Health Care System - West Campus',\n",
       " 'Central Alabama Veterans Health Care System - East Campus',\n",
       " 'Phoenix VA Health Care System',\n",
       " 'Southern Arizona VA Health Care System',\n",
       " 'Veterans Health Care System of the Ozarks',\n",
       " 'VA Northern California Health Care System - Valley Division - Sacramento VA Medical Center',\n",
       " 'Naval Hospital Camp Pendleton',\n",
       " 'Naval Medical Center San Diego',\n",
       " 'VA Central California Health Care System',\n",
       " 'VA Long Beach Healthcare System',\n",
       " 'VA Palo Alto Health Care System - Palo Alto Division',\n",
       " 'VA San Diego Healthcare System',\n",
       " 'VA Loma Linda Healthcare System',\n",
       " 'VA Greater Los Angeles Healthcare System - West Los Angeles Medical Center',\n",
       " 'San Francisco VA Medical Center',\n",
       " ' Evans United States Army Hospital',\n",
       " 'Wilmington VA Medical Center',\n",
       " 'Washington DC VA Medical Center',\n",
       " 'Bay Pines VA Healthcare System',\n",
       " 'UF Health Shands Florida',\n",
       " 'Naval Hospital Jacksonville',\n",
       " 'Lake City VA Medical Center',\n",
       " 'Naval Hospital Pensacola',\n",
       " 'Malcom Randall VA Medical Center',\n",
       " \"James A. Haley Veterans' Hospital\",\n",
       " 'Miami VA Healthcare System',\n",
       " 'West Palm Beach VA Medical Center',\n",
       " 'Orlando VA Medical Center',\n",
       " 'Charlie Norwood VA Medical Center',\n",
       " 'Dublin VA Medical Center',\n",
       " 'Martin Army Community Hospital',\n",
       " 'Eisenhower Army Medical Center',\n",
       " 'Atlanta VA Medical Center',\n",
       " 'Jesse Brown VA Medical Center',\n",
       " 'VA Illiana Health Care System',\n",
       " 'Edward Hines, Jr. VA Hospital',\n",
       " 'Marion VA Medical Center',\n",
       " 'Captain James A. Lovell Federal Health Care Center',\n",
       " 'VA Northern Indiana Health Care System - Fort Wayne Campus',\n",
       " 'Richard L. Roudebush VA Medical Center',\n",
       " 'VA Central Iowa Health Care System',\n",
       " 'Iowa City VA Health Care System',\n",
       " 'Irwin Army Community Hospital',\n",
       " 'Blanchfield Army Community Hospital',\n",
       " 'Louisville VA Medical Center',\n",
       " 'Lexington VA Medical Center-Cooper Division',\n",
       " 'Alexandria VA Health Care System',\n",
       " 'Southeast Louisiana Veterans Health Care System',\n",
       " 'Overton Brooks VA Medical Center',\n",
       " 'Bayne-Jones Army Community Hospital',\n",
       " 'VA Maryland Health Care System - Baltimore VA Medical Center',\n",
       " 'Walter Reed National Military Medical Center',\n",
       " 'Perry Point VA Medical Center',\n",
       " 'Aleda E. Lutz VA Medical Center',\n",
       " 'VA Ann Arbor Healthcare System',\n",
       " 'Battle Creek VA Medical Center',\n",
       " 'John D. Dingell VA Medical Center',\n",
       " 'Oscar G. Johnson VA Medical Center',\n",
       " 'Gulf Coast Veterans Health Care System',\n",
       " 'G.V. Sonny Montgomery VA Medical Center',\n",
       " 'Oceans Behavioral Hospital Biloxi',\n",
       " 'John Cochran Division',\n",
       " 'Kansas City VA Medical Center',\n",
       " 'VA Medical Center and Ambulatory Care Clinic',\n",
       " 'VA Sierra Nevada Health Care System',\n",
       " \"Mike O'Callaghan Military Medical Center\",\n",
       " 'VA Southern Nevada Healthcare System',\n",
       " 'Albany Stratton VA Medical Center',\n",
       " 'Batavia VA Medical Center',\n",
       " 'Bath VA Medical Center',\n",
       " 'Buffalo VA Medical Center',\n",
       " 'Canandaigua VA Medical Center',\n",
       " 'VA Hudson Valley Health Care System - Montrose Campus',\n",
       " 'James J. Peters VA Medical Center',\n",
       " 'VA New York Harbor Healthcare System - Manhattan Campus',\n",
       " 'VA New York Harbor Healthcare System - Brooklyn Campus',\n",
       " 'Syracuse VA Medical Center',\n",
       " 'Keller Army Community Hospital',\n",
       " 'Northport VA Medical Center',\n",
       " 'Naval Hospital Camp Lejeune',\n",
       " 'Durham VA Medical Center',\n",
       " 'Fayetteville VA Medical Center',\n",
       " 'W. G. (Bill) Hefner VA Medical Center - Salisbury, NC',\n",
       " 'Charles George VA Medical Center - Asheville NC',\n",
       " 'Fargo VA Health Care System',\n",
       " 'Cincinnati VA Medical Center',\n",
       " 'Cleveland VA Medical Center',\n",
       " 'Dayton VA Medical Center',\n",
       " 'Chillicothe VA Medical Center',\n",
       " '88th Medical Group - Wright-Patterson Air Force Base Medical Center',\n",
       " 'Jack C. Montgomery VA Medical Center',\n",
       " 'Oklahoma City VA Medical Center',\n",
       " 'Portland VA Medical Center',\n",
       " 'Roseburg VA Health Care System',\n",
       " 'James E. Van Zandt VA Medical Center - Altoona, PA',\n",
       " 'VA Butler Healthcare',\n",
       " 'Coatesville VA Medical Center',\n",
       " 'Erie VA Medical Center',\n",
       " 'Lebanon VA Medical Center',\n",
       " 'Corporal Michael J.Crescenz VAMC',\n",
       " 'VA Pittsburgh Healthcare System - University Drive Campus',\n",
       " 'Wilkes-Barre VA Medical Center',\n",
       " 'Naval Hospital Beaufort',\n",
       " 'Columbia VA Health Care System',\n",
       " 'Ralph H. Johnson VA Medical Center',\n",
       " 'VA Black Hills Health Care System - Fort Meade Campus',\n",
       " 'Sioux Falls VA Medical Center',\n",
       " 'Memphis VA Medical Center',\n",
       " 'James H. Quillen VA Medical Center',\n",
       " 'VA Tennessee Valley Healthcare System - Nashville Campus',\n",
       " 'Valley Baptist Medical Center - Harlingen',\n",
       " 'Thomas E. Creek VA Medical Center',\n",
       " 'West Texas VA Health Care System',\n",
       " 'Dallas VA Medical Center',\n",
       " 'San Antonio Military Medical Center North - Brooke Army Medical Center',\n",
       " 'Carl R. Darnall Army Medical Center',\n",
       " 'Kerrville VA Hospital',\n",
       " \"Central Texas Veterans Health Care System - Olin E. Teague Veterans' Center\",\n",
       " 'George E. Wahlen Department of Veterans Affairs Medical Center',\n",
       " 'Fort Belvoir Community Hospital',\n",
       " 'McDonald Army Health Center',\n",
       " 'Hampton VA Medical Center',\n",
       " 'Naval Medical Center Portsmouth',\n",
       " 'Salem VA Medical Center',\n",
       " 'Madigan Army Medical Center',\n",
       " 'Naval Hospital Bremerton',\n",
       " 'Spokane VA Medical Center',\n",
       " 'Jonathon M. Wainwright Memorial VA Medical Center',\n",
       " 'Naval Hospital Oak Harbor',\n",
       " 'VA Puget Sound Health Care System - Seattle Division',\n",
       " 'Beckley VA Medical Center',\n",
       " 'Louis A. Johnson VA Medical Center',\n",
       " 'Martinsburg VA Medical Center',\n",
       " 'Tomah VA Medical Center',\n",
       " 'Milwaukee VA Medical Center',\n",
       " 'Cheyenne VA Medical Center',\n",
       " 'Sheridan VA Medical Center',\n",
       " 'JBER Elmendorf  Air Force  Base Hospital',\n",
       " 'John L. McClellan Memorial Veterans Hospital',\n",
       " '96th Medical Group - United States Air Force Eglin Regional Hospital',\n",
       " 'Naval Health Clinic Lemoore',\n",
       " 'Mount Regis Center',\n",
       " 'Federal Medical Center Lexington',\n",
       " 'General Leonard Wood Army Community Hospital',\n",
       " 'Weed Army Community Hospital',\n",
       " 'VA Black Hills Health Care System - Hot Springs Campus',\n",
       " \"DMC Hutzel Women's Hospital\",\n",
       " \"UF Health Shands Children's Hospital\",\n",
       " ' VA Pittsburgh Healthcare System - H.J. Heinz Campus',\n",
       " 'Columbus Springs East',\n",
       " 'Doris Miller Department of Veterans Affairs Medical Center',\n",
       " \"The Children's Hospital at OU Medical Center\"]"
      ]
     },
     "execution_count": 40,
     "metadata": {},
     "output_type": "execute_result"
    }
   ],
   "source": [
    "list(hospitals_full.loc[hospitals_full['Type from HIFLD'] == 'MILITARY', 'Facility Name_x'])"
   ]
  },
  {
   "cell_type": "code",
   "execution_count": 26,
   "metadata": {},
   "outputs": [
    {
     "data": {
      "text/plain": [
       "Acute Care Hospitals                  3281\n",
       "Critical Access Hospitals             1355\n",
       "Psychiatric                            572\n",
       "Childrens                               96\n",
       "Acute Care - Department of Defense      35\n",
       "Name: Hospital Type, dtype: int64"
      ]
     },
     "execution_count": 26,
     "metadata": {},
     "output_type": "execute_result"
    }
   ],
   "source": [
    "hospitals_full['Hospi'].value_counts()"
   ]
  },
  {
   "cell_type": "code",
   "execution_count": 31,
   "metadata": {},
   "outputs": [
    {
     "data": {
      "text/plain": [
       "Acute Care Hospitals                  3281\n",
       "Critical Access Hospitals             1355\n",
       "Psychiatric                            572\n",
       "Childrens                               96\n",
       "Acute Care - Department of Defense      35\n",
       "Name: Hospital Type, dtype: int64"
      ]
     },
     "execution_count": 31,
     "metadata": {},
     "output_type": "execute_result"
    }
   ],
   "source": [
    "hospitals_full[\"Hospital Type\"].value_counts()"
   ]
  },
  {
   "cell_type": "code",
   "execution_count": 32,
   "metadata": {},
   "outputs": [
    {
     "data": {
      "text/plain": [
       "Short Term Acute Care    3906\n",
       "Critical Access          1348\n",
       "Psychiatric               753\n",
       "Long Term                 425\n",
       "Rehabilitation            382\n",
       "Childrens                 177\n",
       "Other                      27\n",
       "Name: Type of Facility, dtype: int64"
      ]
     },
     "execution_count": 32,
     "metadata": {},
     "output_type": "execute_result"
    }
   ],
   "source": [
    "hospitals_full[\"Type of Facility\"].value_counts()"
   ]
  },
  {
   "cell_type": "code",
   "execution_count": 11,
   "metadata": {},
   "outputs": [],
   "source": [
    "hospitals_full.to_csv(\"../../data_hospital_level/processed/hospital_level_info_merged_v2.csv\")"
   ]
  }
 ],
 "metadata": {
  "kernelspec": {
   "display_name": "Environment (conda_anaconda3)",
   "language": "python",
   "name": "conda_anaconda3"
  },
  "language_info": {
   "codemirror_mode": {
    "name": "ipython",
    "version": 3
   },
   "file_extension": ".py",
   "mimetype": "text/x-python",
   "name": "python",
   "nbconvert_exporter": "python",
   "pygments_lexer": "ipython3",
   "version": "3.6.6"
  }
 },
 "nbformat": 4,
 "nbformat_minor": 4
}
