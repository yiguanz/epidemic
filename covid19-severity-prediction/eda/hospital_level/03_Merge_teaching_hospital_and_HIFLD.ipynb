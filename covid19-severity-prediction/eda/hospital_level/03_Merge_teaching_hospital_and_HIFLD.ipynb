{
 "cells": [
  {
   "cell_type": "markdown",
   "metadata": {},
   "source": [
    "# Merge teaching hospital and HIFLD"
   ]
  },
  {
   "cell_type": "code",
   "execution_count": 91,
   "metadata": {},
   "outputs": [],
   "source": [
    "import numpy as np\n",
    "import pandas as pd\n",
    "import matplotlib.pyplot as plt\n",
    "import seaborn as sns"
   ]
  },
  {
   "cell_type": "code",
   "execution_count": 2,
   "metadata": {},
   "outputs": [],
   "source": [
    "# load data from data/hospital_level_info\n",
    "hospitals = pd.read_csv(\"../data/hospital_level_info/02_hospital_info.csv\")"
   ]
  },
  {
   "cell_type": "code",
   "execution_count": 4,
   "metadata": {},
   "outputs": [],
   "source": [
    "# load excel data from data/03\n",
    "teaching = pd.read_excel(\n",
    "    \"../data/hospital_level_info//03_teaching_hospital_info.xlsx\",\n",
    "    index_col=0,\n",
    ")"
   ]
  },
  {
   "cell_type": "code",
   "execution_count": 12,
   "metadata": {},
   "outputs": [],
   "source": [
    "# load excel data from data/03\n",
    "bin_data_1 = pd.read_excel(\n",
    "    \"../data/hospital_level_info/05_tbl_usr_rpt_5103.xlsx\")\n",
    "\n",
    "bin_data_2 = pd.read_excel(\n",
    "    \"../data/hospital_level_info/06_tbl_usr_rpt_5104.xlsx\")"
   ]
  },
  {
   "cell_type": "code",
   "execution_count": 79,
   "metadata": {},
   "outputs": [
    {
     "data": {
      "text/plain": [
       "<function numpy.round_(a, decimals=0, out=None)>"
      ]
     },
     "execution_count": 79,
     "metadata": {},
     "output_type": "execute_result"
    }
   ],
   "source": [
    "def get_distance"
   ]
  },
  {
   "cell_type": "code",
   "execution_count": 78,
   "metadata": {},
   "outputs": [
    {
     "data": {
      "text/plain": [
       "0       31.214600\n",
       "1       34.221901\n",
       "2       34.803501\n",
       "3       31.292000\n",
       "4       31.692600\n",
       "5       34.363400\n",
       "6       33.595299\n",
       "7       34.438202\n",
       "8       33.253601\n",
       "9       33.503201\n",
       "10      34.746498\n",
       "11      31.451700\n",
       "12      34.162701\n",
       "13      32.327099\n",
       "14      32.366600\n",
       "15      32.823799\n",
       "16      32.638000\n",
       "17      33.506001\n",
       "18      32.535500\n",
       "19      34.198502\n",
       "20      31.297600\n",
       "21      33.667198\n",
       "22      34.721100\n",
       "23      34.009102\n",
       "24      34.126598\n",
       "25      33.707600\n",
       "26      34.003502\n",
       "27      31.318600\n",
       "28      32.843300\n",
       "29      32.819801\n",
       "          ...    \n",
       "6994    29.889500\n",
       "6995    29.711399\n",
       "6996    39.066601\n",
       "6997    39.743099\n",
       "6998    32.627998\n",
       "6999    32.913399\n",
       "7000    48.215401\n",
       "7001    37.937500\n",
       "7002    44.142300\n",
       "7003    40.702099\n",
       "7004    38.802700\n",
       "7005    38.752399\n",
       "7006    41.532700\n",
       "7007    39.352798\n",
       "7008    34.856098\n",
       "7009    32.782700\n",
       "7010    32.257900\n",
       "7011    39.853298\n",
       "7012    36.132702\n",
       "7013    39.663898\n",
       "7014    25.788401\n",
       "7015    35.622200\n",
       "7016    30.235399\n",
       "7017    26.172199\n",
       "7018    28.957701\n",
       "7019    40.444099\n",
       "7020    43.472500\n",
       "7021    29.402800\n",
       "7022    30.070700\n",
       "7023    33.073299\n",
       "Name: Latitude, Length: 7024, dtype: float64"
      ]
     },
     "execution_count": 78,
     "metadata": {},
     "output_type": "execute_result"
    }
   ],
   "source": [
    "bin_data_1.LAT2 = B"
   ]
  },
  {
   "cell_type": "code",
   "execution_count": 93,
   "metadata": {},
   "outputs": [
    {
     "data": {
      "image/png": "[encoded data removed]",
      "text/plain": [
       "<Figure size 432x288 with 1 Axes>"
      ]
     },
     "metadata": {},
     "output_type": "display_data"
    }
   ],
   "source": [
    "sns.regplot(bin_data_1[\"Total Staffed Beds\"], bin_data_1[\"ICU Beds\"])\n",
    "plt.title(\"ICU beds vs total staffed beds, R = 0.739\")\n",
    "plt.show()"
   ]
  },
  {
   "cell_type": "code",
   "execution_count": 88,
   "metadata": {},
   "outputs": [
    {
     "data": {
      "text/plain": [
       "array([[1.        , 0.73937169],\n",
       "       [0.73937169, 1.        ]])"
      ]
     },
     "execution_count": 88,
     "metadata": {},
     "output_type": "execute_result"
    }
   ],
   "source": [
    "np.corrcoef(bin_data_1[\"Total Staffed Beds\"], bin_data_1[\"ICU Beds\"])"
   ]
  },
  {
   "cell_type": "code",
   "execution_count": 103,
   "metadata": {},
   "outputs": [
    {
     "data": {
      "text/plain": [
       "array([[1.       , 0.7020011],\n",
       "       [0.7020011, 1.       ]])"
      ]
     },
     "execution_count": 103,
     "metadata": {},
     "output_type": "execute_result"
    }
   ],
   "source": [
    "np.corrcoef(temp_data[\"Total Staffed Beds\"], temp_data[\"ICU Beds\"])"
   ]
  },
  {
   "cell_type": "code",
   "execution_count": null,
   "metadata": {},
   "outputs": [],
   "source": [
    "hospitals.join(teaching, how='left', lsuffix='L', rsuffix='R', on=)"
   ]
  },
  {
   "cell_type": "code",
   "execution_count": 109,
   "metadata": {},
   "outputs": [
    {
     "data": {
      "text/plain": [
       "'010001'"
      ]
     },
     "execution_count": 109,
     "metadata": {},
     "output_type": "execute_result"
    }
   ],
   "source": [
    "bin_data_1[\"CMS Certification Number\"][0]"
   ]
  },
  {
   "cell_type": "code",
   "execution_count": 116,
   "metadata": {},
   "outputs": [],
   "source": [
    "teaching_hospitals_CCN = [str(x) for x in teaching.CCN]"
   ]
  },
  {
   "cell_type": "code",
   "execution_count": 120,
   "metadata": {},
   "outputs": [
    {
     "data": {
      "text/plain": [
       "array([False, False, False, ..., False, False, False])"
      ]
     },
     "execution_count": 120,
     "metadata": {},
     "output_type": "execute_result"
    }
   ],
   "source": [
    "np.array([x in teaching_hospitals_CCN for x in bin_data_1[\"CMS Certification Number\"]])"
   ]
  },
  {
   "cell_type": "code",
   "execution_count": 121,
   "metadata": {},
   "outputs": [],
   "source": [
    "bin_data_1[\"Teaching\"] = np.array([x in teaching_hospitals_CCN for x in bin_data_1[\"CMS Certification Number\"]])"
   ]
  },
  {
   "cell_type": "code",
   "execution_count": 122,
   "metadata": {},
   "outputs": [],
   "source": [
    "temp_data = bin_data_1[(bin_data_1[\"ICU Beds\"] > 0) & (bin_data_1[\"Teaching\"] == True)]"
   ]
  },
  {
   "cell_type": "code",
   "execution_count": 129,
   "metadata": {},
   "outputs": [
    {
     "data": {
      "image/png": "[encoded data removed]",
      "text/plain": [
       "<Figure size 432x288 with 1 Axes>"
      ]
     },
     "metadata": {},
     "output_type": "display_data"
    }
   ],
   "source": [
    "sns.regplot(temp_data[\"Total Staffed Beds\"], temp_data[\"ICU Beds\"])\n",
    "plt.title(\"ICU beds vs total staffed beds for teaching hospitals, R = 0.718\")\n",
    "plt.show()"
   ]
  },
  {
   "cell_type": "code",
   "execution_count": 125,
   "metadata": {},
   "outputs": [
    {
     "data": {
      "text/plain": [
       "array([[1.       , 0.7181198],\n",
       "       [0.7181198, 1.       ]])"
      ]
     },
     "execution_count": 125,
     "metadata": {},
     "output_type": "execute_result"
    }
   ],
   "source": [
    "np.corrcoef(temp_data[\"Total Staffed Beds\"], temp_data[\"ICU Beds\"])"
   ]
  },
  {
   "cell_type": "code",
   "execution_count": 133,
   "metadata": {},
   "outputs": [
    {
     "data": {
      "text/html": [
       "<div>\n",
       "<style scoped>\n",
       "    .dataframe tbody tr th:only-of-type {\n",
       "        vertical-align: middle;\n",
       "    }\n",
       "\n",
       "    .dataframe tbody tr th {\n",
       "        vertical-align: top;\n",
       "    }\n",
       "\n",
       "    .dataframe thead th {\n",
       "        text-align: right;\n",
       "    }\n",
       "</style>\n",
       "<table border=\"1\" class=\"dataframe\">\n",
       "  <thead>\n",
       "    <tr style=\"text-align: right;\">\n",
       "      <th></th>\n",
       "      <th>Facility Name</th>\n",
       "      <th>Total Staffed Beds</th>\n",
       "      <th>ICU Beds</th>\n",
       "      <th>Teaching</th>\n",
       "    </tr>\n",
       "  </thead>\n",
       "  <tbody>\n",
       "    <tr>\n",
       "      <th>878</th>\n",
       "      <td>Arkansas Valley Regional Medical Center</td>\n",
       "      <td>552</td>\n",
       "      <td>506</td>\n",
       "      <td>False</td>\n",
       "    </tr>\n",
       "    <tr>\n",
       "      <th>982</th>\n",
       "      <td>AdventHealth Orlando</td>\n",
       "      <td>2826</td>\n",
       "      <td>370</td>\n",
       "      <td>True</td>\n",
       "    </tr>\n",
       "    <tr>\n",
       "      <th>3022</th>\n",
       "      <td>The Minnesota Security Hospital</td>\n",
       "      <td>646</td>\n",
       "      <td>608</td>\n",
       "      <td>False</td>\n",
       "    </tr>\n",
       "    <tr>\n",
       "      <th>3757</th>\n",
       "      <td>New York Presbyterian/Weill Cornell Medical Ce...</td>\n",
       "      <td>2650</td>\n",
       "      <td>290</td>\n",
       "      <td>True</td>\n",
       "    </tr>\n",
       "  </tbody>\n",
       "</table>\n",
       "</div>"
      ],
      "text/plain": [
       "                                          Facility Name  Total Staffed Beds  \\\n",
       "878             Arkansas Valley Regional Medical Center                 552   \n",
       "982                                AdventHealth Orlando                2826   \n",
       "3022                    The Minnesota Security Hospital                 646   \n",
       "3757  New York Presbyterian/Weill Cornell Medical Ce...                2650   \n",
       "\n",
       "      ICU Beds  Teaching  \n",
       "878        506     False  \n",
       "982        370      True  \n",
       "3022       608     False  \n",
       "3757       290      True  "
      ]
     },
     "execution_count": 133,
     "metadata": {},
     "output_type": "execute_result"
    }
   ],
   "source": [
    "bin_data_1[bin_data_1[\"ICU Beds\"] > 250][[\"Facility Name\", \"Total Staffed Beds\", \"ICU Beds\", \"Teaching\"]]"
   ]
  },
  {
   "cell_type": "code",
   "execution_count": 134,
   "metadata": {},
   "outputs": [
    {
     "data": {
      "text/html": [
       "<div>\n",
       "<style scoped>\n",
       "    .dataframe tbody tr th:only-of-type {\n",
       "        vertical-align: middle;\n",
       "    }\n",
       "\n",
       "    .dataframe tbody tr th {\n",
       "        vertical-align: top;\n",
       "    }\n",
       "\n",
       "    .dataframe thead th {\n",
       "        text-align: right;\n",
       "    }\n",
       "</style>\n",
       "<table border=\"1\" class=\"dataframe\">\n",
       "  <thead>\n",
       "    <tr style=\"text-align: right;\">\n",
       "      <th></th>\n",
       "      <th>CMS Certification Number</th>\n",
       "      <th>Facility Name</th>\n",
       "      <th>Street Address</th>\n",
       "      <th>City</th>\n",
       "      <th>State</th>\n",
       "      <th>ZIP</th>\n",
       "      <th>System Affiliation</th>\n",
       "      <th>Type of Facility</th>\n",
       "      <th>Total Employees</th>\n",
       "      <th>Urban or Rural Designation</th>\n",
       "      <th>...</th>\n",
       "      <th>Longitude</th>\n",
       "      <th>Total Acute Beds</th>\n",
       "      <th>Total Staffed Beds</th>\n",
       "      <th>General Med/Surg Beds</th>\n",
       "      <th>ICU Beds</th>\n",
       "      <th>ICU Occupancy Rate</th>\n",
       "      <th>Acute Occupancy Rate</th>\n",
       "      <th>Staffed Occupancy Rate</th>\n",
       "      <th>Registered Nurses</th>\n",
       "      <th>Teaching</th>\n",
       "    </tr>\n",
       "  </thead>\n",
       "  <tbody>\n",
       "    <tr>\n",
       "      <th>878</th>\n",
       "      <td>061336</td>\n",
       "      <td>Arkansas Valley Regional Medical Center</td>\n",
       "      <td>1100  Carson Avenue</td>\n",
       "      <td>La Junta</td>\n",
       "      <td>CO</td>\n",
       "      <td>81050</td>\n",
       "      <td>Not In Any System - ,</td>\n",
       "      <td>Critical Access</td>\n",
       "      <td>279</td>\n",
       "      <td>Rural</td>\n",
       "      <td>...</td>\n",
       "      <td>-103.549004</td>\n",
       "      <td>522</td>\n",
       "      <td>552</td>\n",
       "      <td>16</td>\n",
       "      <td>506</td>\n",
       "      <td>0.273973</td>\n",
       "      <td>1.778722</td>\n",
       "      <td>6.749553</td>\n",
       "      <td>64</td>\n",
       "      <td>False</td>\n",
       "    </tr>\n",
       "    <tr>\n",
       "      <th>982</th>\n",
       "      <td>100007</td>\n",
       "      <td>AdventHealth Orlando</td>\n",
       "      <td>601 East Rollins Street</td>\n",
       "      <td>Orlando</td>\n",
       "      <td>FL</td>\n",
       "      <td>32803</td>\n",
       "      <td>AdventHealth - Altamonte Springs, FL</td>\n",
       "      <td>Short Term Acute Care</td>\n",
       "      <td>18112</td>\n",
       "      <td>Urban</td>\n",
       "      <td>...</td>\n",
       "      <td>-81.369904</td>\n",
       "      <td>2753</td>\n",
       "      <td>2826</td>\n",
       "      <td>2256</td>\n",
       "      <td>370</td>\n",
       "      <td>65.780822</td>\n",
       "      <td>65.823286</td>\n",
       "      <td>66.189687</td>\n",
       "      <td>4874</td>\n",
       "      <td>True</td>\n",
       "    </tr>\n",
       "    <tr>\n",
       "      <th>3022</th>\n",
       "      <td>244004</td>\n",
       "      <td>The Minnesota Security Hospital</td>\n",
       "      <td>100 Freeman Drive</td>\n",
       "      <td>Saint Peter</td>\n",
       "      <td>MN</td>\n",
       "      <td>56082</td>\n",
       "      <td>Minnesota Department of Human Services - Saint...</td>\n",
       "      <td>Psychiatric</td>\n",
       "      <td>1008</td>\n",
       "      <td>Rural</td>\n",
       "      <td>...</td>\n",
       "      <td>-93.975502</td>\n",
       "      <td>646</td>\n",
       "      <td>646</td>\n",
       "      <td>38</td>\n",
       "      <td>608</td>\n",
       "      <td>84.180786</td>\n",
       "      <td>82.197294</td>\n",
       "      <td>82.197294</td>\n",
       "      <td>18</td>\n",
       "      <td>False</td>\n",
       "    </tr>\n",
       "    <tr>\n",
       "      <th>3757</th>\n",
       "      <td>330101</td>\n",
       "      <td>New York Presbyterian/Weill Cornell Medical Ce...</td>\n",
       "      <td>525 East 68th Street</td>\n",
       "      <td>New York</td>\n",
       "      <td>NY</td>\n",
       "      <td>10065</td>\n",
       "      <td>New York-Presbyterian Healthcare System - New ...</td>\n",
       "      <td>Short Term Acute Care</td>\n",
       "      <td>26491</td>\n",
       "      <td>Rural</td>\n",
       "      <td>...</td>\n",
       "      <td>-73.955299</td>\n",
       "      <td>2272</td>\n",
       "      <td>2650</td>\n",
       "      <td>1792</td>\n",
       "      <td>290</td>\n",
       "      <td>62.764289</td>\n",
       "      <td>84.540083</td>\n",
       "      <td>84.460998</td>\n",
       "      <td>4756</td>\n",
       "      <td>True</td>\n",
       "    </tr>\n",
       "  </tbody>\n",
       "</table>\n",
       "<p>4 rows × 21 columns</p>\n",
       "</div>"
      ],
      "text/plain": [
       "     CMS Certification Number  \\\n",
       "878                    061336   \n",
       "982                    100007   \n",
       "3022                   244004   \n",
       "3757                   330101   \n",
       "\n",
       "                                          Facility Name  \\\n",
       "878             Arkansas Valley Regional Medical Center   \n",
       "982                                AdventHealth Orlando   \n",
       "3022                    The Minnesota Security Hospital   \n",
       "3757  New York Presbyterian/Weill Cornell Medical Ce...   \n",
       "\n",
       "               Street Address         City State    ZIP  \\\n",
       "878       1100  Carson Avenue     La Junta    CO  81050   \n",
       "982   601 East Rollins Street      Orlando    FL  32803   \n",
       "3022        100 Freeman Drive  Saint Peter    MN  56082   \n",
       "3757     525 East 68th Street     New York    NY  10065   \n",
       "\n",
       "                                     System Affiliation  \\\n",
       "878                               Not In Any System - ,   \n",
       "982                AdventHealth - Altamonte Springs, FL   \n",
       "3022  Minnesota Department of Human Services - Saint...   \n",
       "3757  New York-Presbyterian Healthcare System - New ...   \n",
       "\n",
       "           Type of Facility  Total Employees Urban or Rural Designation  ...  \\\n",
       "878         Critical Access              279                      Rural  ...   \n",
       "982   Short Term Acute Care            18112                      Urban  ...   \n",
       "3022            Psychiatric             1008                      Rural  ...   \n",
       "3757  Short Term Acute Care            26491                      Rural  ...   \n",
       "\n",
       "       Longitude  Total Acute Beds  Total Staffed Beds  General Med/Surg Beds  \\\n",
       "878  -103.549004               522                 552                     16   \n",
       "982   -81.369904              2753                2826                   2256   \n",
       "3022  -93.975502               646                 646                     38   \n",
       "3757  -73.955299              2272                2650                   1792   \n",
       "\n",
       "      ICU Beds  ICU Occupancy Rate  Acute Occupancy Rate  \\\n",
       "878        506            0.273973              1.778722   \n",
       "982        370           65.780822             65.823286   \n",
       "3022       608           84.180786             82.197294   \n",
       "3757       290           62.764289             84.540083   \n",
       "\n",
       "      Staffed Occupancy Rate  Registered Nurses  Teaching  \n",
       "878                 6.749553                 64     False  \n",
       "982                66.189687               4874      True  \n",
       "3022               82.197294                 18     False  \n",
       "3757               84.460998               4756      True  \n",
       "\n",
       "[4 rows x 21 columns]"
      ]
     },
     "execution_count": 134,
     "metadata": {},
     "output_type": "execute_result"
    }
   ],
   "source": [
    "bin_data_1[bin_data_1[\"ICU Beds\"] > 250]"
   ]
  },
  {
   "cell_type": "code",
   "execution_count": 135,
   "metadata": {},
   "outputs": [
    {
     "data": {
      "text/plain": [
       "Short Term Acute Care    933\n",
       "Childrens                 27\n",
       "Long Term                  1\n",
       "Name: Type of Facility, dtype: int64"
      ]
     },
     "execution_count": 135,
     "metadata": {},
     "output_type": "execute_result"
    }
   ],
   "source": [
    "temp_data = temp_data[temp_data[\"Type of Facility\"] == \"Short Term Acute Care\"]"
   ]
  },
  {
   "cell_type": "code",
   "execution_count": 137,
   "metadata": {},
   "outputs": [
    {
     "data": {
      "text/plain": [
       "Index(['X', 'Y', 'OBJECTID', 'ID', 'NAME', 'ADDRESS', 'CITY', 'STATE', 'ZIP',\n",
       "       'ZIP4', 'TELEPHONE', 'TYPE', 'STATUS', 'POPULATION', 'COUNTY',\n",
       "       'COUNTYFIPS', 'COUNTRY', 'LATITUDE', 'LONGITUDE', 'NAICS_CODE',\n",
       "       'NAICS_DESC', 'SOURCE', 'SOURCEDATE', 'VAL_METHOD', 'VAL_DATE',\n",
       "       'WEBSITE', 'STATE_ID', 'ALT_NAME', 'ST_FIPS', 'OWNER', 'TTL_STAFF',\n",
       "       'BEDS', 'TRAUMA', 'HELIPAD'],\n",
       "      dtype='object')"
      ]
     },
     "execution_count": 137,
     "metadata": {},
     "output_type": "execute_result"
    }
   ],
   "source": [
    "hospitals.columns"
   ]
  },
  {
   "cell_type": "code",
   "execution_count": 147,
   "metadata": {},
   "outputs": [],
   "source": [
    "county_fips_dict = {}\n",
    "for i in range(hospitals.shape[0]):\n",
    "    county_fips_dict[hospitals[\"COUNTY\"][i]] = hospitals[\"COUNTYFIPS\"][i]"
   ]
  },
  {
   "cell_type": "code",
   "execution_count": 151,
   "metadata": {},
   "outputs": [
    {
     "data": {
      "text/plain": [
       "['county_fips_dict']"
      ]
     },
     "execution_count": 151,
     "metadata": {},
     "output_type": "execute_result"
    }
   ],
   "source": [
    "import joblib\n",
    "joblib.dump(county_fips_dict, \"county_fips_dict\")"
   ]
  },
  {
   "cell_type": "code",
   "execution_count": null,
   "metadata": {},
   "outputs": [],
   "source": []
  }
 ],
 "metadata": {
  "kernelspec": {
   "display_name": "Environment (conda_anaconda3)",
   "language": "python",
   "name": "conda_anaconda3"
  },
  "language_info": {
   "codemirror_mode": {
    "name": "ipython",
    "version": 3
   },
   "file_extension": ".py",
   "mimetype": "text/x-python",
   "name": "python",
   "nbconvert_exporter": "python",
   "pygments_lexer": "ipython3",
   "version": "3.6.6"
  }
 },
 "nbformat": 4,
 "nbformat_minor": 4
}
