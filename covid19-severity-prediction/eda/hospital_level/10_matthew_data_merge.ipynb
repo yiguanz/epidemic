{
 "cells": [
  {
   "cell_type": "markdown",
   "metadata": {},
   "source": [
    "# Merge matthew's team notes with hospital data"
   ]
  },
  {
   "cell_type": "code",
   "execution_count": 22,
   "metadata": {},
   "outputs": [],
   "source": [
    "import numpy as np\n",
    "import pandas as pd\n",
    "from tqdm import tqdm\n",
    "import matplotlib.pyplot as plt\n",
    "from os.path import join as oj"
   ]
  },
  {
   "cell_type": "code",
   "execution_count": 24,
   "metadata": {},
   "outputs": [
    {
     "name": "stdout",
     "output_type": "stream",
     "text": [
      "final shapes before 7143 after 7143\n",
      "keys before 187 after 193\n",
      "['Number to Call (NTC)', 'some_donation_info', 'Donation Phone Number', 'Donation Email', 'Type (donation)', 'Notes']\n",
      "amount of filled in rows 135 134\n"
     ]
    }
   ],
   "source": [
    "# load data\n",
    "hosp_dir = '../../data_hospital_level/processed/'\n",
    "hospital_full = pd.read_csv(oj(hosp_dir, \"04_hospital_level_info_merged_with_website.csv\"))\n",
    "mat_data = pd.read_csv(\"../../data/contact_info/matthew.txt\", delimiter='\\t') \n",
    "del mat_data[\"Unnamed: 13\"]\n",
    "mat_data.keys()\n",
    "\n",
    "# merge data\n",
    "mat_data[\"some_donation_info\"] = ~mat_data[\"Donation Phone Number\"].isnull() | ~mat_data[\"Donation Email\"].isnull()\n",
    "mat_data = mat_data[['Facility Name_x', 'County Name_x', 'City_x', 'State_x', \"TIN\", 'Number to Call (NTC)','some_donation_info', \n",
    "                     'Donation Phone Number', 'Donation Email', 'Type (donation)', 'Notes',]]\n",
    "hospital_merge = pd.merge(hospital_full, mat_data, 'left', \n",
    "                          left_on = ['Facility Name_x', 'County Name_x', 'City_x', 'State_x', \"TIN\", \n",
    "                                    ], \n",
    "                          right_on=['Facility Name_x', 'County Name_x', 'City_x', 'State_x', \"TIN\", \n",
    "                                   ])\n",
    "\n",
    "# analyze output\n",
    "print('final shapes', 'before', len(hospital_full), \n",
    "      'after', len(hospital_merge))\n",
    "print('keys before', len(hospital_full.keys()), 'after', len(hospital_merge.keys()))\n",
    "print([k for k in hospital_merge.keys() if not k in hospital_full.keys()])\n",
    "print('amount of filled in rows', mat_data.some_donation_info.sum(), hospital_merge.some_donation_info.sum())"
   ]
  },
  {
   "cell_type": "code",
   "execution_count": 25,
   "metadata": {},
   "outputs": [],
   "source": [
    "hospital_merge.to_csv(oj(hosp_dir, '10_hospital_level_info_merged_with_callnotes.csv'))"
   ]
  }
 ],
 "metadata": {
  "kernelspec": {
   "display_name": "Python 3",
   "language": "python",
   "name": "python3"
  },
  "language_info": {
   "codemirror_mode": {
    "name": "ipython",
    "version": 3
   },
   "file_extension": ".py",
   "mimetype": "text/x-python",
   "name": "python",
   "nbconvert_exporter": "python",
   "pygments_lexer": "ipython3",
   "version": "3.7.5"
  }
 },
 "nbformat": 4,
 "nbformat_minor": 4
}
