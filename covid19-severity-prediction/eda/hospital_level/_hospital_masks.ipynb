{
 "cells": [
  {
   "cell_type": "code",
   "execution_count": 1,
   "metadata": {},
   "outputs": [
    {
     "name": "stdout",
     "output_type": "stream",
     "text": [
      "# unmatched hospitals: 598\n",
      "# matched hospitals: 6545\n",
      "# academic matched hospitals: 1215\n",
      "# academic matched hospitals w/ ICU beds: 1087\n"
     ]
    }
   ],
   "source": [
    "%load_ext autoreload\n",
    "%autoreload 2\n",
    "import numpy as np\n",
    "import scipy as sp\n",
    "import pandas as pd\n",
    "import matplotlib.pyplot as plt\n",
    "from os.path import join as oj\n",
    "import math\n",
    "import pygsheets\n",
    "import pickle as pkl\n",
    "import pandas as pd\n",
    "import load_data\n",
    "import sys\n",
    "sys.path.append('modeling')\n",
    "import exponential_modeling\n",
    "\n",
    "outcomes = ['tot_cases', 'tot_deaths']\n",
    "df_hospital = load_data.load_hospital_level()\n",
    "df_county = load_data.load_county_level()\n",
    "outcome_cases = [k for k in df_county.keys() if '#Cases' in k][-1]\n",
    "df_county = df_county.sort_values(outcome_cases, ascending=False)\n",
    "NUM_DAYS_LIST = [1, 3, 5]\n",
    "# df_county = exponential_modeling.estimate_deaths(df_county) # adds key \n",
    "for num_days_in_future in NUM_DAYS_LIST: # 1 is tomorrow\n",
    "    df_county = exponential_modeling.estimate_cases(df_county, \n",
    "                                                     method='exponential',\n",
    "                                                     target_day=[num_days_in_future],\n",
    "                                                     output_key=f'Predicted Deaths {num_days_in_future}-day') # adds key \n",
    "df = df_hospital.merge(df_county, how='left', on='countyFIPS')\n",
    "df[outcomes] = df[outcomes].fillna(0)\n",
    "\n",
    "# note this many hospitals couldn't be matched to a county - we don't know how to include them!\n",
    "print('# unmatched hospitals:', df['countyFIPS'].isna().sum())\n",
    "print('# matched hospitals:', (~df['countyFIPS'].isna()).sum())\n",
    "print('# academic matched hospitals:', (~df['countyFIPS'].isna() & df['IsAcademicHospital']).sum())\n",
    "print('# academic matched hospitals w/ ICU beds:', (~df['countyFIPS'].isna() & \n",
    "                                                    df['IsAcademicHospital'] &\n",
    "                                                    df['ICU Beds'] > 0).sum())"
   ]
  },
  {
   "cell_type": "markdown",
   "metadata": {},
   "source": [
    "- we filter by academic hospitals since they seem to have enough personnel to deal with extra ventilators\n",
    "- we also filter to only include hospitals w/ ICU beds\n",
    "- unfortunately we don't look into FQHCs, as they may not be the place to receive urgent ventilator care\n",
    "- might want to up-weight larger hospitals, as they might have more capacity\n",
    "- 10-20% ventilators will be used for other stuff\n",
    "- use income information?"
   ]
  },
  {
   "cell_type": "code",
   "execution_count": 2,
   "metadata": {},
   "outputs": [],
   "source": [
    "# rename keys\n",
    "remap = {\n",
    "    'tot_deaths': 'Tot Deaths',\n",
    "    'tot_cases': 'Tot Cases',\n",
    "}\n",
    "df = df.rename(columns=remap)\n",
    "\n",
    "# aggregate employees by county\n",
    "total_emp_county = df.groupby('countyFIPS').agg({'Hospital Employees': 'sum'})\n",
    "total_emp_county = total_emp_county.rename(columns={'Hospital Employees': 'Hospital Employees in County'})\n",
    "df_county = pd.merge(df_county, total_emp_county, how='left', on='countyFIPS')\n",
    "df = pd.merge(df, total_emp_county, how='left', on='countyFIPS')\n",
    "\n",
    "# filter hospitals\n",
    "df = df[~df['countyFIPS'].isna() & df['IsAcademicHospital'] & df['Hospital Employees'] > 0]\n",
    "df = df.sort_values(by=['Tot Cases', 'Hospital Employees'], ascending=False)\n",
    "\n",
    "# fraction of employees out of all county hospitals\n",
    "df['Frac Hospital Employees of County'] = df['Hospital Employees'] / df['Hospital Employees in County']\n",
    "\n",
    "# get predicted #cases\n",
    "for n in NUM_DAYS_LIST:\n",
    "    df[f'Mask Demand {n}-day'] = (df['Tot Cases'] * 5 * df['Frac Hospital Employees of County']).fillna(0)\n",
    "    df[f'Mask Supply {n}-day'] = df['Hospital Employees'].fillna(0)\n",
    "    df[f'Mask Needed {n}-day'] = df[f'Mask Demand {n}-day'] - df[f'Mask Supply {n}-day']\n",
    "    df[f'Mask Needed {n}-day'] = df[f'Mask Needed {n}-day'].apply(lambda x: max(0, x)).astype(int)\n",
    "df['Num Shipped'] = 0"
   ]
  },
  {
   "cell_type": "code",
   "execution_count": 3,
   "metadata": {},
   "outputs": [],
   "source": [
    "# make smaller df\n",
    "outcome_keys = ['Tot Cases', 'Tot Deaths']\n",
    "mask_keys = []\n",
    "for n in NUM_DAYS_LIST:\n",
    "    for k in ['Mask Needed', 'Mask Demand', 'Mask Supply']:\n",
    "        mask_keys.append(k + f' {n}-day')\n",
    "\n",
    "county_info_keys = ['County Name']\n",
    "county_meta_keys = ['Hospital Employees in County', 'City']\n",
    "hospital_keys = ['Facility Name']\n",
    "hospital_contact_keys = ['Website',  'Phone Number']\n",
    "hospital_meta_keys = ['ICU Beds', 'Total Beds', 'Hospital Employees', 'Hospital Type',\n",
    "                      'Frac Hospital Employees of County', 'Mortality national comparison',\n",
    "                      'Urban or Rural Designation']\n",
    "\n",
    "# d contains all these keys\n",
    "d = df[outcome_keys + mask_keys + county_info_keys + county_meta_keys + \\\n",
    "       hospital_keys + hospital_contact_keys + hospital_meta_keys + \\\n",
    "       ['Num Shipped', 'CMS Certification Number', 'countyFIPS']].round(2)\n",
    "\n",
    "# things to output\n",
    "d_mask = d[mask_keys + hospital_keys + county_info_keys + ['CMS Certification Number', 'countyFIPS'] ]\n",
    "contact_df_keys = hospital_keys + county_info_keys + ['City'] + hospital_contact_keys + ['CMS Certification Number', 'countyFIPS'] \n",
    "d_contact = d[contact_df_keys]\n",
    "d_shipped = df[['Num Shipped'] + hospital_keys + county_info_keys + ['CMS Certification Number', 'countyFIPS']]\n",
    "d_full = d.drop(hospital_contact_keys, axis='columns')"
   ]
  },
  {
   "cell_type": "code",
   "execution_count": 4,
   "metadata": {},
   "outputs": [],
   "source": [
    "# contact info per county\n",
    "remap2 = {\n",
    "    'tot_cases': 'Tot Cases'\n",
    "}\n",
    "df_county_keys = ['CountyName', 'countyFIPS', 'Tot Cases']\n",
    "df_county = df_county.rename(columns=remap2)\n",
    "df_c = df_county[df_county_keys]"
   ]
  },
  {
   "cell_type": "markdown",
   "metadata": {},
   "source": [
    "**look at most affected hospitals**"
   ]
  },
  {
   "cell_type": "code",
   "execution_count": 5,
   "metadata": {},
   "outputs": [],
   "source": [
    "# d.groupby('countyFIPS').head(1).head(8) # look at top counties"
   ]
  },
  {
   "cell_type": "markdown",
   "metadata": {},
   "source": [
    "# export to google sheets"
   ]
  },
  {
   "cell_type": "markdown",
   "metadata": {},
   "source": [
    "- requires a creds.json file in the root directory\n",
    "- need to make a sheet and share it with `chandan@r4l-predictions.iam.gserviceaccount.com`\n",
    "- full hospitals spreadsheet: https://docs.google.com/spreadsheets/d/1bEtoXmlWDKLLDwUdjOC_Jx1aIqYGAbP_7oBtIXDLxWg/edit#gid=0"
   ]
  },
  {
   "cell_type": "code",
   "execution_count": null,
   "metadata": {},
   "outputs": [],
   "source": [
    "gc = pygsheets.authorize(service_file='creds.json')\n",
    "\n",
    "#open the google spreadsheet (where 'PY to Gsheet Test' is the name of my sheet)\n",
    "sheet_name = 'Mask Demand Prediction'\n",
    "sh = gc.open(sheet_name) # name of the hospital\n",
    "\n",
    "# masks\n",
    "wks = sh[0] #select a sheet\n",
    "wks.update_value('A1', \"Note: this sheet is read-only (automatically generated by the data and model)\")\n",
    "wks.set_dataframe(d_mask, (3, 1)) #update the first sheet with df, starting at cell B2. \n",
    "\n",
    "# full metadata\n",
    "wks = sh[1]\n",
    "wks.update_value('A1', \"Note: this sheet is read-only (automatically generated by the data and model)\")\n",
    "wks.set_dataframe(d_full, (3, 1))\n",
    "\n",
    "# full metadata\n",
    "wks = sh[2]\n",
    "wks.update_value('A1', \"Note: this sheet keeps track of number of shipped ventilators)\")\n",
    "wks.set_dataframe(d_shipped, (3, 1))"
   ]
  }
 ],
 "metadata": {
  "kernelspec": {
   "display_name": "Python 3",
   "language": "python",
   "name": "python3"
  },
  "language_info": {
   "codemirror_mode": {
    "name": "ipython",
    "version": 3
   },
   "file_extension": ".py",
   "mimetype": "text/x-python",
   "name": "python",
   "nbconvert_exporter": "python",
   "pygments_lexer": "ipython3",
   "version": "3.7.5"
  }
 },
 "nbformat": 4,
 "nbformat_minor": 4
}
