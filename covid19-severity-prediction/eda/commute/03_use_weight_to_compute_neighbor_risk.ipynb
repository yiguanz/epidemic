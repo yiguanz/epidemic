{
 "cells": [
  {
   "cell_type": "markdown",
   "metadata": {},
   "source": [
    "# Compute neighbor risk"
   ]
  },
  {
   "cell_type": "code",
   "execution_count": 35,
   "metadata": {},
   "outputs": [],
   "source": [
    "import pandas as pd\n",
    "import numpy as np\n",
    "from datetime import datetime\n",
    "import matplotlib.pyplot as plt"
   ]
  },
  {
   "cell_type": "code",
   "execution_count": 2,
   "metadata": {},
   "outputs": [],
   "source": [
    "# load data\n",
    "weight = pd.read_csv(\n",
    "    \"../../intermediate/05_spread_score.csv\",\n",
    "    index_col=0,\n",
    "    dtype={'Resident County FIPS':str, 'Work County FIPS':str},\n",
    ")"
   ]
  },
  {
   "cell_type": "code",
   "execution_count": 3,
   "metadata": {},
   "outputs": [],
   "source": [
    "# preprocess drop the flow from place A to itself\n",
    "weight = weight[weight['Resident County FIPS'] != weight['Work County FIPS']]"
   ]
  },
  {
   "cell_type": "code",
   "execution_count": 4,
   "metadata": {},
   "outputs": [],
   "source": [
    "# load data\n",
    "usafacts = pd.read_csv(\"../../data/usafacts/confirmed_cases.csv\", dtype={'countyFIPS':str})"
   ]
  },
  {
   "cell_type": "code",
   "execution_count": 5,
   "metadata": {},
   "outputs": [],
   "source": [
    "# preprocess drop rows with countyFIPS 0 and select some cols\n",
    "usafacts['countyFIPS'] = usafacts['countyFIPS'].str.zfill(5)\n",
    "usafacts = usafacts[usafacts['countyFIPS'] != '00000']\n",
    "data = usafacts.drop(['County Name', 'State', 'stateFIPS'],axis=1)\n",
    "# make sure the data is monotonic\n",
    "for col_ind in reversed(range(1, data.shape[1] - 1)):\n",
    "    data.iloc[:, col_ind] = np.minimum(data.iloc[:, col_ind], data.iloc[:, col_ind+1])\n",
    "data.columns = ['countyFIPS'] + ['Cases_' + datetime.strptime(x, '%m/%d/%y').strftime('%m-%d-%Y') for x in data.columns[1:]]"
   ]
  },
  {
   "cell_type": "code",
   "execution_count": 6,
   "metadata": {},
   "outputs": [],
   "source": [
    "# preprocess to long format\n",
    "long = pd.wide_to_long(data, stubnames='Cases', i='countyFIPS', j='Date', sep='_', suffix='.*').reset_index()"
   ]
  },
  {
   "cell_type": "code",
   "execution_count": 7,
   "metadata": {},
   "outputs": [],
   "source": [
    "# compute the score\n",
    "neighbor_risk = long.merge(\n",
    "    weight,\n",
    "    left_on='countyFIPS',\n",
    "    right_on='Resident County FIPS',\n",
    ").drop(\n",
    "    ['countyFIPS', 'Resident County FIPS'], axis=1\n",
    ").assign(\n",
    "    raw_weight=lambda x: x['Cases'] * x['raw_weight'],\n",
    "    work_weight=lambda x: x['Cases'] * x['work_weight'],\n",
    "    resident_weight=lambda x: x['Cases'] * x['resident_weight'],\n",
    ").groupby(['Work County FIPS', 'Date']).agg({\n",
    "    'raw_weight': np.sum,\n",
    "    'resident_weight': np.sum,\n",
    "    'work_weight': np.sum,\n",
    "}).reset_index()\n"
   ]
  },
  {
   "cell_type": "code",
   "execution_count": 86,
   "metadata": {},
   "outputs": [],
   "source": [
    "# preprocess long to wide\n",
    "neighbor_risk_raw = neighbor_risk[\n",
    "    ['Work County FIPS', 'Date', 'raw_weight']\n",
    "].pivot(\n",
    "    index='Work County FIPS',\n",
    "    columns='Date',\n",
    "    values='raw_weight',\n",
    ").reset_index()\n",
    "neighbor_risk_raw.columns = ['countyFIPS'] + list(neighbor_risk_raw.columns[1:])"
   ]
  },
  {
   "cell_type": "code",
   "execution_count": 91,
   "metadata": {},
   "outputs": [
    {
     "name": "stdout",
     "output_type": "stream",
     "text": [
      "        County Name State countyFIPS\n",
      "3093  Nevada County    CA      06057\n"
     ]
    },
    {
     "data": {
      "image/png": "[encoded data removed]",
      "text/plain": [
       "<Figure size 432x288 with 1 Axes>"
      ]
     },
     "metadata": {},
     "output_type": "display_data"
    }
   ],
   "source": [
    "# visualize the raw_risk and the confirmed cases at some county\n",
    "fips = usafacts.loc[usafacts['County Name'] == 'Nevada County', 'countyFIPS'].iloc[1]\n",
    "print(usafacts.loc[usafacts['countyFIPS'] == fips, ['County Name', 'State', 'countyFIPS']])\n",
    "fips_risk = neighbor_risk_raw[neighbor_risk_raw['countyFIPS'] == fips].iloc[:,1:].T\n",
    "plt.plot(\n",
    "    [datetime.strptime(x, '%m-%d-%Y') for x in fips_risk.index],\n",
    "    fips_risk.values / np.max(fips_risk.values),\n",
    ")\n",
    "fips_confirmed = usafacts[usafacts['countyFIPS'] == fips].iloc[:, 4:].T\n",
    "plt.plot(\n",
    "    [datetime.strptime(x, '%m/%d/%y') for x in fips_confirmed.index],\n",
    "    fips_confirmed.values / np.max(fips_confirmed.values),\n",
    ")\n",
    "plt.xticks(rotation=90)\n",
    "plt.legend(['neighbor risk', 'confirmed cases'])\n",
    "plt.show()"
   ]
  },
  {
   "cell_type": "code",
   "execution_count": 93,
   "metadata": {},
   "outputs": [],
   "source": [
    "# save data\n",
    "neighbor_risk_raw.to_csv(\"../../intermediate/06_neighbor_risk_raw.csv\", index=False)"
   ]
  }
 ],
 "metadata": {
  "kernelspec": {
   "display_name": "Python 3",
   "language": "python",
   "name": "python3"
  },
  "language_info": {
   "codemirror_mode": {
    "name": "ipython",
    "version": 3
   },
   "file_extension": ".py",
   "mimetype": "text/x-python",
   "name": "python",
   "nbconvert_exporter": "python",
   "pygments_lexer": "ipython3",
   "version": "3.6.6"
  }
 },
 "nbformat": 4,
 "nbformat_minor": 4
}
